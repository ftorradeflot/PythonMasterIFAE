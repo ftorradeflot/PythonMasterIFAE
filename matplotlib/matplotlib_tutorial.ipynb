{
 "cells": [
  {
   "cell_type": "markdown",
   "id": "07be0902",
   "metadata": {},
   "source": [
    "# Visualisation using\n",
    "\n",
    "![Matplotlib](http://upload.wikimedia.org/wikipedia/en/5/56/Matplotlib_logo.svg)"
   ]
  },
  {
   "cell_type": "markdown",
   "id": "385d2a65",
   "metadata": {},
   "source": [
    "<a id=setup></a>\n",
    "# Notebook Setup (run me first!)"
   ]
  },
  {
   "cell_type": "markdown",
   "id": "798d0fd4",
   "metadata": {},
   "source": [
    "First, we apply a \"magic command\" to make plots appear \"inline\" inside the notebook"
   ]
  },
  {
   "cell_type": "code",
   "execution_count": null,
   "id": "2ce227b7",
   "metadata": {},
   "outputs": [],
   "source": [
    "# matplotlib inline plotting\n",
    "# %matplotlib inline\n",
    "\n",
    "# There's also a backend for interactive exploration\n",
    "%matplotlib ipympl"
   ]
  },
  {
   "cell_type": "code",
   "execution_count": null,
   "id": "432abdc0",
   "metadata": {},
   "outputs": [],
   "source": [
    "import matplotlib.pyplot as plt\n",
    "import numpy as np\n",
    "from IPython.display import HTML\n",
    "from pathlib import Path\n",
    "\n",
    "# Make the size and fonts larger for this presentation\n",
    "plt.rcParams['figure.figsize'] = (10, 6)\n",
    "plt.rcParams['font.size'] = 16\n",
    "plt.rcParams['lines.linewidth'] = 2"
   ]
  },
  {
   "cell_type": "markdown",
   "id": "9ae06167",
   "metadata": {},
   "source": [
    "<a id=line_plots></a>\n",
    "# Line Plots"
   ]
  },
  {
   "cell_type": "code",
   "execution_count": null,
   "id": "bf921f3d",
   "metadata": {},
   "outputs": [],
   "source": [
    "x = np.linspace(0, 1, 101) # 101 numbers from 0 to 1\n",
    "\n",
    "plt.plot(x, x**2)"
   ]
  },
  {
   "cell_type": "markdown",
   "id": "3af46668",
   "metadata": {},
   "source": [
    "<a id=different_styles></a>\n",
    "## Using different styles for plots"
   ]
  },
  {
   "cell_type": "code",
   "execution_count": null,
   "id": "1a1bcb9a",
   "metadata": {},
   "outputs": [],
   "source": [
    "t = np.linspace(0, 2 * np.pi)   # 50 points between 0 and 2π\n",
    "plt.plot(t, np.sin(t));"
   ]
  },
  {
   "cell_type": "code",
   "execution_count": null,
   "id": "0241e485",
   "metadata": {},
   "outputs": [],
   "source": [
    "plt.plot(t, np.sin(t), '--');"
   ]
  },
  {
   "cell_type": "code",
   "execution_count": null,
   "id": "e414d292",
   "metadata": {},
   "outputs": [],
   "source": [
    "plt.plot(t, np.sin(t), 'go')\n",
    "# plt.plot(t, np.sin(t), color='green', marker='o', linestyle='');   # same thing!"
   ]
  },
  {
   "cell_type": "code",
   "execution_count": null,
   "id": "39234a7b",
   "metadata": {},
   "outputs": [],
   "source": [
    "# new in matplotlib 2.0, all colors of the color rotation available as C<N>\n",
    "# Multiple lines in the same plot\n",
    "x = np.linspace(0, 1, 100)\n",
    "for n in range(9):\n",
    "    plt.plot(x**(n + 1), color='C{}'.format(n))"
   ]
  },
  {
   "cell_type": "markdown",
   "id": "950b5a78",
   "metadata": {},
   "source": [
    "All styles and colors: [matplotlib.axes.Axes.plot](http://matplotlib.org/api/_as_gen/matplotlib.axes.Axes.plot.html#matplotlib.axes.Axes.plot)\n",
    "\n"
   ]
  },
  {
   "cell_type": "code",
   "execution_count": null,
   "id": "a4da7827",
   "metadata": {},
   "outputs": [],
   "source": [
    "months = range(1, 13)\n",
    "min_temp = np.array([-30.6, -34.3, -26.7, -11.7, -6.1, 1.1, 3.9, 3.3, -2.1, -8.2, -18.2, -22.8])\n",
    "max_temp = np.array([21.7, 19.4, 31.7, 30.6, 36.7, 40.6, 40.6, 37.2, 37.2, 32.8, 26.1, 20.0])"
   ]
  },
  {
   "cell_type": "code",
   "execution_count": null,
   "id": "f706e6e4",
   "metadata": {},
   "outputs": [],
   "source": [
    "plt.plot(months, min_temp)#, c='0.2')\n",
    "plt.plot(months, max_temp)#, color='0.2')\n",
    "#plt.ylabel('$^\\circ$C')\n",
    "\n",
    "#plt.fill_between(months, min_temp, max_temp, color='lightgray')\n",
    "#plt.grid(linestyle='--')\n",
    "'''\n",
    "month_names = ['January',\n",
    "          'February',\n",
    "          'March',\n",
    "          'April',\n",
    "          'May',\n",
    "          'June',\n",
    "          'July',\n",
    "          'August',\n",
    "          'September',\n",
    "          'October',\n",
    "          'November',\n",
    "          'December']\n",
    "\n",
    "plt.xticks(\n",
    "    months,\n",
    "    month_names,\n",
    "    rotation=45,\n",
    "    rotation_mode='anchor',\n",
    "    horizontalalignment='right',  # or ha\n",
    "    verticalalignment='top',      # or va\n",
    ");\n",
    "'''"
   ]
  },
  {
   "cell_type": "markdown",
   "id": "64b2bd6b",
   "metadata": {},
   "source": [
    "<a id=histograms></a>\n",
    "# Histograms"
   ]
  },
  {
   "cell_type": "markdown",
   "id": "1c6dcc51",
   "metadata": {},
   "source": [
    "<a id=histogram_1d></a>\n",
    "## 1D"
   ]
  },
  {
   "cell_type": "code",
   "execution_count": null,
   "id": "b54967ae",
   "metadata": {},
   "outputs": [],
   "source": [
    "plt.hist?"
   ]
  },
  {
   "cell_type": "code",
   "execution_count": null,
   "id": "e000d92e",
   "metadata": {},
   "outputs": [],
   "source": [
    "sample_size = 100\n",
    "m = 20\n",
    "s = 5\n",
    "normal_sample = np.random.normal(m, s, sample_size)\n",
    "bins = np.linspace(0, 50, 101)\n",
    "counts, bins, _ = plt.hist(normal_sample, bins=20, label='Random sample')\n",
    "#plt.xlabel('Normally distributed variable?')\n",
    "#plt.ylabel('Counts')\n",
    "#plt.title('Normal distribution')\n",
    "\n",
    "# Add a line plot to compare with expected distribution\n",
    "#x = np.linspace(0, 40, 100)\n",
    "#y = 1/np.sqrt(1*np.pi*s**2)*np.exp(-(x - m)**2/(2*s**2))*sample_size\n",
    "#plt.plot(x, y, label=r'$p(x) = \\frac{1}{\\sqrt{ 2 \\pi \\sigma^2 }} e^{ - \\frac{ (x - \\mu)^2 } {2 \\sigma^2} }$')\n",
    "\n",
    "# Add a legend\n",
    "#plt.legend(loc='upper left')\n",
    "#plt.legend(loc=(0.2, 0.2))"
   ]
  },
  {
   "cell_type": "markdown",
   "id": "a16bb668",
   "metadata": {},
   "source": [
    "<a id=histogram_2d></a>\n",
    "## 2D"
   ]
  },
  {
   "cell_type": "code",
   "execution_count": null,
   "id": "3a952cd6",
   "metadata": {},
   "outputs": [],
   "source": [
    "plt.hist2d?"
   ]
  },
  {
   "cell_type": "code",
   "execution_count": null,
   "id": "91b45765",
   "metadata": {},
   "outputs": [],
   "source": [
    "mean = [2, 1]\n",
    "cov = [[9, 2],\n",
    "       [2, 4]]\n",
    "\n",
    "x, y = np.random.multivariate_normal(mean, cov, size=10000).T\n",
    "\n",
    "hist_output = plt.hist2d(x, y, bins=50, cmap='gist_heat') # try different color maps: viridis(default), inferno, gist_heat\n",
    "#plt.hist2d(x, y, bins=50)\n",
    "# plt.hist2d(x, y, bins=[25, 50], range=[[-10, 14], [-5, 7]])\n",
    "\n",
    "plt.colorbar(label='Counts'); "
   ]
  },
  {
   "cell_type": "markdown",
   "id": "2d4c3b76",
   "metadata": {},
   "source": [
    "<a id=bar></a>\n",
    "# Bar plots"
   ]
  },
  {
   "cell_type": "markdown",
   "id": "0597a801",
   "metadata": {},
   "source": [
    "<a id=simple_bar></a>\n",
    "## Simple bar plot"
   ]
  },
  {
   "cell_type": "code",
   "execution_count": null,
   "id": "b3bb1b76",
   "metadata": {},
   "outputs": [],
   "source": [
    "plt.bar?"
   ]
  },
  {
   "cell_type": "code",
   "execution_count": null,
   "id": "fedfad7c",
   "metadata": {},
   "outputs": [],
   "source": [
    "# Reusing the data from the 1D histogram\n",
    "centers = (bins[:-1] + bins[1:])/2.\n",
    "plt.bar(centers, counts)\n",
    "\n",
    "# Not exactly the plot we had previously\n",
    "# We have to set the width of the bar to the width of the bin\n",
    "#bin_width = bins[1:] - bins[:-1]\n",
    "#plt.bar(centers, counts, bin_width)"
   ]
  },
  {
   "cell_type": "markdown",
   "id": "b68675ce",
   "metadata": {},
   "source": [
    "<a id=multiple_bar></a>\n",
    "## Multiple bar plot"
   ]
  },
  {
   "cell_type": "code",
   "execution_count": null,
   "id": "1cff9ad8",
   "metadata": {},
   "outputs": [],
   "source": [
    "power_data = np.loadtxt('resources/power_sources.csv', delimiter=';', skiprows=1, usecols=range(1, 9))\n",
    "power_headers = ['Hydroelectric',\n",
    " 'Nuclear',\n",
    " 'Coal',\n",
    " 'Combined Cycle',\n",
    " 'Wind',\n",
    " 'Thermal',\n",
    " 'Other non renewable',\n",
    " 'Other renewable']\n",
    "power_labels = ['January',\n",
    " 'February',\n",
    " 'March',\n",
    " 'April',\n",
    " 'May',\n",
    " 'June',\n",
    " 'July',\n",
    " 'August',\n",
    " 'September',\n",
    " 'October',\n",
    " 'November',\n",
    " 'December']"
   ]
  },
  {
   "cell_type": "code",
   "execution_count": null,
   "id": "9032d1f0",
   "metadata": {},
   "outputs": [],
   "source": [
    "plt.bar(np.arange(1, 13) - 1/4., power_data[:, 0], width=1/4., label=power_headers[0])\n",
    "plt.bar(np.arange(1, 13), power_data[:, 4], width=1/4., label=power_headers[4])\n",
    "plt.bar(np.arange(1, 13) + 1/4., power_data[:, 7], width=1/4., label=power_headers[7])\n",
    "plt.xticks(np.arange(1, 13), power_labels, rotation=90)\n",
    "plt.title('% of total Power produced in Spain in 2017')\n",
    "plt.ylabel('%')\n",
    "plt.legend()"
   ]
  },
  {
   "cell_type": "markdown",
   "id": "9d1c3b0b",
   "metadata": {},
   "source": [
    "<a id=stacked_bar></a>\n",
    "## Stacked bar plot"
   ]
  },
  {
   "cell_type": "code",
   "execution_count": null,
   "id": "d3ac5b8e",
   "metadata": {},
   "outputs": [],
   "source": [
    "renewable = power_data[:, [0, 4, 7]].sum(axis=1) # Hydroelectric + Wind + Other renewable'\n",
    "non_renewable = power_data[:, [1, 2, 3, 5, 6]].sum(axis=1) # Nuclear + Coal + Combined Cycle + Thermal + Other non renewable\n",
    "\n",
    "plt.bar(range(1, 13), renewable, label='Renewable')\n",
    "plt.bar(range(1, 13), non_renewable, bottom=renewable, label='Non renewable')\n",
    "\n",
    "plt.xticks(range(1, 13), power_labels, rotation=45, ha='right')\n",
    "plt.hlines(50, 0, 13, colors='k')\n",
    "plt.legend()\n",
    "\n",
    "#plt.yticks([]);"
   ]
  },
  {
   "cell_type": "markdown",
   "id": "30dccc8f",
   "metadata": {},
   "source": [
    "<a id=scatter></a>\n",
    "# Scatter plots"
   ]
  },
  {
   "cell_type": "code",
   "execution_count": null,
   "id": "b8ff89cf",
   "metadata": {},
   "outputs": [],
   "source": [
    "plt.scatter?"
   ]
  },
  {
   "cell_type": "code",
   "execution_count": null,
   "id": "ce5a3707",
   "metadata": {},
   "outputs": [],
   "source": [
    "x1, y1, z1 = np.random.multivariate_normal([1, 1, 0], [[1, 0, 0], [0, 1, 0], [0, 0, 10]], 1000).T\n",
    "\n",
    "# raw plot\n",
    "plt.scatter(x1, y1, alpha=0.5)\n",
    "\n",
    "# Coloured\n",
    "#plt.scatter(x1, y1, c=z1, cmap='winter')\n",
    "#plt.colorbar()\n",
    "\n",
    "# With sizes\n",
    "#plt.scatter(x1, y1, s=5*(z1 - min(z1)), alpha=0.5)\n",
    "\n",
    "# Add another scatter\n",
    "#x2, y2 = np.random.multivariate_normal([-1, -1], [[1, 0], [0, 1]], 1000).T\n",
    "#plt.scatter(x2, y2, alpha=0.5)\n",
    "\n",
    "# Add a grid\n",
    "#plt.grid()\n",
    "# And tune it!!\n",
    "#plt.grid(alpha=0.2, linestyle='--', linewidth=2., color='0.2')\n",
    "\n",
    "# The grid is bound to the ticks\n",
    "#plt.xticks(np.arange(-4, 4.1))\n",
    "#plt.yticks(np.arange(-4, 4.1));\n",
    "\n",
    "# Set the limits of the plot\n",
    "#plt.xlim([-2, 2])\n",
    "#plt.ylim([-2, 2]);\n"
   ]
  },
  {
   "cell_type": "markdown",
   "id": "cf70b32a",
   "metadata": {},
   "source": [
    "<a id=exercise_1></a>\n",
    "# Exercise 1\n",
    "\n",
    "Generate a line plot with the data of 3 random walks, corresponding to different random distributions.\n",
    "\n",
    "With these characteristics:\n",
    "* All lines in grey tones\n",
    "* different markers or line types for each line\n",
    "* with a legend located at the 'upper left'\n",
    "\n",
    "**Hint:** Use the `np.cumsum` function to generate a random walk from a random sample.  "
   ]
  },
  {
   "cell_type": "markdown",
   "id": "32a5dbeb",
   "metadata": {},
   "source": [
    "<a id=architecture></a>\n",
    "# matplotlib architecture\n",
    "\n",
    "Up to this point, we have only used the so-called *state-machine interface*. It's a MATLAB-like interface implemented in the *pyplot* module that provides convenient methods for easy plotting. But it has some drawbacks:\n",
    "\n",
    "* It's not very pythonic (python is OO)\n",
    "* No idea what's happening in the background\n",
    "\n",
    "This interface is OK for online plotting, because it's simple, but it is not convenient for other purposes, like embedding plots into a program. For all other purposes, the OO interface should be preferred. Using it, our code will be more verbose, but also more explanatory, and we'll have more control on what it's doing.\n",
    "\n",
    "\n",
    "In order to introduce the OO API, it's convenient that we have some knowledge of matplotlib's architecture.\n",
    "\n",
    "The top-level matplotlib object that contains and manages all of the elements in a given graphic is called the **Figure**.\n",
    "\n",
    "To achieve the manipulation and rendering of this objects, matplotlib is structured in three layers:\n",
    "* *Backend*: It's the one that actually draws the Artists on the canvas.\n",
    "* *Artist Layer*: Are the things that have to be plotted. The figure, lines, axis, bars, ...\n",
    "* *Scripting Layer (pyplot)*: Light scripting interface we have alredy shown\n",
    "\n",
    "\n",
    "## Artists layer\n",
    "\n",
    "Everything you see in a plot is an Artist instance. This layer is a hierarchy of objects with the **Figure** sitting on top of it.\n",
    "\n",
    "<table><tr>\n",
    "<td><img src=\"resources/artists_figure.png\"></img></td>\n",
    "<td><img src=\"resources/artists_tree.png\"></img></td>\n",
    "</tr>\n",
    "</table>\n",
    "\n",
    "\n",
    "Some more detail ([directly from the matplotlib documentation](https://matplotlib.org/tutorials/introductory/usage.html#parts-of-a-figure))\n",
    "\n",
    "### Figure\n",
    "The whole figure. The figure keeps track of all the child Axes, a smattering of 'special' artists (titles, figure legends, etc), and the canvas. A figure can have any number of Axes.\n",
    "\n",
    "### Axes\n",
    "This is what you think of as 'a plot', it is the region of the image with the data space. A given figure can contain many Axes, but a given Axes object can only be in one Figure. The Axes contains two (or three in the case of 3D) Axis objects.\n",
    "\n",
    "The Axes class and it's member functions are the primary entry point to working with the OO interface.\n",
    "\n",
    "### Axis\n",
    "These are the number-line-like objects. They take care of setting the graph limits and generating the ticks (the marks on the axis) and ticklabels (strings labeling the ticks)."
   ]
  },
  {
   "cell_type": "code",
   "execution_count": null,
   "id": "6046a976",
   "metadata": {},
   "outputs": [],
   "source": [
    "x = np.linspace(0, 10, 100)\n",
    "y = x**2\n",
    "plt.plot(x, y, label='ay')\n",
    "plt.xlabel('lolay')\n",
    "plt.ylabel('lolá')\n",
    "plt.legend()\n",
    "\n",
    "# import the artist class from matplotlib\n",
    "from matplotlib.artist import Artist\n",
    "\n",
    "def rec_gc(art, depth=0, max_depth=8):\n",
    "    if depth < max_depth and isinstance(art, Artist):\n",
    "        # increase the depth for pretty printing\n",
    "        print(\"  \" * depth + str(art))\n",
    "        for child in art.get_children():\n",
    "            rec_gc(child, depth+2)\n",
    "\n",
    "# Call this function on the legend artist to see what the legend is made up of\n",
    "fig = plt.gcf()\n",
    "rec_gc(fig)"
   ]
  },
  {
   "cell_type": "markdown",
   "id": "ad50d590",
   "metadata": {},
   "source": [
    "Both APIs can be connected through the `pyplot.gcf` and `pyplot.gca` methods."
   ]
  },
  {
   "cell_type": "code",
   "execution_count": null,
   "id": "7e142a64",
   "metadata": {},
   "outputs": [],
   "source": [
    "x = np.arange(5)\n",
    "plt.plot(x, x)\n",
    "\n",
    "fig = plt.gcf()\n",
    "ax = plt.gca()\n",
    "print('Is this the same? {}\\n'.format(ax == fig.get_children()[1]))"
   ]
  },
  {
   "cell_type": "code",
   "execution_count": null,
   "id": "d224ef49",
   "metadata": {},
   "outputs": [],
   "source": [
    "plt.get_backend()"
   ]
  },
  {
   "cell_type": "markdown",
   "id": "e983338d",
   "metadata": {},
   "source": [
    "When using the inline backend, the current figure is renderd in cell execution.\n",
    "\n",
    "New cells will contain new figures.\n",
    "\n",
    "This behaviour may be different with other backends."
   ]
  },
  {
   "cell_type": "code",
   "execution_count": null,
   "id": "34b4e98d",
   "metadata": {},
   "outputs": [],
   "source": [
    "new_fig = plt.gcf()\n",
    "print('old figure exits and is a {}'.format(type(fig)))\n",
    "print('new figure exits and is a {}'.format(type(new_fig)))\n",
    "print('But are they the same instance? {}'.format(fig == new_fig))"
   ]
  },
  {
   "cell_type": "markdown",
   "id": "a596a1c6",
   "metadata": {},
   "source": [
    "<a id=multiple_plots></a>\n",
    "# Multiple plots in the same figure"
   ]
  },
  {
   "cell_type": "code",
   "execution_count": null,
   "id": "88d456fc",
   "metadata": {},
   "outputs": [],
   "source": [
    "x = np.linspace(0, 3.)\n",
    "\n",
    "# subplot arguments: # of rows, # of columns, plot index (row * (#cols) + col)\n",
    "for i in range(9):\n",
    "    ax = plt.subplot(3, 3, i + 1) # the same as fig.add_subplot\n",
    "    ax.plot(x, x**i)\n",
    "    ax.set_xlim(0, 3)\n",
    "    y_center = np.array(ax.get_ylim()).sum()/2.\n",
    "    ax.text(1.5, y_center, str(i + 1), ha='center', va='center', fontsize=32)\n",
    "\n",
    "plt.tight_layout() # When doing multiple plots you should almost always use this command"
   ]
  },
  {
   "cell_type": "markdown",
   "id": "42f9573d",
   "metadata": {},
   "source": [
    "<a id=shared_axis></a>\n",
    "## Subplots / Shared Axes"
   ]
  },
  {
   "cell_type": "code",
   "execution_count": null,
   "id": "ddd95898",
   "metadata": {},
   "outputs": [],
   "source": [
    "def poisson(x, k):\n",
    "    return np.exp(-x)*x**k / np.math.factorial(k)\n",
    "\n",
    "x = np.linspace(0, 12, 40)\n",
    "y = poisson(x, 2)\n",
    "y_noise = y + np.random.normal(0, 0.01, len(y))\n",
    "z = np.linspace(0, 12, 100)\n",
    "\n",
    "gridspec = {'height_ratios': [2, 1]}\n",
    "fig, (ax1, ax2) = plt.subplots(2, sharex=True, gridspec_kw=gridspec)\n",
    "\n",
    "ax1.plot(x, y_noise, 'ko')\n",
    "ax1.plot(z, poisson(z, 2))\n",
    "ax1.set_ylim(-0.05, 0.30)\n",
    "ax1.set_ylabel('Flux')\n",
    "#ax1.set_yticks(ax1.get_yticks()[1:])    # remove bottom y-tick\n",
    "\n",
    "ax2.plot(x, y_noise - y, 'ko')\n",
    "ax2.axhline(y=0, color='black', linestyle='--', linewidth=1)\n",
    "ax2.set_xlabel('Energy')\n",
    "ax2.set_ylim(-0.03, 0.04)\n",
    "ax2.set_ylabel('Residuals')\n",
    "#ax2.set_yticks(ax2.get_yticks()[:-2])   # remove top y-tick\n",
    "\n",
    "#fig.subplots_adjust(hspace=0)\n",
    "fig.suptitle('\\nFake Spectrum', fontweight='bold');"
   ]
  },
  {
   "cell_type": "markdown",
   "id": "41d287dc",
   "metadata": {},
   "source": [
    "<a id=gridspec></a>\n",
    "## Using Gridspec"
   ]
  },
  {
   "cell_type": "code",
   "execution_count": null,
   "id": "2359bdda",
   "metadata": {},
   "outputs": [],
   "source": [
    "# use gridspec to partition the figure into subplots\n",
    "import matplotlib.gridspec as gridspec\n",
    "\n",
    "fig = plt.figure()\n",
    "gspec = gridspec.GridSpec(3, 3) #, wspace=0.05, hspace=0.05)\n",
    "\n",
    "top_histogram = fig.add_subplot(gspec[0, 1:])\n",
    "side_histogram = fig.add_subplot(gspec[1:, 0])\n",
    "lower_right = fig.add_subplot(gspec[1:, 1:])\n",
    "\n",
    "# We produce two sets of random data\n",
    "Y = np.random.normal(loc=0.0, scale=1.0, size=10000)\n",
    "X = np.random.random(size=10000)\n",
    "\n",
    "# Normed histograms counts add up to 1, they resemble a probability density function\n",
    "top_histogram.hist(X, bins=100, density=True)\n",
    "side_histogram.hist(Y, bins=100, orientation='horizontal', density=True)\n",
    "# flip the side histogram's x axis\n",
    "#side_histogram.invert_xaxis()\n",
    "lower_right.scatter(X, Y, alpha=0.5)\n",
    "\n",
    "# Remove the picks in-between\n",
    "#top_histogram.set_xticks([])\n",
    "#lower_right.set_yticks([])\n",
    "#top_histogram.set_yticks(top_histogram.get_yticks()[1:])\n",
    "#side_histogram.set_xticks(side_histogram.get_xticks()[1:]);"
   ]
  },
  {
   "cell_type": "markdown",
   "id": "fd303e5b",
   "metadata": {},
   "source": [
    "<a id=inset_plots></a>\n",
    "## Inset Plots (plot inside a plot)"
   ]
  },
  {
   "cell_type": "code",
   "execution_count": null,
   "id": "71e2193d",
   "metadata": {},
   "outputs": [],
   "source": [
    "plt.plot(x, x**2)\n",
    "plt.title(\"Outer Plot\")\n",
    "\n",
    "# axes coordinates: (0,0) is lower left, (1,1) upper right\n",
    "plt.axes([0.2, 0.45, 0.3, 0.3])\n",
    "plt.plot(x, x**3)\n",
    "plt.title(\"Inner Plot\");"
   ]
  },
  {
   "cell_type": "markdown",
   "id": "58348981",
   "metadata": {},
   "source": [
    "<a id=exercise_2></a>\n",
    "## Exercise 2\n",
    "\n",
    "Generate 3 differents random samples.\n",
    "\n",
    "Plot them as normalized 1D histograms in a figure with 3 axes in 1 column, with shared x-axis and y-axis.\n",
    "\n",
    "Put the name of the distribution somewhere in the axes so it can be identified.\n",
    "\n",
    "There have to be no x-ticks in the top 2 axes and no vertical space between them.\n",
    "\n",
    "Remove y-ticks."
   ]
  },
  {
   "cell_type": "markdown",
   "id": "b869ecdb",
   "metadata": {},
   "source": [
    "# Other plot types"
   ]
  },
  {
   "cell_type": "markdown",
   "id": "63924e41",
   "metadata": {},
   "source": [
    "##  Images"
   ]
  },
  {
   "cell_type": "code",
   "execution_count": null,
   "id": "bfa0d321",
   "metadata": {},
   "outputs": [],
   "source": [
    "n_rows = 2\n",
    "n_cols = 2\n",
    "m = np.array([[n_rows*i + j for j in range(n_cols)] for i in range(n_rows)])\n",
    "plt.imshow(m)\n",
    "plt.colorbar();"
   ]
  },
  {
   "cell_type": "code",
   "execution_count": null,
   "id": "85ad40f4",
   "metadata": {},
   "outputs": [],
   "source": [
    "from matplotlib.colors import LogNorm\n",
    "\n",
    "x = np.linspace(0, 2 * np.pi, 120)\n",
    "y = np.linspace(0, 2 * np.pi, 120).reshape(-1, 1)\n",
    "\n",
    "im = plt.imshow(np.sin(x) + np.cos(y), cmap='gist_heat') #, clim=(-0.5, 0.5)) #, norm=LogNorm())\n",
    "plt.colorbar();"
   ]
  },
  {
   "cell_type": "markdown",
   "id": "9a52b2c7",
   "metadata": {},
   "source": [
    "## Shapes"
   ]
  },
  {
   "cell_type": "code",
   "execution_count": null,
   "id": "c812ad4a",
   "metadata": {},
   "outputs": [],
   "source": [
    "from matplotlib.patches import Circle, Ellipse, Rectangle, Polygon\n",
    "from matplotlib.collections import PatchCollection\n",
    "\n",
    "# Fixing random state for reproducibility\n",
    "np.random.seed(19680801)\n",
    "\n",
    "\n",
    "kwargs1 = {}\n",
    "kwargs2 = {'facecolor': 'None',\n",
    "          'edgecolor': 'tab:red',\n",
    "          'linewidth': 5}\n",
    "kwargs3 = {'hatch': '*',\n",
    "          'fc': 'None'}\n",
    "kwargs3 = {'fc': 'greenyellow',\n",
    "          'alpha': 0.5}\n",
    "\n",
    "fig, ax = plt.subplots(figsize=(20, 10))\n",
    "\n",
    "# Rectangles: all patches have the same style \n",
    "patch_list = []\n",
    "hr = 30\n",
    "wr = -20\n",
    "patch_list.append(Rectangle((wr + 2, hr), 1, 1))\n",
    "patch_list.append(Rectangle((wr + 6, hr), 2, 0.5))\n",
    "patch_list.append(Rectangle((wr + 12, hr), 2, 4))\n",
    "p = PatchCollection(patch_list, **kwargs1)\n",
    "ax.add_collection(p)\n",
    "\n",
    "# Polygon: all patches have the same style\n",
    "patch_list = []\n",
    "hr = 23\n",
    "wr = -20\n",
    "xor = [wr + i for i in [2, 6, 12]]\n",
    "radius = [1, 2, 3]\n",
    "for ind, nside in enumerate([3, 5, 7]):\n",
    "    points = [(xor[ind] + radius[ind]*np.cos(2*np.pi*i/nside),\n",
    "               hr + radius[ind]*np.sin(2*np.pi*i/nside))\n",
    "               for i in range(nside)]\n",
    "    patch_list.append(Polygon(points))\n",
    "p = PatchCollection(patch_list, **kwargs2)\n",
    "ax.add_collection(p)\n",
    "\n",
    "\n",
    "# Ellipse: all patches have the same style \n",
    "patch_list = []\n",
    "hel = 30\n",
    "we = 0\n",
    "patch_list.append(Ellipse((we + 2, hel), 1, 2))\n",
    "patch_list.append(Ellipse([we + 6, hel], 2, 0.5))\n",
    "patch_list.append(Ellipse([we + 12, hel], 2, 4, angle=45))\n",
    "p = PatchCollection(patch_list, **kwargs3)\n",
    "ax.add_collection(p)\n",
    "\n",
    "# Circle: each patch is independent\n",
    "hc = 23\n",
    "wc = 0\n",
    "ax.add_patch(Circle([wc + 2, hc], 1, **kwargs1))\n",
    "ax.add_patch(Circle([wc + 6, hc], 2, **kwargs2))\n",
    "ax.add_patch(Circle([wc + 12, hc], 3, **kwargs3))\n",
    "\n",
    "ax.set_xlim(-20, 16)\n",
    "ax.set_ylim(18, 36)\n",
    "ax.set_aspect('equal')\n",
    "    "
   ]
  },
  {
   "cell_type": "markdown",
   "id": "f65e0a91",
   "metadata": {},
   "source": [
    "<a id=box_plot></a>\n",
    "## Box plots"
   ]
  },
  {
   "cell_type": "code",
   "execution_count": null,
   "id": "bf869d7b",
   "metadata": {},
   "outputs": [],
   "source": [
    "s1 = np.random.normal(size=100)\n",
    "s2 = np.random.uniform(size=100)\n",
    "s3 = np.random.exponential(size=100)\n",
    "plt.boxplot([s1, s2, s3], labels=['Normal', 'Uniform', 'Exponential']);"
   ]
  },
  {
   "cell_type": "markdown",
   "id": "ca8aa3e3",
   "metadata": {},
   "source": [
    "<a id=pie_chart></a>\n",
    "## Pie charts"
   ]
  },
  {
   "cell_type": "code",
   "execution_count": null,
   "id": "ed812c4c",
   "metadata": {},
   "outputs": [],
   "source": [
    "pie_order = [0, 4, 7, 1, 2, 3, 5, 6]\n",
    "pie_data = power_data[11, pie_order]\n",
    "pie_labels = [power_headers[i] for i in pie_order]\n",
    "pie_colors = [(0, (i + 3)/5., 0, 0.7) for i in range(3)] + \\\n",
    "    [((i + 3)/7., 0, 0, 0.7) for i in range(5)] #RGB color specification\n",
    "\n",
    "fig, ax = plt.subplots()\n",
    "ax.pie(pie_data, labels=pie_labels, colors=pie_colors)\n",
    "ax.axis('equal');"
   ]
  },
  {
   "cell_type": "markdown",
   "id": "706fe958",
   "metadata": {},
   "source": [
    "<a id=3d_plots></a>\n",
    "## 3D Plots"
   ]
  },
  {
   "cell_type": "code",
   "execution_count": null,
   "id": "24693919",
   "metadata": {},
   "outputs": [],
   "source": [
    "import mpl_toolkits.mplot3d.axes3d as p3\n",
    "x = np.linspace(0, 2 * np.pi, 120)\n",
    "y = np.linspace(0, 2 * np.pi, 120).reshape(-1, 1)\n",
    "z = np.sin(x) + np.cos(y)\n",
    "\n",
    "fig = plt.figure()\n",
    "ax = fig.add_subplot(111, projection='3d')\n",
    "ax.plot_surface(x, y, z, cmap='viridis')"
   ]
  },
  {
   "cell_type": "markdown",
   "id": "7f085bd7",
   "metadata": {},
   "source": [
    "# Additional concepts\n",
    "\n",
    "## Projections"
   ]
  },
  {
   "cell_type": "code",
   "execution_count": null,
   "id": "411dd4d8",
   "metadata": {},
   "outputs": [],
   "source": [
    "import matplotlib.gridspec as gridspec\n",
    "\n",
    "gs = gridspec.GridSpec(1, 3, wspace=0.5)\n",
    "\n",
    "theta = np.linspace(0, 5*2*np.pi, 101)\n",
    "r = theta/2*np.pi\n",
    "\n",
    "fig = plt.figure(figsize=(16, 8))\n",
    "\n",
    "ax1 = fig.add_subplot(gs[0], projection='polar')\n",
    "ax1.plot(theta, r)\n",
    "\n",
    "gaia_data = np.loadtxt('resources/GaiaDR2.csv', delimiter=',', skiprows=11)\n",
    "ax2 = fig.add_subplot(gs[1:], projection='mollweide')\n",
    "ax2.scatter(np.deg2rad(gaia_data[:, 0]), np.deg2rad(gaia_data[:, 1]), alpha=0.3)\n",
    "ax2.grid()\n"
   ]
  },
  {
   "cell_type": "markdown",
   "id": "37a488c8",
   "metadata": {},
   "source": [
    "<a id=plot_styles></a>\n",
    "## Plot styles"
   ]
  },
  {
   "cell_type": "markdown",
   "id": "e7c9df9f",
   "metadata": {},
   "source": [
    "List available styles:"
   ]
  },
  {
   "cell_type": "code",
   "execution_count": null,
   "id": "35f52f0c",
   "metadata": {},
   "outputs": [],
   "source": [
    "print(plt.style.available)"
   ]
  },
  {
   "cell_type": "code",
   "execution_count": null,
   "id": "be00ce68",
   "metadata": {},
   "outputs": [],
   "source": [
    "from scipy import stats\n",
    "\n",
    "def plot_stuff():\n",
    "    plt.subplot(2, 2, 1)\n",
    "    x = np.linspace(-1, 1, 1000)\n",
    "    plt.plot(x, np.sin(50*x**3)/(x))\n",
    "    plt.grid()\n",
    "\n",
    "    plt.subplot(2, 2, 2)\n",
    "    x = np.linspace(-1, 1, 10)\n",
    "    y = np.exp(-2.2*x) + np.random.normal(0, 0.1, 10)\n",
    "    yerr = np.abs(np.random.normal(0, 0.2, 10))\n",
    "    plt.errorbar(x, y, yerr, fmt='o', capsize=3)\n",
    "    plt.yscale('log')\n",
    "\n",
    "    plt.subplot(2, 2, 3)\n",
    "    x = stats.skewnorm.rvs(10, size=1000)\n",
    "    plt.hist(x, bins=50)\n",
    "\n",
    "    plt.subplot(2, 2, 4)\n",
    "    x, y = np.mgrid[-1:1:.01, -1:1:.01]\n",
    "    pos = np.dstack((x, y))\n",
    "    z = stats.multivariate_normal([0.1, 0.3], [[0.2, 0.3], [0.1, 0.4]])\n",
    "    plt.contourf(x, y, z.pdf(pos))\n",
    "\n",
    "for plot_style in ['classic', 'bmh', 'fivethirtyeight', 'ggplot', 'seaborn']:\n",
    "    plt.figure()\n",
    "    with plt.style.context(plot_style):   # use context manager so that changes are temporary\n",
    "        plot_stuff()\n",
    "        plt.suptitle('Plot Style: ' + plot_style, fontweight='bold')"
   ]
  },
  {
   "cell_type": "markdown",
   "id": "6e992430",
   "metadata": {},
   "source": [
    "<a id=save_figures></a>\n",
    "## Saving figures\n",
    "\n",
    "Use `plt.savefig` to save your figure.\n",
    "\n",
    "You can either give path relative to your working directory or an absolute path.\n",
    "Not sure what the current working directory is?"
   ]
  },
  {
   "cell_type": "code",
   "execution_count": null,
   "id": "9543fec7",
   "metadata": {},
   "outputs": [],
   "source": [
    "pwd()"
   ]
  },
  {
   "cell_type": "code",
   "execution_count": null,
   "id": "1e5b3713",
   "metadata": {},
   "outputs": [],
   "source": [
    "x = np.linspace(-5, 5)\n",
    "plt.plot(x, x**3, marker='s')\n",
    "plt.title(\"My Awesome Plot\")\n",
    "plot_folder = Path('plots')\n",
    "\n",
    "# save in dedicated directory; extension determines file type\n",
    "plt.savefig(plot_folder / 'awesome_plot.pdf')\n",
    "plt.savefig(plot_folder / 'awesome_plot.eps')\n",
    "plt.savefig(plot_folder / 'awesome_plot.png', dpi=300)\n",
    "plt.savefig(plot_folder / 'awesome_plot.jpg', dpi=300)\n",
    "\n",
    "# absolute path\n",
    "# plt.savefig('/path/to/output/directory/awesome_plot.pdf')"
   ]
  },
  {
   "cell_type": "markdown",
   "id": "1bcecdf9",
   "metadata": {},
   "source": [
    "<a id=animations></a>\n",
    "## Animations"
   ]
  },
  {
   "cell_type": "code",
   "execution_count": null,
   "id": "456ce832",
   "metadata": {},
   "outputs": [],
   "source": [
    "import matplotlib.animation as animation\n",
    "\n",
    "class FunctionAnimatedImage():\n",
    "    \n",
    "    def func(self):\n",
    "        return np.sin(self.x) + np.cos(self.y)\n",
    "    \n",
    "    def __init__(self):\n",
    "        self.x = np.linspace(0, 2 * np.pi, 120)\n",
    "        self.y = np.linspace(0, 2 * np.pi, 120).reshape(-1, 1)\n",
    "\n",
    "        self.im = plt.imshow(self.func(), animated=True)\n",
    "        \n",
    "    def next_frame(self, i, *args):\n",
    "        \n",
    "        self.x += np.pi / 5.\n",
    "        self.y += np.pi / 20.\n",
    "        self.im.set_array(self.func())\n",
    "        return self.im,\n",
    "\n",
    "fig = plt.figure()\n",
    "anim_img = FunctionAnimatedImage()\n",
    "\n",
    "# Animate the image by recursively calling the next_frame function\n",
    "ani_1 = animation.FuncAnimation(fig, anim_img.next_frame, frames=40, interval=50, blit=True)\n",
    "\n",
    "# Embed the video in an html 5.0 video tag\n",
    "HTML(ani_1.to_html5_video())"
   ]
  },
  {
   "cell_type": "markdown",
   "id": "a204adb7",
   "metadata": {},
   "source": [
    "# Alternative plotting libraries\n",
    "\n",
    "## Seaborn\n",
    "\n",
    "High-level plotting library on top of maplotlib"
   ]
  },
  {
   "cell_type": "code",
   "execution_count": null,
   "id": "62cf6c04",
   "metadata": {},
   "outputs": [],
   "source": [
    "import seaborn as sns"
   ]
  },
  {
   "cell_type": "code",
   "execution_count": null,
   "id": "12ae0f85",
   "metadata": {},
   "outputs": [],
   "source": [
    "np.random.seed(1234)\n",
    "\n",
    "v1 = np.random.normal(0, 10, 1000)\n",
    "v2 = 2*v1 + np.random.normal(60, 15, 1000)"
   ]
  },
  {
   "cell_type": "code",
   "execution_count": null,
   "id": "a01b83e1",
   "metadata": {},
   "outputs": [],
   "source": [
    "# plot a kernel density estimation over a stacked barchart\n",
    "plt.figure()\n",
    "plt.hist([v1, v2], histtype='barstacked', density=True);\n",
    "v3 = np.concatenate((v1,v2))\n",
    "sns.kdeplot(v3);"
   ]
  },
  {
   "cell_type": "code",
   "execution_count": null,
   "id": "fcb93d03",
   "metadata": {},
   "outputs": [],
   "source": [
    "grid = sns.jointplot(x=v1, y=v2, alpha=0.4);\n",
    "#grid.ax_joint.set_aspect('equal')"
   ]
  },
  {
   "cell_type": "markdown",
   "id": "8c3f624b",
   "metadata": {},
   "source": [
    "And much more ... https://seaborn.pydata.org/"
   ]
  },
  {
   "cell_type": "markdown",
   "id": "5546ae3a",
   "metadata": {
    "toc-hr-collapsed": true
   },
   "source": [
    "## Bokeh \n",
    "\n",
    "Python library to produce interactive plots\n",
    "\n",
    "https://docs.bokeh.org/en/latest/index.html"
   ]
  },
  {
   "cell_type": "code",
   "execution_count": null,
   "id": "ac1477eb",
   "metadata": {},
   "outputs": [],
   "source": [
    "import numpy as np\n",
    "from bokeh.io import push_notebook, show, output_notebook\n",
    "from bokeh.models import HoverTool\n",
    "from bokeh.plotting import figure \n",
    "output_notebook()"
   ]
  },
  {
   "cell_type": "code",
   "execution_count": null,
   "id": "794d00bf",
   "metadata": {},
   "outputs": [],
   "source": [
    "N = 4000\n",
    "x = np.random.random(size=N) * 100\n",
    "y = np.random.random(size=N) * 100\n",
    "radii = np.random.random(size=N) * 1.5\n",
    "colors = np.array([(r, g, 150) for r, g in zip(50+2*x, 30+2*y)], dtype=\"uint8\")\n",
    "\n",
    "TOOLS=\"hover,crosshair,pan,wheel_zoom,zoom_in,zoom_out,box_zoom,undo,redo,reset,tap,save,box_select,poly_select,lasso_select,examine,help\"\n",
    "\n",
    "p = figure(tools=TOOLS)\n",
    "\n",
    "p.scatter(x, y, radius=radii,\n",
    "          fill_color=colors, fill_alpha=0.6,\n",
    "          line_color=None)\n",
    "\n",
    "show(p, notebook_handle=True)"
   ]
  },
  {
   "cell_type": "markdown",
   "id": "539d90fb",
   "metadata": {},
   "source": [
    "## plotly\n",
    "\n",
    "https://plotly.com/python/"
   ]
  },
  {
   "cell_type": "code",
   "execution_count": null,
   "id": "ac954af3",
   "metadata": {},
   "outputs": [],
   "source": [
    "import plotly.express as px\n",
    "df = px.data.iris()\n",
    "fig = px.scatter(df, x=\"sepal_width\", y=\"sepal_length\", color='petal_length')\n",
    "fig.show()"
   ]
  },
  {
   "cell_type": "markdown",
   "id": "320bc651",
   "metadata": {},
   "source": [
    "# Interactive plotting"
   ]
  },
  {
   "cell_type": "markdown",
   "id": "2322ca48",
   "metadata": {},
   "source": [
    "## with ipympl\n",
    "\n",
    "By changing the backend ( %matplotlib inline -> %matplotlib ipympl ) . We will already have interactive exploration for free.\n",
    "\n",
    "Change the backend, restart the notebook and regenerate any of the previous plots\n",
    "\n",
    "The data in the plots can be dynamically updated."
   ]
  },
  {
   "cell_type": "code",
   "execution_count": null,
   "id": "f5e42205",
   "metadata": {},
   "outputs": [],
   "source": [
    "# One can bound figure attributes to other widget values.\n",
    "from ipywidgets import AppLayout, FloatSlider\n",
    "\n",
    "plt.ioff()\n",
    "\n",
    "slider = FloatSlider(\n",
    "    orientation='horizontal',\n",
    "    description='Factor:',\n",
    "    value=1.0,\n",
    "    min=0.02,\n",
    "    max=2.0\n",
    ")\n",
    "\n",
    "slider.layout.margin = '0px 30% 0px 30%'\n",
    "slider.layout.width = '40%'\n",
    "\n",
    "fig = plt.figure()\n",
    "fig.canvas.header_visible = False\n",
    "fig.canvas.layout.min_height = '400px'\n",
    "plt.title('Plotting: y=sin({} * x)'.format(slider.value))\n",
    "\n",
    "x = np.linspace(0, 20, 500)\n",
    "\n",
    "lines = plt.plot(x, np.sin(slider.value * x))\n",
    "\n",
    "def update_lines(change):\n",
    "    plt.title('Plotting: y=sin({} * x)'.format(change.new))\n",
    "    lines[0].set_data(x, np.sin(change.new * x))\n",
    "    fig.canvas.draw()\n",
    "    fig.canvas.flush_events()\n",
    "\n",
    "slider.observe(update_lines, names='value')\n",
    "\n",
    "AppLayout(\n",
    "    center=fig.canvas,\n",
    "    footer=slider,\n",
    "    pane_heights=[0, 6, 1]\n",
    ")"
   ]
  },
  {
   "cell_type": "markdown",
   "id": "235ab59f",
   "metadata": {},
   "source": [
    "<a id=exercise_3></a>\n",
    "# Exercise 3\n",
    "\n",
    "Load the file `resources/nip.fits` using fits.\n",
    "```\n",
    "hdul = fits.open('resources/nip.fits')\n",
    "```\n",
    "\n",
    "Plot the matrix in `hdul[1].data` with imshow. You won't see much.\n",
    "\n",
    "Do a histogram (Hint: use the `log` argument) to analyze the values in the matrix.\n",
    "\n",
    "Use imshow (with `norm`) to see what's inside the plot.\n",
    "\n",
    "Use `imshow` + `clim` to see a higher detail of the background.\n",
    "\n",
    "Put everything in a single figure mith multiple axes"
   ]
  },
  {
   "cell_type": "code",
   "execution_count": null,
   "id": "12bc93a2",
   "metadata": {},
   "outputs": [],
   "source": [
    "from astropy.io import fits"
   ]
  },
  {
   "cell_type": "code",
   "execution_count": null,
   "id": "ede81c93",
   "metadata": {},
   "outputs": [],
   "source": [
    "hdul = fits.open('resources/nip.fits')"
   ]
  },
  {
   "cell_type": "code",
   "execution_count": null,
   "id": "ad1046f0",
   "metadata": {},
   "outputs": [],
   "source": []
  }
 ],
 "metadata": {
  "jupytext": {
   "encoding": "# -*- coding: utf-8 -*-",
   "formats": "ipynb,py:light"
  },
  "kernelspec": {
   "display_name": "Python 3 (ipykernel)",
   "language": "python",
   "name": "python3"
  },
  "language_info": {
   "codemirror_mode": {
    "name": "ipython",
    "version": 3
   },
   "file_extension": ".py",
   "mimetype": "text/x-python",
   "name": "python",
   "nbconvert_exporter": "python",
   "pygments_lexer": "ipython3",
   "version": "3.11.5"
  }
 },
 "nbformat": 4,
 "nbformat_minor": 5
}
