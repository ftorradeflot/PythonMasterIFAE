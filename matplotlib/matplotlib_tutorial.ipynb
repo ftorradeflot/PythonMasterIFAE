{
 "cells": [
  {
   "cell_type": "markdown",
   "metadata": {},
   "source": [
    "# Visualisation using\n",
    "\n",
    "![Matplotlib](http://upload.wikimedia.org/wikipedia/en/5/56/Matplotlib_logo.svg)"
   ]
  },
  {
   "cell_type": "markdown",
   "metadata": {},
   "source": [
    "# Table of Contents\n",
    "\n",
    "1. [Notebook Setup](#setup)\n",
    "2. [Simple Line Plots](#line_plots)\n",
    "3. [Histograms](#histograms)\n",
    "    * [1D](#histogram_1d)\n",
    "    * [2D](#histogram_2d)\n",
    "4. [Bar Plots](#bar)   \n",
    "    * [Simple Bar Plot](#simple_bar)\n",
    "    * [Multiple Bar Plot](#multiple_bar)\n",
    "    * [Stacked Bar Plot](#stacked_bar)\n",
    "5. [Scatter Plots](#scatter)\n",
    "6. [Exercise 1](#exercise_1)\n",
    "7. [matplotlib architecture](#architecture)\n",
    "8. [Multiple Plots](#multiple_plots)\n",
    "    * [Shared Axis](#shared_axis)\n",
    "    * [Gridspec](#gridspec)\n",
    "    * [Inset Plots](#inset_plots)\n",
    "9. [Exercise 2](#exercise_2)\n",
    "10. [Other Stuff](#other_stuff)\n",
    "    * [Image Plot](#plot_image)\n",
    "    * [Box Plot](#box_plot)\n",
    "    * [Pie Charts](#pie_chart)\n",
    "    * [Projections](#projections)\n",
    "    * [Plot Styles](#plot_styles)\n",
    "    * [Save Figures](#save_figures)\n",
    "    * [Animations](#animations)    \n",
    "    * [3D plots](#3d_plots)\n",
    "    * [Seaborn](#seaborn)\n",
    "11. [Exercise 3](#exercise_3)\n"
   ]
  },
  {
   "cell_type": "markdown",
   "metadata": {},
   "source": [
    "<a id=setup></a>\n",
    "# Notebook Setup (run me first!)"
   ]
  },
  {
   "cell_type": "markdown",
   "metadata": {},
   "source": [
    "First, we apply a \"magic command\" to make plots appear \"inline\" inside the notebook. Alternatively, we could allow plots to appear in a separate window."
   ]
  },
  {
   "cell_type": "code",
   "execution_count": null,
   "metadata": {
    "scrolled": false
   },
   "outputs": [],
   "source": [
    "# matplotlib inline plotting\n",
    "%matplotlib inline\n",
    "\n",
    "# There's also notebook plotting (interactive exploration)\n",
    "# %matplotlib notebook\n",
    "\n",
    "import matplotlib.pyplot as plt\n",
    "import numpy as np\n",
    "from IPython.display import HTML\n",
    "\n",
    "# Make the size and fonts larger for this presentation\n",
    "plt.rcParams['figure.figsize'] = (12, 10)\n",
    "plt.rcParams['font.size'] = 16\n",
    "plt.rcParams['lines.linewidth'] = 2"
   ]
  },
  {
   "cell_type": "markdown",
   "metadata": {},
   "source": [
    "<a id=line_plots></a>\n",
    "# Line Plots"
   ]
  },
  {
   "cell_type": "code",
   "execution_count": null,
   "metadata": {
    "scrolled": false
   },
   "outputs": [],
   "source": [
    "x = np.linspace(0, 1, 101) # 101 numbers from 0 to 1\n",
    "\n",
    "plt.plot(x, x**2)"
   ]
  },
  {
   "cell_type": "markdown",
   "metadata": {},
   "source": [
    "<a id=different_styles></a>\n",
    "## Using different styles for plots"
   ]
  },
  {
   "cell_type": "code",
   "execution_count": null,
   "metadata": {
    "scrolled": false
   },
   "outputs": [],
   "source": [
    "t = np.linspace(0, 2 * np.pi)   # 50 points between 0 and 2π\n",
    "plt.plot(t, np.sin(t));"
   ]
  },
  {
   "cell_type": "code",
   "execution_count": null,
   "metadata": {
    "scrolled": false
   },
   "outputs": [],
   "source": [
    "plt.plot(t, np.sin(t), '--');"
   ]
  },
  {
   "cell_type": "code",
   "execution_count": null,
   "metadata": {
    "scrolled": false
   },
   "outputs": [],
   "source": [
    "plt.plot(t, np.sin(t), 'go')\n",
    "# plt.plot(t, np.sin(t), color='green', marker='o', linestyle='');   # same thing!"
   ]
  },
  {
   "cell_type": "code",
   "execution_count": null,
   "metadata": {},
   "outputs": [],
   "source": [
    "# new in matplotlib 2.0, all colors of the color rotation available as C<N>\n",
    "# Multiple lines in the same plot\n",
    "x = np.linspace(0, 1, 100)\n",
    "for n in range(9):\n",
    "    plt.plot(x**(n + 1), color='C{}'.format(n))"
   ]
  },
  {
   "cell_type": "markdown",
   "metadata": {},
   "source": [
    "All styles and colors: [matplotlib.axes.Axes.plot](http://matplotlib.org/api/_as_gen/matplotlib.axes.Axes.plot.html#matplotlib.axes.Axes.plot)\n",
    "\n"
   ]
  },
  {
   "cell_type": "code",
   "execution_count": null,
   "metadata": {},
   "outputs": [],
   "source": [
    "months = range(1, 13)\n",
    "min_temp = np.array([-30.6, -34.3, -26.7, -11.7, -6.1, 1.1, 3.9, 3.3, -2.1, -8.2, -18.2, -22.8])\n",
    "max_temp = np.array([21.7, 19.4, 31.7, 30.6, 36.7, 40.6, 40.6, 37.2, 37.2, 32.8, 26.1, 20.0])"
   ]
  },
  {
   "cell_type": "code",
   "execution_count": null,
   "metadata": {},
   "outputs": [],
   "source": [
    "plt.plot(months, min_temp) #, c='0.2')\n",
    "plt.plot(months, max_temp) #, color='0.2')\n",
    "#plt.ylabel('$^\\circ$C')\n",
    "\n",
    "#plt.fill_between(months, min_temp, max_temp, color='lightgray')\n",
    "#plt.grid(linestyle='--')\n",
    "'''\n",
    "month_names = ['January',\n",
    "          'February',\n",
    "          'March',\n",
    "          'April',\n",
    "          'May',\n",
    "          'June',\n",
    "          'July',\n",
    "          'August',\n",
    "          'September',\n",
    "          'October',\n",
    "          'November',\n",
    "          'December']\n",
    "\n",
    "plt.xticks(\n",
    "    months,\n",
    "    month_names,\n",
    "    rotation=45,\n",
    "    rotation_mode='anchor',\n",
    "    horizontalalignment='right',  # or ha\n",
    "    verticalalignment='top',      # or va\n",
    ");\n",
    "'''"
   ]
  },
  {
   "cell_type": "markdown",
   "metadata": {},
   "source": [
    "<a id=histograms></a>\n",
    "# Histograms"
   ]
  },
  {
   "cell_type": "markdown",
   "metadata": {},
   "source": [
    "<a id=histogram_1d></a>\n",
    "## 1D"
   ]
  },
  {
   "cell_type": "code",
   "execution_count": null,
   "metadata": {},
   "outputs": [],
   "source": [
    "plt.hist?"
   ]
  },
  {
   "cell_type": "code",
   "execution_count": null,
   "metadata": {
    "scrolled": false
   },
   "outputs": [],
   "source": [
    "sample_size = 100\n",
    "m = 20\n",
    "s = 5\n",
    "normal_sample = np.random.normal(m, s, sample_size)\n",
    "bins = np.linspace(0, 50, 101)\n",
    "counts, bins, _ = plt.hist(normal_sample, bins=20, label='Random sample')\n",
    "#plt.xlabel('Normally distributed variable?')\n",
    "#plt.ylabel('Counts')\n",
    "#plt.title('Normal distribution')\n",
    "\n",
    "# Add a line plot to compare with expected distribution\n",
    "#x = np.linspace(0, 40, 100)\n",
    "#y = 1/np.sqrt(1*np.pi*s**2)*np.exp(-(x - m)**2/(2*s**2))*sample_size\n",
    "#plt.plot(x, y, label=r'$p(x) = \\frac{1}{\\sqrt{ 2 \\pi \\sigma^2 }} e^{ - \\frac{ (x - \\mu)^2 } {2 \\sigma^2} }$')\n",
    "\n",
    "# Add a legend\n",
    "#plt.legend(loc='upper left')\n",
    "#plt.legend(loc=(0.2, 0.2))"
   ]
  },
  {
   "cell_type": "markdown",
   "metadata": {},
   "source": [
    "<a id=histogram_2d></a>\n",
    "## 2D"
   ]
  },
  {
   "cell_type": "code",
   "execution_count": null,
   "metadata": {},
   "outputs": [],
   "source": [
    "plt.hist2d?"
   ]
  },
  {
   "cell_type": "code",
   "execution_count": null,
   "metadata": {},
   "outputs": [],
   "source": [
    "mean = [2, 1]\n",
    "cov = [[9, 2],\n",
    "       [2, 4]]\n",
    "\n",
    "x, y = np.random.multivariate_normal(mean, cov, size=10000).T\n",
    "\n",
    "hist_output = plt.hist2d(x, y, bins=50, cmap='gist_heat') # try different color maps: viridis(default), inferno, gist_heat\n",
    "#plt.hist2d(x, y, bins=50)\n",
    "# plt.hist2d(x, y, bins=[25, 50], range=[[-10, 14], [-5, 7]])\n",
    "\n",
    "plt.colorbar(label='Counts'); "
   ]
  },
  {
   "cell_type": "markdown",
   "metadata": {},
   "source": [
    "<a id=bar></a>\n",
    "# Bar plots"
   ]
  },
  {
   "cell_type": "markdown",
   "metadata": {},
   "source": [
    "<a id=simple_bar></a>\n",
    "## Simple bar plot"
   ]
  },
  {
   "cell_type": "code",
   "execution_count": null,
   "metadata": {},
   "outputs": [],
   "source": [
    "plt.bar?"
   ]
  },
  {
   "cell_type": "code",
   "execution_count": null,
   "metadata": {},
   "outputs": [],
   "source": [
    "# Reusing the data from the 1D histogram\n",
    "centers = (bins[:-1] + bins[1:])/2.\n",
    "plt.bar(centers, counts)\n",
    "\n",
    "# Not exactly the plot we had previously\n",
    "# We have to set the width of the bar to the width of the bin\n",
    "#bin_width = bins[1:] - bins[:-1]\n",
    "#plt.bar(centers, counts, bin_width)"
   ]
  },
  {
   "cell_type": "markdown",
   "metadata": {},
   "source": [
    "<a id=multiple_bar></a>\n",
    "## Multiple bar plot"
   ]
  },
  {
   "cell_type": "code",
   "execution_count": null,
   "metadata": {},
   "outputs": [],
   "source": [
    "power_data = np.loadtxt('resources/power_sources.csv', delimiter=';', skiprows=1, usecols=range(1, 9))\n",
    "power_headers = ['Hydroelectric',\n",
    " 'Nuclear',\n",
    " 'Coal',\n",
    " 'Combined Cycle',\n",
    " 'Wind',\n",
    " 'Thermal',\n",
    " 'Other non renewable',\n",
    " 'Other renewable']\n",
    "power_labels = ['January',\n",
    " 'February',\n",
    " 'March',\n",
    " 'April',\n",
    " 'May',\n",
    " 'June',\n",
    " 'July',\n",
    " 'August',\n",
    " 'September',\n",
    " 'October',\n",
    " 'November',\n",
    " 'December']"
   ]
  },
  {
   "cell_type": "code",
   "execution_count": null,
   "metadata": {},
   "outputs": [],
   "source": [
    "plt.bar(np.arange(1, 13) - 1/4., power_data[:, 0], width=1/4., label=power_headers[0])\n",
    "plt.bar(np.arange(1, 13), power_data[:, 4], width=1/4., label=power_headers[4])\n",
    "plt.bar(np.arange(1, 13) + 1/4., power_data[:, 7], width=1/4., label=power_headers[7])\n",
    "plt.xticks(np.arange(1, 13), power_labels, rotation=90)\n",
    "plt.title('% of total Power produced in Spain in 2017')\n",
    "plt.ylabel('%')\n",
    "plt.legend()"
   ]
  },
  {
   "cell_type": "markdown",
   "metadata": {},
   "source": [
    "<a id=stacked_bar></a>\n",
    "## Stacked bar plot"
   ]
  },
  {
   "cell_type": "code",
   "execution_count": null,
   "metadata": {},
   "outputs": [],
   "source": [
    "renewable = power_data[:, [0, 4, 7]].sum(axis=1) # Hydroelectric + Wind + Other renewable'\n",
    "non_renewable = power_data[:, [1, 2, 3, 5, 6]].sum(axis=1) # Nuclear + Coal + Combined Cycle + Thermal + Other non renewable\n",
    "\n",
    "plt.bar(range(1, 13), renewable, label='Renewable')\n",
    "plt.bar(range(1, 13), non_renewable, bottom=renewable, label='Non renewable')\n",
    "\n",
    "plt.xticks(range(1, 13), power_labels, rotation=45, ha='right')\n",
    "plt.hlines(50, 0, 13)\n",
    "plt.legend()\n",
    "\n",
    "#plt.yticks([]);"
   ]
  },
  {
   "cell_type": "markdown",
   "metadata": {},
   "source": [
    "<a id=scatter></a>\n",
    "# Scatter plots"
   ]
  },
  {
   "cell_type": "code",
   "execution_count": null,
   "metadata": {},
   "outputs": [],
   "source": [
    "plt.scatter?"
   ]
  },
  {
   "cell_type": "code",
   "execution_count": null,
   "metadata": {},
   "outputs": [],
   "source": [
    "x1, y1, z1 = np.random.multivariate_normal([1, 1, 0], [[1, 0, 0], [0, 1, 0], [0, 0, 10]], 1000).T\n",
    "\n",
    "# raw plot\n",
    "plt.scatter(x1, y1, alpha=0.5)\n",
    "\n",
    "# Coloured\n",
    "#plt.scatter(x1, y1, c=z1, cmap='winter')\n",
    "#plt.colorbar()\n",
    "\n",
    "# With sizes\n",
    "#plt.scatter(x1, y1, s=5*(z1 - min(z1)), alpha=0.5)\n",
    "\n",
    "# Add another scatter\n",
    "#x2, y2 = np.random.multivariate_normal([-1, -1], [[1, 0], [0, 1]], 1000).T\n",
    "#plt.scatter(x2, y2, alpha=0.5)\n",
    "\n",
    "# Add a grid\n",
    "#plt.grid()\n",
    "# And tune it!!\n",
    "#plt.grid(alpha=0.2, linestyle='--', linewidth=2., color='0.2')\n",
    "\n",
    "# The grid is bound to the ticks\n",
    "#plt.xticks(np.arange(-4, 4.1))\n",
    "#plt.yticks(np.arange(-4, 4.1));\n",
    "\n",
    "# Set the limits of the plot\n",
    "#plt.xlim([-2, 2])\n",
    "#plt.ylim([-2, 2]);\n"
   ]
  },
  {
   "cell_type": "markdown",
   "metadata": {},
   "source": [
    "<a id=exercise_1></a>\n",
    "# Exercise 1\n",
    "\n",
    "Generate a line plot with the data of 3 random walks, corresponding to different random distributions.\n",
    "\n",
    "With these characteristics:\n",
    "* All lines in grey tones\n",
    "* different markers or line types for each line\n",
    "* with a legend located at the 'upper left'\n",
    "\n",
    "**Hint:** Use the `np.cumsum` function to generate a random walk from a random sample.  "
   ]
  },
  {
   "cell_type": "markdown",
   "metadata": {},
   "source": [
    "<a id=architecture></a>\n",
    "# matplotlib architecture\n",
    "\n",
    "Up to this point, we have only used the so-called *state-machine interface*. It's a MATLAB-like interface implemented in the *pyplot* module that provides convenient methods for easy plotting. But it has some drawbacks:\n",
    "\n",
    "* It's not very pythonic (python is OO)\n",
    "* No idea what's happening in the background\n",
    "\n",
    "This interface is OK for online plotting, because it's simple, but it is not convenient for other purposes, like embedding plots into a program. For all other purposes, the OO interface should be preferred. Using it, our code will be more verbose, but also more explanatory, and we'll have more control on what it's doing.\n",
    "\n",
    "\n",
    "In order to introduce the OO API, it's convenient that we have some knowledge of matplotlib's architecture.\n",
    "\n",
    "The top-level matplotlib object that contains and manages all of the elements in a given graphic is called the **Figure**.\n",
    "\n",
    "To achieve the manipulation and rendering of this objects, matplotlib is structured in three layers:\n",
    "* *Backend*: It's the one that actually draws the Artists on the canvas.\n",
    "* *Artist Layer*: Are the things that have to be plotted. The figure, lines, axis, bars, ...\n",
    "* *Scripting Layer (pyplot)*: Light scripting interface we have alredy shown\n",
    "\n",
    "\n",
    "## Artists layer\n",
    "\n",
    "Everything you see in a plot is an Artist instance. This layer is a hierarchy of objects with the **Figure** sitting on top of it.\n",
    "\n",
    "<table><tr>\n",
    "<td><img src=\"resources/artists_figure.png\"></img></td>\n",
    "<td><img src=\"resources/artists_tree.png\"></img></td>\n",
    "</tr>\n",
    "</table>\n",
    "\n",
    "\n",
    "Some more detail ([directly from the matplotlib documentation](https://matplotlib.org/tutorials/introductory/usage.html#parts-of-a-figure))\n",
    "\n",
    "### Figure\n",
    "The whole figure. The figure keeps track of all the child Axes, a smattering of 'special' artists (titles, figure legends, etc), and the canvas. A figure can have any number of Axes.\n",
    "\n",
    "### Axes\n",
    "This is what you think of as 'a plot', it is the region of the image with the data space. A given figure can contain many Axes, but a given Axes object can only be in one Figure. The Axes contains two (or three in the case of 3D) Axis objects.\n",
    "\n",
    "The Axes class and it's member functions are the primary entry point to working with the OO interface.\n",
    "\n",
    "### Axis\n",
    "These are the number-line-like objects. They take care of setting the graph limits and generating the ticks (the marks on the axis) and ticklabels (strings labeling the ticks)."
   ]
  },
  {
   "cell_type": "code",
   "execution_count": null,
   "metadata": {},
   "outputs": [],
   "source": [
    "x = np.linspace(0, 10, 100)\n",
    "y = x**2\n",
    "plt.plot(x, y, label='ay')\n",
    "plt.xlabel('lolay')\n",
    "plt.ylabel('lolá')\n",
    "plt.legend()\n",
    "\n",
    "# import the artist class from matplotlib\n",
    "from matplotlib.artist import Artist\n",
    "\n",
    "def rec_gc(art, depth=0, max_depth=8):\n",
    "    if depth < max_depth and isinstance(art, Artist):\n",
    "        # increase the depth for pretty printing\n",
    "        print(\"  \" * depth + str(art))\n",
    "        for child in art.get_children():\n",
    "            rec_gc(child, depth+2)\n",
    "\n",
    "# Call this function on the legend artist to see what the legend is made up of\n",
    "fig = plt.gcf()\n",
    "rec_gc(fig)"
   ]
  },
  {
   "cell_type": "markdown",
   "metadata": {},
   "source": [
    "Both APIs can be connected through the `pyplot.gcf` and `pyplot.gca` methods."
   ]
  },
  {
   "cell_type": "code",
   "execution_count": null,
   "metadata": {},
   "outputs": [],
   "source": [
    "x = np.arange(5)\n",
    "plt.plot(x, x)\n",
    "\n",
    "fig = plt.gcf()\n",
    "ax = plt.gca()\n",
    "print('Is this the same? {}\\n'.format(ax == fig.get_children()[1]))"
   ]
  },
  {
   "cell_type": "code",
   "execution_count": null,
   "metadata": {},
   "outputs": [],
   "source": [
    "plt.get_backend()"
   ]
  },
  {
   "cell_type": "markdown",
   "metadata": {},
   "source": [
    "When using the inline backend, the current figure is renderd in cell execution.\n",
    "\n",
    "New cells will contain new figures.\n",
    "\n",
    "This behaviour may be different with other backends."
   ]
  },
  {
   "cell_type": "code",
   "execution_count": null,
   "metadata": {},
   "outputs": [],
   "source": [
    "new_fig = plt.gcf()\n",
    "print('old figure exits and is a {}'.format(type(fig)))\n",
    "print('new figure exits and is a {}'.format(type(new_fig)))\n",
    "print('But are they the same instance? {}'.format(fig == new_fig))"
   ]
  },
  {
   "cell_type": "markdown",
   "metadata": {},
   "source": [
    "<a id=multiple_plots></a>\n",
    "# Multiple plots in the same figure"
   ]
  },
  {
   "cell_type": "code",
   "execution_count": null,
   "metadata": {
    "scrolled": false
   },
   "outputs": [],
   "source": [
    "x = np.linspace(0, 3.)\n",
    "\n",
    "# subplot arguments: # of rows, # of columns, plot index (row * (#cols) + col)\n",
    "for i in range(9):\n",
    "    ax = plt.subplot(3, 3, i + 1) # the same as fig.add_subplot\n",
    "    ax.plot(x, x**i)\n",
    "    ax.set_xlim(0, 3)\n",
    "    y_center = np.array(ax.get_ylim()).sum()/2.\n",
    "    ax.text(1.5, y_center, str(i + 1), ha='center', va='center', fontsize=32)\n",
    "\n",
    "plt.tight_layout() # When doing multiple plots you should almost always use this command"
   ]
  },
  {
   "cell_type": "markdown",
   "metadata": {},
   "source": [
    "<a id=shared_axis></a>\n",
    "## Subplots / Shared Axes"
   ]
  },
  {
   "cell_type": "code",
   "execution_count": null,
   "metadata": {},
   "outputs": [],
   "source": [
    "def poisson(x, k):\n",
    "    return np.exp(-x)*x**k / np.math.factorial(k)\n",
    "\n",
    "x = np.linspace(0, 12, 40)\n",
    "y = poisson(x, 2)\n",
    "y_noise = y + np.random.normal(0, 0.01, len(y))\n",
    "z = np.linspace(0, 12, 100)\n",
    "\n",
    "gridspec = {'height_ratios': [2, 1]}\n",
    "fig, (ax1, ax2) = plt.subplots(2, sharex=True, gridspec_kw=gridspec)\n",
    "\n",
    "ax1.plot(x, y_noise, 'ko')\n",
    "ax1.plot(z, poisson(z, 2))\n",
    "ax1.set_ylim(-0.05, 0.30)\n",
    "ax1.set_ylabel('Flux')\n",
    "#ax1.set_yticks(ax1.get_yticks()[1:])    # remove bottom y-tick\n",
    "\n",
    "ax2.plot(x, y_noise - y, 'ko')\n",
    "ax2.axhline(y=0, color='black', linestyle='--', linewidth=1)\n",
    "ax2.set_xlabel('Energy')\n",
    "ax2.set_ylim(-0.03, 0.04)\n",
    "ax2.set_ylabel('Residuals')\n",
    "#ax2.set_yticks(ax2.get_yticks()[:-2])   # remove top y-tick\n",
    "\n",
    "#fig.subplots_adjust(hspace=0)\n",
    "fig.suptitle('\\nFake Spectrum', fontweight='bold');"
   ]
  },
  {
   "cell_type": "markdown",
   "metadata": {},
   "source": [
    "<a id=gridspec></a>\n",
    "## Using Gridspec"
   ]
  },
  {
   "cell_type": "code",
   "execution_count": null,
   "metadata": {},
   "outputs": [],
   "source": [
    "# use gridspec to partition the figure into subplots\n",
    "import matplotlib.gridspec as gridspec\n",
    "\n",
    "fig = plt.figure()\n",
    "gspec = gridspec.GridSpec(3, 3) #, wspace=0.05, hspace=0.05)\n",
    "\n",
    "top_histogram = fig.add_subplot(gspec[0, 1:])\n",
    "side_histogram = fig.add_subplot(gspec[1:, 0])\n",
    "lower_right = fig.add_subplot(gspec[1:, 1:])\n",
    "\n",
    "# We produce two sets of random data\n",
    "Y = np.random.normal(loc=0.0, scale=1.0, size=10000)\n",
    "X = np.random.random(size=10000)\n",
    "\n",
    "# Normed histograms counts add up to 1, they resemble a probability density function\n",
    "top_histogram.hist(X, bins=100, density=True)\n",
    "side_histogram.hist(Y, bins=100, orientation='horizontal', density=True)\n",
    "# flip the side histogram's x axis\n",
    "#side_histogram.invert_xaxis()\n",
    "lower_right.scatter(X, Y, alpha=0.5)\n",
    "\n",
    "# Remove the picks in-between\n",
    "#top_histogram.set_xticks([])\n",
    "#lower_right.set_yticks([])\n",
    "#top_histogram.set_yticks(top_histogram.get_yticks()[1:])\n",
    "#side_histogram.set_xticks(side_histogram.get_xticks()[1:]);"
   ]
  },
  {
   "cell_type": "markdown",
   "metadata": {},
   "source": [
    "<a id=inset_plots></a>\n",
    "## Inset Plots (plot inside a plot)"
   ]
  },
  {
   "cell_type": "code",
   "execution_count": null,
   "metadata": {
    "scrolled": false
   },
   "outputs": [],
   "source": [
    "plt.plot(x, x**2)\n",
    "plt.title(\"Outer Plot\")\n",
    "\n",
    "# axes coordinates: (0,0) is lower left, (1,1) upper right\n",
    "plt.axes([0.2, 0.45, 0.3, 0.3])\n",
    "plt.plot(x, x**3)\n",
    "plt.title(\"Inner Plot\");"
   ]
  },
  {
   "cell_type": "markdown",
   "metadata": {},
   "source": [
    "<a id=exercise_2></a>\n",
    "## Exercise 2\n",
    "\n",
    "Generate 3 differents random samples.\n",
    "\n",
    "Plot them as normalized 1D histograms in a figure with 3 axes in 1 column, with shared x-axis and y-axis.\n",
    "\n",
    "Put the name of the distribution somewhere in the axes so it can be identified.\n",
    "\n",
    "There have to be no x-ticks in the top 2 axes and no vertical space between them.\n",
    "\n",
    "Remove y-ticks."
   ]
  },
  {
   "cell_type": "markdown",
   "metadata": {},
   "source": [
    "<a id=other_stuff></a>\n",
    "# Other stuff"
   ]
  },
  {
   "cell_type": "markdown",
   "metadata": {},
   "source": [
    "<a id=plot_image></a>\n",
    "##  Plot image"
   ]
  },
  {
   "cell_type": "code",
   "execution_count": null,
   "metadata": {},
   "outputs": [],
   "source": [
    "n_rows = 2\n",
    "n_cols = 2\n",
    "m = np.array([[n_rows*i + j for j in range(n_cols)] for i in range(n_rows)])\n",
    "plt.imshow(m)\n",
    "plt.colorbar();"
   ]
  },
  {
   "cell_type": "code",
   "execution_count": null,
   "metadata": {},
   "outputs": [],
   "source": [
    "from matplotlib.colors import LogNorm\n",
    "\n",
    "x = np.linspace(0, 2 * np.pi, 120)\n",
    "y = np.linspace(0, 2 * np.pi, 120).reshape(-1, 1)\n",
    "\n",
    "im = plt.imshow(np.sin(x) + np.cos(y), cmap='gist_heat') #, clim=(-0.5, 0.5)) #, norm=LogNorm())\n",
    "plt.colorbar();"
   ]
  },
  {
   "cell_type": "markdown",
   "metadata": {},
   "source": [
    "<a id=box_plot></a>\n",
    "## Box plots"
   ]
  },
  {
   "cell_type": "code",
   "execution_count": null,
   "metadata": {},
   "outputs": [],
   "source": [
    "s1 = np.random.normal(size=100)\n",
    "s2 = np.random.uniform(size=100)\n",
    "s3 = np.random.exponential(size=100)\n",
    "plt.boxplot([s1, s2, s3], labels=['Normal', 'Uniform', 'Exponential']);"
   ]
  },
  {
   "cell_type": "markdown",
   "metadata": {},
   "source": [
    "<a id=pie_chart></a>\n",
    "## Pie charts"
   ]
  },
  {
   "cell_type": "code",
   "execution_count": null,
   "metadata": {},
   "outputs": [],
   "source": [
    "pie_order = [0, 4, 7, 1, 2, 3, 5, 6]\n",
    "pie_data = power_data[11, pie_order]\n",
    "pie_labels = [power_headers[i] for i in pie_order]\n",
    "pie_colors = [(0, (i + 3)/5., 0, 0.7) for i in range(3)] + \\\n",
    "    [((i + 3)/7., 0, 0, 0.7) for i in range(5)] #RGB color specification\n",
    "\n",
    "fig, ax = plt.subplots()\n",
    "ax.pie(pie_data, labels=pie_labels, colors=pie_colors)\n",
    "ax.axis('equal');"
   ]
  },
  {
   "cell_type": "markdown",
   "metadata": {},
   "source": [
    "<a id=projections></a>\n",
    "## Projections"
   ]
  },
  {
   "cell_type": "code",
   "execution_count": null,
   "metadata": {
    "scrolled": false
   },
   "outputs": [],
   "source": [
    "import matplotlib.gridspec as gridspec\n",
    "\n",
    "gs = gridspec.GridSpec(1, 3, wspace=0.5)\n",
    "\n",
    "theta = np.linspace(0, 5*2*np.pi, 101)\n",
    "r = theta/2*np.pi\n",
    "\n",
    "fig = plt.figure(figsize=(16, 8))\n",
    "\n",
    "ax1 = fig.add_subplot(gs[0], projection='polar')\n",
    "ax1.plot(theta, r)\n",
    "\n",
    "gaia_data = np.loadtxt('resources/GaiaDR2.csv', delimiter=',', skiprows=11)\n",
    "ax2 = fig.add_subplot(gs[1:], projection='mollweide')\n",
    "ax2.scatter(np.deg2rad(gaia_data[:, 0]), np.deg2rad(gaia_data[:, 1]), alpha=0.3)\n",
    "ax2.grid()\n"
   ]
  },
  {
   "cell_type": "markdown",
   "metadata": {},
   "source": [
    "<a id=plot_styles></a>\n",
    "## Plot styles"
   ]
  },
  {
   "cell_type": "markdown",
   "metadata": {},
   "source": [
    "List available styles:"
   ]
  },
  {
   "cell_type": "code",
   "execution_count": null,
   "metadata": {},
   "outputs": [],
   "source": [
    "print(plt.style.available)"
   ]
  },
  {
   "cell_type": "code",
   "execution_count": null,
   "metadata": {
    "scrolled": false
   },
   "outputs": [],
   "source": [
    "from scipy import stats\n",
    "\n",
    "def plot_stuff():\n",
    "    plt.subplot(2, 2, 1)\n",
    "    x = np.linspace(-1, 1, 1000)\n",
    "    plt.plot(x, np.sin(50*x**3)/(x))\n",
    "    plt.grid()\n",
    "\n",
    "    plt.subplot(2, 2, 2)\n",
    "    x = np.linspace(-1, 1, 10)\n",
    "    y = np.exp(-2.2*x) + np.random.normal(0, 0.1, 10)\n",
    "    yerr = np.random.normal(0, 0.2, 10)\n",
    "    plt.errorbar(x, y, yerr, fmt='o', capsize=3)\n",
    "    plt.yscale('log')\n",
    "\n",
    "    plt.subplot(2, 2, 3)\n",
    "    x = stats.skewnorm.rvs(10, size=1000)\n",
    "    plt.hist(x, bins=50)\n",
    "\n",
    "    plt.subplot(2, 2, 4)\n",
    "    x, y = np.mgrid[-1:1:.01, -1:1:.01]\n",
    "    pos = np.dstack((x, y))\n",
    "    z = stats.multivariate_normal([0.1, 0.3], [[0.2, 0.3], [0.1, 0.4]])\n",
    "    plt.contourf(x, y, z.pdf(pos))\n",
    "\n",
    "for plot_style in ['classic', 'bmh', 'fivethirtyeight', 'ggplot', 'seaborn']:\n",
    "    plt.figure()\n",
    "    with plt.style.context(plot_style):   # use context manager so that changes are temporary\n",
    "        plot_stuff()\n",
    "        plt.suptitle('Plot Style: ' + plot_style, fontweight='bold')"
   ]
  },
  {
   "cell_type": "markdown",
   "metadata": {},
   "source": [
    "<a id=save_figures></a>\n",
    "## Saving figures\n",
    "\n",
    "Use `plt.savefig` to save your figure.\n",
    "\n",
    "You can either give path relative to your working directory or an absolute path.\n",
    "Not sure what the current working directory is?"
   ]
  },
  {
   "cell_type": "code",
   "execution_count": null,
   "metadata": {},
   "outputs": [],
   "source": [
    "pwd()"
   ]
  },
  {
   "cell_type": "code",
   "execution_count": null,
   "metadata": {},
   "outputs": [],
   "source": [
    "x = np.linspace(-5, 5)\n",
    "plt.plot(x, x**3, marker='s')\n",
    "plt.title(\"My Awesome Plot\")\n",
    "\n",
    "# save in current directory; extension determines file type\n",
    "plt.savefig('awesome_plot.pdf')\n",
    "plt.savefig('awesome_plot.eps')\n",
    "plt.savefig('awesome_plot.png', dpi=300)   # bitmap graphics; don't use me for publications!\n",
    "plt.savefig('awesome_plot.jpg', dpi=300)   # bitmap graphics; don't use me either!\n",
    "\n",
    "# relative path with subdirectory\n",
    "# plt.savefig('build/awesome_plot.pdf')\n",
    "\n",
    "# absolute path\n",
    "# plt.saveig('/path/to/output/directory/awesome_plot.pdf')"
   ]
  },
  {
   "cell_type": "markdown",
   "metadata": {},
   "source": [
    "<a id=animations></a>\n",
    "## Animations"
   ]
  },
  {
   "cell_type": "code",
   "execution_count": null,
   "metadata": {},
   "outputs": [],
   "source": [
    "import matplotlib.animation as animation\n",
    "\n",
    "class FunctionAnimatedImage():\n",
    "    \n",
    "    def func(self):\n",
    "        return np.sin(self.x) + np.cos(self.y)\n",
    "    \n",
    "    def __init__(self):\n",
    "        self.x = np.linspace(0, 2 * np.pi, 120)\n",
    "        self.y = np.linspace(0, 2 * np.pi, 120).reshape(-1, 1)\n",
    "\n",
    "        self.im = plt.imshow(self.func(), animated=True)\n",
    "        \n",
    "    def next_frame(self, i, *args):\n",
    "        \n",
    "        self.x += np.pi / 5.\n",
    "        self.y += np.pi / 20.\n",
    "        self.im.set_array(self.func())\n",
    "        return self.im,\n",
    "\n",
    "fig = plt.figure()\n",
    "anim_img = FunctionAnimatedImage()\n",
    "\n",
    "# Animate the image by recursively calling the next_frame function\n",
    "ani_1 = animation.FuncAnimation(fig, anim_img.next_frame, frames=40, interval=50, blit=True)\n",
    "\n",
    "# Embed the video in an html 5.0 video tag\n",
    "HTML(ani_1.to_html5_video())"
   ]
  },
  {
   "cell_type": "markdown",
   "metadata": {},
   "source": [
    "<a id=3d_plots></a>\n",
    "## 3D Plots"
   ]
  },
  {
   "cell_type": "code",
   "execution_count": null,
   "metadata": {},
   "outputs": [],
   "source": [
    "import mpl_toolkits.mplot3d.axes3d as p3\n",
    "x = np.linspace(0, 2 * np.pi, 120)\n",
    "y = np.linspace(0, 2 * np.pi, 120).reshape(-1, 1)\n",
    "z = np.sin(x) + np.cos(y)\n",
    "\n",
    "fig = plt.figure()\n",
    "ax = fig.add_subplot(111, projection='3d')\n",
    "ax.plot_surface(x, y, z, cmap='viridis')"
   ]
  },
  {
   "cell_type": "markdown",
   "metadata": {},
   "source": [
    "<a id=seaborn></a>\n",
    "## Seaborn"
   ]
  },
  {
   "cell_type": "code",
   "execution_count": null,
   "metadata": {},
   "outputs": [],
   "source": [
    "import seaborn as sns"
   ]
  },
  {
   "cell_type": "code",
   "execution_count": null,
   "metadata": {},
   "outputs": [],
   "source": [
    "np.random.seed(1234)\n",
    "\n",
    "v1 = np.random.normal(0, 10, 1000)\n",
    "v2 = 2*v1 + np.random.normal(60, 15, 1000)"
   ]
  },
  {
   "cell_type": "code",
   "execution_count": null,
   "metadata": {},
   "outputs": [],
   "source": [
    "# plot a kernel density estimation over a stacked barchart\n",
    "plt.figure()\n",
    "plt.hist([v1, v2], histtype='barstacked', density=True);\n",
    "v3 = np.concatenate((v1,v2))\n",
    "sns.kdeplot(v3);"
   ]
  },
  {
   "cell_type": "code",
   "execution_count": null,
   "metadata": {},
   "outputs": [],
   "source": [
    "grid = sns.jointplot(v1, v2, alpha=0.4);\n",
    "#grid.ax_joint.set_aspect('equal')"
   ]
  },
  {
   "cell_type": "markdown",
   "metadata": {},
   "source": [
    "And much more ... https://seaborn.pydata.org/"
   ]
  },
  {
   "cell_type": "markdown",
   "metadata": {},
   "source": [
    "<a id=exercise_3></a>\n",
    "# Exercise 3\n",
    "\n",
    "Load the file `resources/nip.fits` using fits.\n",
    "```\n",
    "hdul = fits.open('resources/nip.fits')\n",
    "```\n",
    "\n",
    "Plot the matrix in `hdul[1].data` with imshow. You won't see much.\n",
    "\n",
    "Do a histogram (Hint: use the `log` argument) to analyze the values in the matrix.\n",
    "\n",
    "Use imshow (with `norm`) to see what's inside the plot.\n",
    "\n",
    "Use `imshow` + `clim` to see a higher detail of the background.\n",
    "\n",
    "Put everything in a single figure mith multiple axes"
   ]
  },
  {
   "cell_type": "code",
   "execution_count": null,
   "metadata": {},
   "outputs": [],
   "source": [
    "from astropy.io import fits"
   ]
  },
  {
   "cell_type": "code",
   "execution_count": null,
   "metadata": {},
   "outputs": [],
   "source": [
    "hdul = fits.open('resources/nip.fits')"
   ]
  },
  {
   "cell_type": "code",
   "execution_count": null,
   "metadata": {},
   "outputs": [],
   "source": []
  }
 ],
 "metadata": {
  "anaconda-cloud": {},
  "kernelspec": {
   "display_name": "Python 3",
   "language": "python",
   "name": "python3"
  },
  "language_info": {
   "codemirror_mode": {
    "name": "ipython",
    "version": 3
   },
   "file_extension": ".py",
   "mimetype": "text/x-python",
   "name": "python",
   "nbconvert_exporter": "python",
   "pygments_lexer": "ipython3",
   "version": "3.7.3"
  }
 },
 "nbformat": 4,
 "nbformat_minor": 1
}
