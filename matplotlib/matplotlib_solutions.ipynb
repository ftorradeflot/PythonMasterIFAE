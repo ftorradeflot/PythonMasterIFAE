{
 "cells": [
  {
   "cell_type": "code",
   "execution_count": null,
   "metadata": {},
   "outputs": [],
   "source": [
    "%matplotlib inline\n",
    "import matplotlib.pyplot as plt\n",
    "import numpy as np\n",
    "\n",
    "# Make the size and fonts larger for this presentation\n",
    "plt.rcParams['figure.figsize'] = (12, 10)\n",
    "plt.rcParams['font.size'] = 16\n",
    "plt.rcParams['lines.linewidth'] = 2"
   ]
  },
  {
   "cell_type": "markdown",
   "metadata": {},
   "source": [
    "<a id=exercise_1></a>\n",
    "# Exercise 1\n",
    "\n",
    "Generate a line plot with the data of 3 random walks, corresponding to different random distributions.\n",
    "\n",
    "With these characteristics:\n",
    "* All lines in grey tones\n",
    "* different markers or line types for each line\n",
    "* with a legend located at the 'upper left'\n",
    "\n",
    "**Hint:** Use the `np.cumsum` function to generate a random walk from a random sample.  "
   ]
  },
  {
   "cell_type": "code",
   "execution_count": null,
   "metadata": {},
   "outputs": [],
   "source": [
    "rw_1 = np.cumsum(np.random.normal(size=100), axis=0)\n",
    "plt.plot(rw_1, '--k', label='Normal')\n",
    "\n",
    "rw_2 = np.cumsum(np.random.standard_t(5, size=100), axis=0)\n",
    "plt.plot(rw_2, ':ok', label='Students T')\n",
    "\n",
    "rw_3 = np.cumsum(np.random.uniform(low=-1., high=1., size=100), axis=0)\n",
    "plt.plot(rw_3, '-k', label='Uniform')\n",
    "\n",
    "plt.legend(loc='lower left')"
   ]
  },
  {
   "cell_type": "markdown",
   "metadata": {},
   "source": [
    "<a id=exercise_2></a>\n",
    "## Exercise 2\n",
    "\n",
    "Generate 3 differents random samples.\n",
    "\n",
    "Plot them as normalized 1D histograms in a figure with 3 axes in 1 column, with shared x-axis and y-axis.\n",
    "\n",
    "Put the name of the distribution somewhere in the axes so it can be identified.\n",
    "\n",
    "There have to be no x-ticks in the top 2 axes and no vertical space between them.\n",
    "\n",
    "Remove y-ticks."
   ]
  },
  {
   "cell_type": "code",
   "execution_count": null,
   "metadata": {},
   "outputs": [],
   "source": [
    "s1 = np.random.normal(size=100)\n",
    "s2 = np.random.uniform(size=100)\n",
    "s3 = np.random.exponential(size=100)\n",
    "\n",
    "bins = np.linspace(-3, 5, 30)\n",
    "\n",
    "fig, ((ax1), (ax2), (ax3)) = plt.subplots(3, 1, sharex=True, sharey=True, gridspec_kw={'hspace':0})\n",
    "ax1.hist(s1, color='0.4', bins=bins, density=True)\n",
    "ax2.hist(s2, color='0.4', bins=bins, density=True)\n",
    "ax3.hist(s3, color='0.4', bins=bins, density=True)\n",
    "\n",
    "ax1.text(0.05, 0.9,'Normal', ha='left', va='top', transform=ax1.transAxes)\n",
    "ax2.text(0.05, 0.9,'Uniform', ha='left', va='top', transform=ax2.transAxes)\n",
    "ax3.text(0.05, 0.9,'Exponential', ha='left', va='top', transform=ax3.transAxes)\n",
    "for ax in fig.get_axes():\n",
    "    ax.set_yticks([])"
   ]
  },
  {
   "cell_type": "markdown",
   "metadata": {},
   "source": [
    "<a id=exercise_3></a>\n",
    "# Exercise 3\n",
    "\n",
    "Load the file `resources/nip.fits` using fits.\n",
    "```\n",
    "hdul = fits.open('resources/nip.fits')\n",
    "```\n",
    "\n",
    "Plot the matrix in `hdul[1].data` with imshow. You won't see much.\n",
    "\n",
    "Do a histogram (Hint: use the `log` argument) to analyze the values in the matrix.\n",
    "\n",
    "Use imshow (with `norm`) to see what's inside the plot.\n",
    "\n",
    "Use `imshow` + `clim` to see a higher detail of the background.\n",
    "\n",
    "Put everything in a single figure mith multiple axes"
   ]
  },
  {
   "cell_type": "code",
   "execution_count": null,
   "metadata": {},
   "outputs": [],
   "source": [
    "from astropy.io import fits\n",
    "import matplotlib.gridspec as gridspec\n",
    "from matplotlib.colors import LogNorm\n",
    "\n",
    "hdul = fits.open('resources/nip.fits')\n",
    "\n",
    "fig = plt.figure(figsize=(12., 12.))\n",
    "\n",
    "gs = gridspec.GridSpec(3, 4, hspace=0.)\n",
    "\n",
    "ax1 = fig.add_subplot(gs[:2, :2])\n",
    "ax1.imshow(hdul[1].data, clim=(200, 66000), norm=LogNorm(), cmap='gist_heat')\n",
    "\n",
    "ax2 = fig.add_subplot(gs[:2, 2:])\n",
    "im2 = ax2.imshow(hdul[1].data, clim=(0, 200), cmap='Greys')\n",
    "\n",
    "ax3 = fig.add_subplot(gs[2, :2])\n",
    "ax3.hist(hdul[1].data.flatten(), bins=100, log=True);\n",
    "\n",
    "ax4 = fig.add_subplot(gs[2, 2:])\n",
    "ax4.hist(hdul[1].data.flatten(), bins=100, range=(0, 300));\n",
    "\n",
    "plt.tight_layout()"
   ]
  },
  {
   "cell_type": "code",
   "execution_count": null,
   "metadata": {},
   "outputs": [],
   "source": []
  }
 ],
 "metadata": {
  "kernelspec": {
   "display_name": "Python 3",
   "language": "python",
   "name": "python3"
  },
  "language_info": {
   "codemirror_mode": {
    "name": "ipython",
    "version": 3
   },
   "file_extension": ".py",
   "mimetype": "text/x-python",
   "name": "python",
   "nbconvert_exporter": "python",
   "pygments_lexer": "ipython3",
   "version": "3.7.3"
  }
 },
 "nbformat": 4,
 "nbformat_minor": 2
}
