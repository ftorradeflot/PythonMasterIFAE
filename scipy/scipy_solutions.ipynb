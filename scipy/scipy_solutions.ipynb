{
 "cells": [
  {
   "cell_type": "code",
   "execution_count": null,
   "metadata": {},
   "outputs": [],
   "source": [
    "%matplotlib inline\n",
    "import scipy as sp\n",
    "import numpy as np\n",
    "import matplotlib.pyplot as plt\n",
    "plt.rcParams['figure.figsize'] = (12., 8.)"
   ]
  },
  {
   "cell_type": "markdown",
   "metadata": {},
   "source": [
    "## Exercise 1\n",
    "\n",
    "Use the `curve_fit` function to fit a quadratic polynomial function to the data, plot the result and compare the erro with the previous fits."
   ]
  },
  {
   "cell_type": "code",
   "execution_count": null,
   "metadata": {
    "collapsed": true
   },
   "outputs": [],
   "source": [
    "a = -1\n",
    "b = 5\n",
    "\n",
    "def f(x, a, b):\n",
    "    return np.exp(a * x) + b\n",
    "\n",
    "x = np.linspace(0, 5, 100)\n",
    "y = f(x, a, b) + np.random.normal(0, 0.1, 100)"
   ]
  },
  {
   "cell_type": "code",
   "execution_count": null,
   "metadata": {},
   "outputs": [],
   "source": [
    "from scipy.optimize import curve_fit\n",
    "\n",
    "def f_quadratic(x, a, b, c):\n",
    "    return a*x**2 + b**x + c\n",
    "\n",
    "quad_params, quad_covariance_matrix = curve_fit(f_quadratic, x, y)\n",
    "y_fit = f_quadratic(x, *quad_params)\n",
    "error = ((y - y_fit)**2).sum()\n",
    "\n",
    "print('parameters: {}'.format(quad_params))\n",
    "print('error: {}'.format(error))"
   ]
  },
  {
   "cell_type": "code",
   "execution_count": null,
   "metadata": {},
   "outputs": [],
   "source": [
    "plt.plot(x, y, '.')\n",
    "plt.plot(x, y_fit)"
   ]
  },
  {
   "cell_type": "markdown",
   "metadata": {},
   "source": [
    "<a id=exercise_2></a>\n",
    "### Exercise 2\n",
    "\n",
    "Do the same to estimate the parameters of a gaussian distribution.\n",
    "\n",
    "Generate a sample of a normal distribution with $\\mu = 10$ and $\\sigma = 6$\n",
    "\n",
    "pdf:\n",
    "\n",
    "$$\n",
    "f(x, \\mu, \\sigma) =  \\frac{1}{\\sqrt{2 \\pi}} \\mathrm{e}^{-0.5 \\frac{(x - \\mu)^2}{\\sigma^2}}\n",
    "$$\n",
    "\n",
    "Minimize the negative log-likelihood:\n",
    "\n",
    "$$\n",
    "-\\log(\\mathcal{L}) = -\\sum_{i = 0}^N \\log\\bigl( \\frac{1}{\\sqrt{2 \\pi}} \\mathrm{e}^{-0.5 \\frac{(x_i - \\mu)^2}{\\sigma^2}}  \\bigr)\n",
    "$$\n",
    "\n",
    "You can make use of the `norm.rvs` and `norm.pdf` functions to generate the sample and define the function to be minimized."
   ]
  },
  {
   "cell_type": "code",
   "execution_count": null,
   "metadata": {},
   "outputs": [],
   "source": [
    "from scipy.optimize import minimize\n",
    "from scipy.stats import norm\n",
    "\n",
    "x = norm.rvs(loc=10, scale=6, size=100)\n",
    "\n",
    "def negative_log_likelihood(params, x):\n",
    "    mu, sigma = params\n",
    "    neg_l = -np.sum(np.log(norm.pdf(x, mu, sigma)))\n",
    "    return neg_l\n",
    "\n",
    "\n",
    "result = minimize(\n",
    "    negative_log_likelihood,\n",
    "    x0=(0., 1.),   # initial guess\n",
    "    args=(x, ),            # additional arguments for the function to minimize\n",
    "    bounds=[\n",
    "        (None, None),      # no bounds for mu\n",
    "        (1e-32, None)         # sigma > 0\n",
    "    ],\n",
    "    method='L-BFGS-B', # method that supports bounds\n",
    ")\n",
    "\n",
    "x_plot = np.linspace(-8, 28, 1000)\n",
    "\n",
    "plt.hist(x, bins=100, normed=True)\n",
    "plt.plot(x_plot, norm.pdf(x_plot, *result.x), label='aprox')\n",
    "plt.plot(x_plot, norm.pdf(x_plot, 10., 6.), label='real')\n",
    "plt.legend();"
   ]
  },
  {
   "cell_type": "markdown",
   "metadata": {},
   "source": [
    "### Exercise 3\n",
    "\n",
    "Apply the `trapz` function to calculate:\n",
    "\n",
    "$$\n",
    "\\int_{-4}^{4} \\sqrt[3]{(1 - x^3)} dx\n",
    "$$\n",
    "\n",
    "**Hint** use the `np.cbrt` function"
   ]
  },
  {
   "cell_type": "code",
   "execution_count": null,
   "metadata": {
    "collapsed": true
   },
   "outputs": [],
   "source": [
    "from scipy.integrate import trapz\n",
    "\n",
    "def f(x):\n",
    "    x0 = np.cbrt(1 - x**3)\n",
    "    return x0"
   ]
  },
  {
   "cell_type": "code",
   "execution_count": null,
   "metadata": {},
   "outputs": [],
   "source": [
    "x = np.linspace(-4, 4, 100)\n",
    "y = f(x)\n",
    "plt.plot(x, y)"
   ]
  },
  {
   "cell_type": "code",
   "execution_count": null,
   "metadata": {},
   "outputs": [],
   "source": [
    "trapz(x, y)"
   ]
  },
  {
   "cell_type": "markdown",
   "metadata": {},
   "source": [
    "## Exercise 4\n",
    "\n",
    "Interpolate the $sinc$ function we have already seen, using:\n",
    "* two samples of 10 and 100 points\n",
    "* linear interpolation and cubic splines\n",
    "* on the [-10, 10] interval"
   ]
  },
  {
   "cell_type": "code",
   "execution_count": null,
   "metadata": {},
   "outputs": [],
   "source": [
    "from scipy.interpolate import CubicSpline\n",
    "from scipy.interpolate import interp1d\n",
    "\n",
    "XLIM = (-10, 10)\n",
    "SAMPLE1 = 10\n",
    "SAMPLE2 = 100\n",
    "\n",
    "x = np.linspace(*XLIM, 1000)\n",
    "y = np.sinc(x)\n",
    "\n",
    "x1 = np.linspace(*XLIM, SAMPLE1 + 1)\n",
    "x2 = np.linspace(*XLIM, SAMPLE2 + 2)\n",
    "xs = [x1, x1]\n",
    "\n",
    "y1 = np.sinc(x1)\n",
    "y2 = np.sinc(x2)\n",
    "ys = [y1, y2]\n",
    "\n",
    "# linear interpolation\n",
    "fl = [interp1d(x1, y1),\n",
    "      interp1d(x2, y2)]\n",
    "\n",
    "# The cubic spline\n",
    "fc = [CubicSpline(x1, y1),\n",
    "      CubicSpline(x2, y2)]\n",
    "\n",
    "fig, axes = plt.subplots(1, 2, figsize=(16, 8))\n",
    "\n",
    "for i, ax in enumerate(axes):\n",
    "    ax.plot(x, y, label='real')\n",
    "    ax.plot(x, fl[i](x), label='linear interp.')\n",
    "    ax.plot(x, fc[i](x), label='cubic spline')\n",
    "    ax.set_xticks(xs[i])\n",
    "    ax.grid(axis='x', linestyle='--')\n",
    "    ax.legend()"
   ]
  },
  {
   "cell_type": "markdown",
   "metadata": {},
   "source": [
    "## Exercise 5"
   ]
  },
  {
   "cell_type": "markdown",
   "metadata": {},
   "source": [
    "First part"
   ]
  },
  {
   "cell_type": "code",
   "execution_count": null,
   "metadata": {
    "collapsed": true
   },
   "outputs": [],
   "source": [
    "p_mic = stats.norm.fit(df_incs.Microsoft)\n",
    "mic_dist = stats.norm(*p_mic)\n",
    "mic_K, mic_p = stats.kstest(df_incs['Microsoft'], mic_dist.cdf)\n",
    "print_result(mic_p, alpha)"
   ]
  },
  {
   "cell_type": "markdown",
   "metadata": {},
   "source": [
    "Second part"
   ]
  },
  {
   "cell_type": "code",
   "execution_count": null,
   "metadata": {
    "collapsed": true
   },
   "outputs": [],
   "source": [
    "# Create a multivariate normal distribution object\n",
    "m_norm = stats.multivariate_normal(m[['Apple', 'Microsoft']], df_incs[['Apple', 'Microsoft']].cov())\n",
    "\n",
    "# Show the contour plot of the pdf\n",
    "x_range = np.arange(-0.05, +0.0501, 0.001)\n",
    "x, y = np.meshgrid(x_range, x_range)\n",
    "\n",
    "pos = np.dstack((x, y))\n",
    "fig_m_norm = plt.figure(figsize=(6., 6.))\n",
    "ax_m_norm = fig_m_norm.add_subplot(111)\n",
    "ax_m_norm.contourf(x, y, m_norm.pdf(pos), 50)\n",
    "_ = ax_m_norm.set_xlabel('Apple')\n",
    "_ = ax_m_norm.set_ylabel('Microsoft')"
   ]
  },
  {
   "cell_type": "code",
   "execution_count": null,
   "metadata": {},
   "outputs": [],
   "source": [
    "# Create N (e.g 1000) random simulations of the daily relative increments with 240 samples\n",
    "N_SIMS = 1000\n",
    "daily_incs = m_norm.rvs(size=[240, N_SIMS])"
   ]
  },
  {
   "cell_type": "code",
   "execution_count": null,
   "metadata": {
    "collapsed": true
   },
   "outputs": [],
   "source": [
    "# Calculate yearly increments (from the composition of the daily increments)\n",
    "year_incs = (daily_incs + 1.).prod(axis=0)"
   ]
  },
  {
   "cell_type": "code",
   "execution_count": null,
   "metadata": {
    "collapsed": true
   },
   "outputs": [],
   "source": [
    "# calculate the amount payed for each simulation\n",
    "def amount_to_pay(a):\n",
    "    if np.all( a >= 1.):\n",
    "        return (a.min() - 1)/2\n",
    "    else:\n",
    "        return 0.\n",
    "earnings = np.apply_along_axis(amount_to_pay, 1, year_incs)"
   ]
  },
  {
   "cell_type": "code",
   "execution_count": null,
   "metadata": {
    "collapsed": true
   },
   "outputs": [],
   "source": [
    "print('Expected profit of the investment: {:.2%}'.format(earnings.mean()))"
   ]
  },
  {
   "cell_type": "markdown",
   "metadata": {},
   "source": [
    "## Exercise 6\n",
    "\n",
    "Use a FFT to identify the two offending noise frequencies. Then convert the `lowpass_filter` above into a bandstop filter (hint: it is a trivial modification), and remove the offending noise from the data as much as possible (it won't be perfect). Finally, use `curvefit` to fit a Gaussian to the data, thereby recovering the original signal."
   ]
  },
  {
   "cell_type": "code",
   "execution_count": null,
   "metadata": {},
   "outputs": [],
   "source": [
    "import numpy as np\n",
    "import matplotlib.pyplot as plt\n",
    "from scipy.optimize import curve_fit\n",
    "from scipy.signal import butter, lfilter\n",
    "from scipy import fftpack\n",
    "\n",
    "def gaussian(x, mu, sigma, A):\n",
    "    return A*np.exp(-(x - mu)**2/(2*sigma**2))\n",
    "\n",
    "sample_rate = 30\n",
    "T = 5\n",
    "t = np.linspace(0, T, T*sample_rate, endpoint=False)\n",
    "y = gaussian(t, 3.1, 0.2, 3) + np.sin(1.2*2*np.pi*t) + 1.5*np.cos(9*2*np.pi*t)\n",
    "plt.plot(t, y)\n",
    "\n",
    "z = fftpack.rfft(y)\n",
    "f = fftpack.rfftfreq(len(t), t[1] - t[0])\n",
    "\n",
    "maxima = f[np.abs(z)**2 > 2100]\n",
    "print(\"Noise frequencies:\", maxima)\n",
    "\n",
    "plt.figure(1)\n",
    "plt.plot(f, np.abs(z)**2)\n",
    "plt.xlabel('f / Hz')\n",
    "for freq in maxima:\n",
    "    plt.axvline(x=freq, color='black', alpha=0.3, lw=5)\n",
    "plt.title('Discovery of Noise Frequencies')\n",
    "\n",
    "def bandstop_filter(data, freq_window, fs, order=5):\n",
    "    nyquist_frequency = fs/2\n",
    "    freq_window = np.array(freq_window)\n",
    "    normal_freq = freq_window/nyquist_frequency\n",
    "    b, a = butter(order, normal_freq, btype='bandstop')\n",
    "    y = lfilter(b, a, data)\n",
    "    return y\n",
    "\n",
    "plt.figure(2)\n",
    "sample_rate = (len(t) - 1)/(t[-1])\n",
    "y_filt = bandstop_filter(y, [1.15, 1.25], sample_rate)\n",
    "y_filt = bandstop_filter(y_filt, [8.9, 9.1], sample_rate)\n",
    "plt.plot(t, y_filt)\n",
    "plt.title('Data after bandstop filtering')\n",
    "\n",
    "params, __ = curve_fit(gaussian, t, y_filt)\n",
    "print(\"Gaussian paramaters:\", params)\n",
    "\n",
    "plt.figure(3)\n",
    "plt.plot(t, gaussian(t, *params))\n",
    "plt.plot(t, y_filt)\n",
    "plt.title('Filtered data fit with Gaussian');"
   ]
  },
  {
   "cell_type": "markdown",
   "metadata": {},
   "source": [
    "## Exercise 7\n",
    "Orthogonal polynomials can be used to construct a series expansion of an arbitrary function, just like $\\sin$ and $\\cos$ are used to construct a Fourier series. For example, we can express a function $f(x)$ as a series of Legendre polynomials $P_n(x)$:\n",
    "\n",
    "$$ f(x) = \\sum_{n=0}^{\\infty} a_n P_n(x) $$\n",
    "\n",
    "The Legendre polynomials are orthogonal on the interval $x \\in [-1, 1]$, where they obey the following orthogonality relationship:\n",
    "$$ \\int_{-1}^{1} P_n(x) \\, P_m(x) \\, dx = \\frac{2}{2 m + 1} \\delta_{mn} $$\n",
    "\n",
    "With $f(x) = sin(\\pi x)$, write a function to calculate the coefficients $a_n$ of the Legendre series. Then plot $f(x)$ and the Legendre series for $x \\in [-1, 1]$. Calculate as many coefficients as are needed for the series to essentially the same as $f(x)$ (it will be less than ten).\n",
    "\n",
    "If you are struggling with the math, look [here](http://mathworld.wolfram.com/Fourier-LegendreSeries.html)."
   ]
  },
  {
   "cell_type": "code",
   "execution_count": null,
   "metadata": {},
   "outputs": [],
   "source": [
    "from scipy.special import eval_legendre\n",
    "from scipy.integrate import quad\n",
    "\n",
    "def f(x):\n",
    "    return np.sin(np.pi*x)\n",
    "\n",
    "def a(n):\n",
    "    g = lambda x: f(x)*eval_legendre(n, x)\n",
    "    integral = quad(g, -1, 1)[0]\n",
    "    return (2*n + 1)/2 * integral\n",
    "\n",
    "# first few a_n coefficients up to n = 5\n",
    "print(\"Coefficients:\", [a(n) for n in range(5+1)])\n",
    "\n",
    "def legendre_series(x, N):\n",
    "    y = np.zeros(len(x))\n",
    "    for n in range(N+1):\n",
    "        y += a(n)*eval_legendre(n, x)\n",
    "    return y\n",
    "\n",
    "x = np.linspace(-1, 1, 100)\n",
    "plt.plot(x, f(x), label=r'$\\sin(nx)$')\n",
    "plt.plot(x, legendre_series(x, 5), label=r'$\\sum_{n=0}^{5} a_n P_n(x)$')\n",
    "plt.legend(loc='best');"
   ]
  },
  {
   "cell_type": "code",
   "execution_count": null,
   "metadata": {
    "collapsed": true
   },
   "outputs": [],
   "source": []
  }
 ],
 "metadata": {
  "kernelspec": {
   "display_name": "python3_master_IFAE",
   "language": "python",
   "name": "python3_master_ifae"
  },
  "language_info": {
   "codemirror_mode": {
    "name": "ipython",
    "version": 3
   },
   "file_extension": ".py",
   "mimetype": "text/x-python",
   "name": "python",
   "nbconvert_exporter": "python",
   "pygments_lexer": "ipython3",
   "version": "3.5.2"
  }
 },
 "nbformat": 4,
 "nbformat_minor": 2
}
