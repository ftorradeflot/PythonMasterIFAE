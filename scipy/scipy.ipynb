{
 "cells": [
  {
   "cell_type": "markdown",
   "metadata": {},
   "source": [
    "# SciPy\n",
    "![SciPy](https://raw.githubusercontent.com/scipy/scipy-sphinx-theme/master/_static/scipyshiny_small.png)\n",
    "\n",
    "- Uses numpy as its core\n",
    "- Numerical methods for:\n",
    "    + integration\n",
    "    + solving differential equations\n",
    "    + optimizing, minimizing \n",
    "    + root finding\n",
    "    + fast fourier transforms\n",
    "- Contains the CODATA values for many constants of nature\n",
    "- Mostly build as wrappers around time-proven fortran libraries (fftpack, lapack, fitpack)"
   ]
  },
  {
   "cell_type": "markdown",
   "metadata": {},
   "source": [
    "# Table of Contents\n",
    "\n",
    "1. [Physical constants](#physical_constants)\n",
    "2. [Fitting](#fitting)\n",
    "    * [General least-squares fitting using `curve_fit`](#curve_fit)\n",
    "        - [Providing uncertainties and initial guesses](#uncertainties_guesses)\n",
    "        - [Plotting the correlation matrix](#plot_corr_matrix)\n",
    "    * [Unbinned likelihood fits using `minimize`](#minimize)\n",
    "        - [A more complicated example](#minimize_complex)\n",
    "    * [Fitting data with x and y errors using `scipy.odr`](#odr)\n",
    "3. [Fast Fourier Transforms (FFTs)](#fft)\n",
    "4. [Signal filtering](#filtering)\n",
    "5. [Integration](#integration)\n",
    "    * [Function integration](#function_integration)\n",
    "    * [Sample integration](#sample_integration)\n",
    "6. [Interpolation](#interpolation)\n",
    "    * [Linear interpolation](#linear_interpolation)\n",
    "    * [Cubic spline interpolation](#spline_interpolation)\n",
    "8. [Special Functions](#special_functions)\n",
    "    * [Bessel functions](#bessel)\n",
    "    * [Error function and Gaussian CDF](#erf)\n",
    "    * [Orthogonal Polynomials](#ortho_polys)"
   ]
  },
  {
   "cell_type": "markdown",
   "metadata": {},
   "source": [
    "# Notebook Setup (run me first!)"
   ]
  },
  {
   "cell_type": "code",
   "execution_count": 1,
   "metadata": {
    "collapsed": true
   },
   "outputs": [],
   "source": [
    "import scipy as sp\n",
    "import numpy as np\n",
    "\n",
    "# we will need to plot stuff later\n",
    "import matplotlib.pyplot as plt\n",
    "\n",
    "%matplotlib inline\n",
    "plt.rcParams['figure.figsize'] = (10, 8)\n",
    "plt.rcParams['font.size'] = 16\n",
    "plt.rcParams['lines.linewidth'] = 2"
   ]
  },
  {
   "cell_type": "markdown",
   "metadata": {},
   "source": [
    "<a id=physical_constants></a>\n",
    "# Physical constants"
   ]
  },
  {
   "cell_type": "code",
   "execution_count": 2,
   "metadata": {},
   "outputs": [
    {
     "data": {
      "text/plain": [
       "8.854187817620389e-12"
      ]
     },
     "execution_count": 2,
     "metadata": {},
     "output_type": "execute_result"
    }
   ],
   "source": [
    "import scipy.constants as const\n",
    "const.epsilon_0"
   ]
  },
  {
   "cell_type": "code",
   "execution_count": 3,
   "metadata": {},
   "outputs": [
    {
     "data": {
      "text/plain": [
       "373.14999999999998"
      ]
     },
     "execution_count": 3,
     "metadata": {},
     "output_type": "execute_result"
    }
   ],
   "source": [
    "# convert temperatures:\n",
    "const.convert_temperature(100, old_scale='C', new_scale='K')"
   ]
  },
  {
   "cell_type": "code",
   "execution_count": 4,
   "metadata": {
    "scrolled": true
   },
   "outputs": [
    {
     "name": "stdout",
     "output_type": "stream",
     "text": [
      "electron-proton mag. mom. ratio : (-658.2106866, '', 2e-06)\n",
      "electron-deuteron magn. moment ratio : (-2143.923493, '', 2.3e-05)\n",
      "mag. constant : (1.2566370614359173e-06, 'N A^-2', 0.0)\n",
      "shielded helion magn. moment to Bohr magneton ratio : (-0.001158671474, '', 1.4e-11)\n",
      "atomic unit of electric field gradient : (9.717362356e+21, 'V m^-2', 60000000000000.0)\n",
      "muon mag. mom. : (-4.49044826e-26, 'J T^-1', 1e-33)\n",
      "neutron-proton mass difference in u : (0.001388449, '', 5.1e-10)\n",
      "neutron mass energy equivalent in MeV : (939.5654133, 'MeV', 5.8e-06)\n",
      "deuteron g factor : (0.8574382311, '', 4.8e-09)\n",
      "Faraday constant for conventional electric current : (96485.3251, 'C_90 mol^-1', 0.0012)\n",
      "deuteron mass in u : (2.013553212745, 'u', 4e-11)\n",
      "Bohr magneton in Hz/T : (13996245042.0, 'Hz T^-1', 86.0)\n",
      "proton-electron mass ratio : (1836.15267389, '', 1.7e-07)\n",
      "Planck constant : (6.62607004e-34, 'J s', 8.1e-42)\n",
      "hertz-inverse meter relationship : (3.3356409519815204e-09, 'm^-1', 0.0)\n",
      "proton-neutron magn. moment ratio : (-1.45989805, '', 3.4e-07)\n",
      "electron volt-kilogram relationship : (1.782661907e-36, 'kg', 1.1e-44)\n",
      "Planck mass energy equivalent in GeV : (1.22091e+19, 'GeV', 290000000000000.0)\n",
      "neutron magn. moment to Bohr magneton ratio : (-0.00104187563, '', 2.5e-10)\n",
      "natural unit of action in eV s : (6.582119514e-16, 'eV s', 4e-24)\n",
      "joule-hertz relationship : (1.509190205e+33, 'Hz', 1.9e+25)\n",
      "neutron-proton mass difference energy equivalent : (2.07214637e-13, '', 7.6e-20)\n",
      "electron volt-kelvin relationship : (11604.5221, 'K', 0.0067)\n",
      "natural unit of energy : (8.18710565e-14, 'J', 1e-21)\n",
      "atomic unit of magnetizability : (7.8910365886e-29, 'J T^-2', 9e-38)\n",
      "kelvin-atomic mass unit relationship : (9.2510842e-14, 'u', 5.3e-20)\n",
      "joule-kilogram relationship : (1.1126500560536185e-17, 'kg', 0.0)\n",
      "muon-neutron mass ratio : (0.1124545167, '', 2.5e-09)\n",
      "proton mass in u : (1.007276466879, 'u', 9.1e-11)\n",
      "proton magn. moment to Bohr magneton ratio : (0.001521032206, '', 1.5e-11)\n",
      "atomic unit of mass : (9.10938356e-31, 'kg', 1.1e-38)\n",
      "hertz-kilogram relationship : (7.372497201e-51, 'kg', 9.1e-59)\n",
      "speed of light in vacuum : (299792458.0, 'm s^-1', 0.0)\n",
      "hartree-electron volt relationship : (27.21138602, 'eV', 1.7e-07)\n",
      "deuteron-electron mag. mom. ratio : (-0.0004664345535, '', 2.6e-12)\n",
      "Planck mass : (2.17647e-08, 'kg', 5.1e-13)\n",
      "neutron-proton mass difference : (2.30557377e-30, '', 8.5e-37)\n",
      "hartree-inverse meter relationship : (21947463.13702, 'm^-1', 0.00013)\n",
      "atomic mass unit-kelvin relationship : (10809543800000.0, 'K', 6200000.0)\n",
      "proton mag. shielding correction : (2.5691e-05, '', 1.1e-08)\n",
      "Mo x unit : (1.00209952e-13, 'm', 5.3e-20)\n",
      "atomic unit of mag. dipole mom. : (1.854801999e-23, 'J T^-1', 1.1e-31)\n",
      "atomic unit of electric quadrupole mom. : (4.486551484e-40, 'C m^2', 2.8e-48)\n",
      "atomic unit of mag. flux density : (235051.755, 'T', 0.0014)\n",
      "deuteron rms charge radius : (2.1413e-15, 'm', 2.5e-18)\n",
      "muon-tau mass ratio : (0.0594649, '', 5.4e-06)\n",
      "Bohr radius : (5.2917721067e-11, 'm', 1.2e-20)\n",
      "kelvin-inverse meter relationship : (69.503457, 'm^-1', 4e-05)\n",
      "hertz-kelvin relationship : (4.7992447e-11, 'K', 2.8e-17)\n",
      "electron to shielded helion mag. mom. ratio : (864.058257, '', 1e-05)\n",
      "Cu x unit : (1.00207697e-13, 'm', 2.8e-20)\n",
      "shielded helion mag. mom. to Bohr magneton ratio : (-0.001158671471, '', 1.4e-11)\n",
      "Faraday constant : (96485.33289, 'C mol^-1', 0.00059)\n",
      "atomic unit of charge density : (1081202377000.0, 'C m^-3', 6700.0)\n",
      "atomic mass unit-electron volt relationship : (931494095.4, 'eV', 5.7)\n",
      "deuteron mass energy equivalent : (3.005063183e-10, 'J', 3.7e-18)\n",
      "electron-muon magn. moment ratio : (206.7669894, '', 5.4e-06)\n",
      "proton mag. mom. to Bohr magneton ratio : (0.0015210322053, '', 4.6e-12)\n",
      "neutron to shielded proton magn. moment ratio : (-0.68499694, '', 1.6e-07)\n",
      "atomic unit of electric dipole moment : (8.47835309e-30, 'C m', 7.3e-37)\n",
      "atomic unit of 2nd hyperpolarizablity : (6.2353808e-65, 'C^4 m^4 J^-3', 1.1e-71)\n",
      "neutron mag. mom. to Bohr magneton ratio : (-0.00104187563, '', 2.5e-10)\n",
      "electron gyromag. ratio : (176085964400.0, 's^-1 T^-1', 1100.0)\n",
      "hertz-joule relationship : (6.62607004e-34, 'J', 8.1e-42)\n",
      "kilogram-joule relationship : (8.987551787368176e+16, 'J', 0.0)\n",
      "nuclear magneton in MHz/T : (7.622593285, 'MHz T^-1', 4.7e-08)\n",
      "standard-state pressure : (100000.0, 'Pa', 0.0)\n",
      "proton magn. shielding correction : (2.5691e-05, '', 1.1e-08)\n",
      "inverse of conductance quantum : (12906.4037278, 'ohm', 2.9e-06)\n",
      "shielded helion gyromag. ratio : (203789458.5, 's^-1 T^-1', 2.7)\n",
      "muon magn. moment to nuclear magneton ratio : (-8.89059698, '', 2.3e-07)\n",
      "atomic mass unit-hartree relationship : (34231776.902, 'E_h', 0.016)\n",
      "atomic unit of 1st hyperpolarizablity : (3.20636151e-53, 'C^3 m^3 J^-2', 2.8e-60)\n",
      "deuteron-proton magn. moment ratio : (0.3070122084, '', 4.5e-09)\n",
      "atomic unit of current : (0.006623618183, 'A', 4.1e-11)\n",
      "atomic mass unit-joule relationship : (1.492418062e-10, 'J', 1.8e-18)\n",
      "muon mass energy equivalent : (1.692833774e-11, 'J', 4.3e-19)\n",
      "muon g factor : (-2.0023318418, '', 1.3e-09)\n",
      "joule-inverse meter relationship : (5.034116651e+24, 'm^-1', 6.2e+16)\n",
      "neutron gyromagn. ratio : (183247172.0, 's^-1 T^-1', 43.0)\n",
      "natural unit of energy in MeV : (0.5109989461, 'MeV', 3.1e-09)\n",
      "triton mass energy equivalent in MeV : (2808.921112, 'MeV', 1.7e-05)\n",
      "joule-electron volt relationship : (6.241509126e+18, 'eV', 38000000000.0)\n",
      "shielded helion to shielded proton magn. moment ratio : (-0.7617861313, '', 3.3e-09)\n",
      "triton-proton mass ratio : (2.99371703348, '', 2.2e-10)\n",
      "electron to shielded proton mag. mom. ratio : (-658.2275971, '', 7.2e-06)\n",
      "atomic unit of action : (1.0545718e-34, 'J s', 1.3e-42)\n",
      "deuteron magn. moment to nuclear magneton ratio : (0.8574382329, '', 9.2e-09)\n",
      "atomic mass constant : (1.66053904e-27, 'kg', 2e-35)\n",
      "molar Planck constant times c : (0.119626565582, 'J m mol^-1', 5.4e-11)\n",
      "atomic unit of magn. flux density : (235051.755, 'T', 0.0014)\n",
      "natural unit of mom.um in MeV/c : (0.5109989461, 'MeV/c', 3.1e-09)\n",
      "neutron magn. moment to nuclear magneton ratio : (-1.91304273, '', 4.5e-07)\n",
      "alpha particle mass : (6.64465723e-27, 'kg', 8.2e-35)\n",
      "Thomson cross section : (6.6524587158e-29, 'm^2', 9.1e-38)\n",
      "tau-proton mass ratio : (1.89372, '', 0.00017)\n",
      "electron volt-inverse meter relationship : (806554.4005, 'm^-1', 0.005)\n",
      "proton gyromagn. ratio over 2 pi : (42.57747892, 'MHz T^-1', 2.9e-07)\n",
      "deuteron-neutron magn. moment ratio : (-0.44820652, '', 1.1e-07)\n",
      "deuteron-neutron mag. mom. ratio : (-0.44820652, '', 1.1e-07)\n",
      "Loschmidt constant (273.15 K, 100 kPa) : (2.6516467e+25, 'm^-3', 1.5e+19)\n",
      "elementary charge : (1.6021766208e-19, 'C', 9.8e-28)\n",
      "proton magn. moment to nuclear magneton ratio : (2.792847351, '', 2.8e-08)\n",
      "tau Compton wavelength over 2 pi : (1.11056e-16, 'm', 1e-20)\n",
      "helion-electron mass ratio : (5495.88527922, '', 2.7e-07)\n",
      "joule-atomic mass unit relationship : (6700535363.0, 'u', 82.0)\n",
      "hartree-hertz relationship : (6579683920711000.0, 'Hz', 39000.0)\n",
      "magn. flux quantum : (2.067833831e-15, 'Wb', 1.3e-23)\n",
      "helion mass energy equivalent : (4.499539341e-10, 'J', 5.5e-18)\n",
      "molar volume of ideal gas (273.15 K, 100 kPa) : (0.022710947, 'm^3 mol^-1', 1.3e-08)\n",
      "helion mass in u : (3.01493224673, 'u', 1.2e-10)\n",
      "kelvin-hartree relationship : (3.1668105e-06, 'E_h', 1.8e-12)\n",
      "muon mass : (1.883531594e-28, 'kg', 4.8e-36)\n",
      "electron-triton mass ratio : (0.0001819200062203, '', 8.4e-15)\n",
      "kelvin-hertz relationship : (20836612000.0, 'Hz', 12000.0)\n",
      "neutron-proton mass ratio : (1.00137841898, '', 5.1e-10)\n",
      "alpha particle mass energy equivalent in MeV : (3727.379378, 'MeV', 2.3e-05)\n",
      "kelvin-kilogram relationship : (1.53617865e-40, 'kg', 8.8e-47)\n",
      "conductance quantum : (7.748091731e-05, 'S', 1.8e-14)\n",
      "Compton wavelength over 2 pi : (3.8615926764e-13, 'm', 1.8e-22)\n",
      "Newtonian constant of gravitation over h-bar c : (6.70861e-39, '(GeV/c^2)^-2', 3.1e-43)\n",
      "atomic mass constant energy equivalent : (1.492418062e-10, 'J', 1.8e-18)\n",
      "Bohr magneton in inverse meters per tesla : (46.68644814, 'm^-1 T^-1', 2.9e-07)\n",
      "atomic unit of velocity : (2187691.26277, 'm s^-1', 0.0005)\n",
      "proton-neutron mass ratio : (0.99862347844, '', 5.1e-10)\n",
      "kilogram-inverse meter relationship : (4.524438411e+41, 'm^-1', 5.6e+33)\n",
      "triton g factor : (5.95792492, '', 2.8e-08)\n",
      "electron g factor : (-2.00231930436182, '', 5.2e-13)\n",
      "neutron mag. mom. : (-9.662365e-27, 'J T^-1', 2.3e-33)\n",
      "helion mass : (5.0064127e-27, 'kg', 6.2e-35)\n",
      "proton charge to mass quotient : (95788332.26, 'C kg^-1', 0.59)\n",
      "electron volt-hertz relationship : (241798926200000.0, 'Hz', 1500000.0)\n",
      "helion g factor : (-4.255250616, '', 5e-08)\n",
      "hartree-kilogram relationship : (4.850870129e-35, 'kg', 6e-43)\n",
      "triton mag. mom. : (1.504609503e-26, 'J T^-1', 1.2e-34)\n",
      "electron to shielded helion magn. moment ratio : (864.058255, '', 1e-05)\n",
      "shielded proton magn. moment : (1.41057047e-26, 'J T^-1', 1.2e-33)\n",
      "deuteron magn. moment to Bohr magneton ratio : (0.0004669754567, '', 5e-12)\n",
      "neutron Compton wavelength : (1.31959090481e-15, 'm', 8.8e-25)\n",
      "proton gyromagn. ratio : (267522190.0, 's^-1 T^-1', 1.8)\n",
      "molar mass of carbon-12 : (0.012, 'kg mol^-1', 0.0)\n",
      "electron mag. mom. anomaly : (0.00115965218091, '', 2.6e-13)\n",
      "atomic unit of electric polarizability : (1.6487772731e-41, 'C^2 m^2 J^-1', 1.1e-50)\n",
      "shielded proton mag. mom. to Bohr magneton ratio : (0.001520993128, '', 1.7e-11)\n",
      "electron mag. mom. to Bohr magneton ratio : (-1.00115965218091, '', 2.6e-13)\n",
      "neutron-tau mass ratio : (0.52879, '', 4.8e-05)\n",
      "classical electron radius : (2.8179403227e-15, 'm', 1.9e-24)\n",
      "tau Compton wavelength : (6.97787e-16, 'm', 6.3e-20)\n",
      "triton mag. mom. to Bohr magneton ratio : (0.0016223936616, '', 7.6e-12)\n",
      "neutron to shielded proton mag. mom. ratio : (-0.68499694, '', 1.6e-07)\n",
      "Boltzmann constant in Hz/K : (20836612000.0, 'Hz K^-1', 12000.0)\n",
      "atomic unit of force : (8.23872336e-08, 'N', 1e-15)\n",
      "conventional value of Josephson constant : (483597900000000.0, 'Hz V^-1', 0.0)\n",
      "kilogram-hartree relationship : (2.061485823e+34, 'E_h', 2.5e+26)\n",
      "first radiation constant : (3.74177179e-16, 'W m^2', 4.6e-24)\n",
      "nuclear magneton in K/T : (0.0003658269, 'K T^-1', 2.1e-10)\n",
      "Hartree energy : (4.35974465e-18, 'J', 5.4e-26)\n",
      "electron-neutron mag. mom. ratio : (960.9205, '', 0.00023)\n",
      "Boltzmann constant in eV/K : (8.6173303e-05, 'eV K^-1', 5e-11)\n",
      "electron-proton magn. moment ratio : (-658.2106862, '', 6.6e-06)\n",
      "electron magn. moment : (-9.28476412e-24, 'J T^-1', 8e-31)\n",
      "neutron gyromag. ratio over 2 pi : (29.1646933, 'MHz T^-1', 6.9e-06)\n",
      "kilogram-kelvin relationship : (6.5096595e+39, 'K', 3.7e+33)\n",
      "atomic mass unit-hertz relationship : (2.2523427206e+23, 'Hz', 100000000000000.0)\n",
      "electron-deuteron mag. mom. ratio : (-2143.923499, '', 1.2e-05)\n",
      "muon mag. mom. to nuclear magneton ratio : (-8.89059705, '', 2e-07)\n",
      "Wien frequency displacement law constant : (58789238000.0, 'Hz K^-1', 34000.0)\n",
      "shielded helion to proton magn. moment ratio : (-0.761766562, '', 1.2e-08)\n",
      "atomic unit of momentum : (1.992851882e-24, 'kg m s^-1', 2.4e-32)\n",
      "deuteron mag. mom. to nuclear magneton ratio : (0.8574382311, '', 4.8e-09)\n",
      "muon-proton mag. mom. ratio : (-3.183345142, '', 7.1e-08)\n",
      "Avogadro constant : (6.022140857e+23, 'mol^-1', 7400000000000000.0)\n",
      "Rydberg constant times hc in eV : (13.605693009, 'eV', 8.4e-08)\n",
      "proton mass energy equivalent in MeV : (938.2720813, 'MeV', 5.8e-06)\n",
      "deuteron magn. moment : (4.33073482e-27, 'J T^-1', 3.8e-34)\n",
      "proton gyromag. ratio : (267522190.0, 's^-1 T^-1', 1.8)\n",
      "Planck time : (5.39116e-44, 's', 1.3e-48)\n",
      "unified atomic mass unit : (1.66053904e-27, 'kg', 2e-35)\n",
      "electron-muon mag. mom. ratio : (206.766988, '', 4.6e-06)\n",
      "triton-electron mag. mom. ratio : (-0.001620514423, '', 2.1e-11)\n",
      "muon magn. moment : (-4.49044799e-26, 'J T^-1', 4e-33)\n",
      "quantum of circulation times 2 : (0.00072738950972, 'm^2 s^-1', 3.3e-13)\n",
      "triton mag. mom. to nuclear magneton ratio : (2.97896246, '', 1.4e-08)\n",
      "atomic unit of energy : (4.35974465e-18, 'J', 5.4e-26)\n",
      "elementary charge over h : (241798926200000.0, 'A J^-1', 1500000.0)\n",
      "natural unit of action : (1.0545718e-34, 'J s', 1.3e-42)\n",
      "mag. flux quantum : (2.067833831e-15, 'Wb', 1.3e-23)\n",
      "natural unit of velocity : (299792458.0, 'm s^-1', 0.0)\n",
      "muon molar mass : (0.0001134289257, 'kg mol^-1', 2.5e-12)\n",
      "Wien wavelength displacement law constant : (0.0028977729, 'm K', 1.7e-09)\n",
      "deuteron mass energy equivalent in MeV : (1875.612928, 'MeV', 1.2e-05)\n",
      "tau molar mass : (0.00190749, 'kg mol^-1', 1.7e-07)\n",
      "neutron mass : (1.674927471e-27, 'kg', 2.1e-35)\n",
      "neutron mass energy equivalent : (1.505349739e-10, 'J', 1.9e-18)\n",
      "alpha particle mass energy equivalent : (5.971920097e-10, 'J', 7.3e-18)\n",
      "alpha particle-proton mass ratio : (3.97259968907, '', 3.6e-10)\n",
      "lattice spacing of silicon : (1.920155762e-10, 'm', 5e-18)\n",
      "electric constant : (8.854187817620389e-12, 'F m^-1', 0.0)\n",
      "tau-electron mass ratio : (3477.15, '', 0.31)\n",
      "Sackur-Tetrode constant (1 K, 100 kPa) : (-1.1517084, '', 1.4e-06)\n",
      "proton Compton wavelength : (1.32140985396e-15, 'm', 6.1e-25)\n",
      "helion mag. mom. to nuclear magneton ratio : (-2.127625308, '', 2.5e-08)\n",
      "hertz-electron volt relationship : (4.135667662e-15, 'eV', 2.5e-23)\n",
      "natural unit of momentum in MeV/c : (0.5109989461, 'MeV/c', 3.1e-09)\n",
      "triton-proton mag. mom. ratio : (1.066639908, '', 1e-08)\n",
      "atomic unit of electric dipole mom. : (8.478353552e-30, 'C m', 5.2e-38)\n",
      "electron molar mass : (5.4857990907e-07, 'kg mol^-1', 1.6e-17)\n",
      "proton mass : (1.672621898e-27, 'kg', 2.1e-35)\n",
      "electron-neutron magn. moment ratio : (960.9205, '', 0.00023)\n",
      "helion mag. mom. : (-1.074617522e-26, 'J T^-1', 1.4e-34)\n",
      "Planck length : (1.616229e-35, 'm', 3.8e-40)\n",
      "shielded helion magn. moment to nuclear magneton ratio : (-2.127497723, '', 2.5e-08)\n",
      "Boltzmann constant : (1.38064852e-23, 'J K^-1', 7.9e-30)\n",
      "proton Compton wavelength over 2 pi : (2.10308910109e-16, 'm', 9.7e-26)\n",
      "tau-muon mass ratio : (16.8167, '', 0.0015)\n",
      "Josephson constant : (483597852500000.0, 'Hz V^-1', 3000000.0)\n",
      "joule-kelvin relationship : (7.2429731e+22, 'K', 4.2e+16)\n",
      "electron gyromagn. ratio : (176085964400.0, 's^-1 T^-1', 1100.0)\n",
      "muon Compton wavelength : (1.173444111e-14, 'm', 2.6e-22)\n",
      "neutron gyromagn. ratio over 2 pi : (29.1646933, 'MHz T^-1', 6.9e-06)\n",
      "shielded proton mag. mom. : (1.410570547e-26, 'J T^-1', 1.8e-34)\n",
      "tau mass in u : (1.90749, 'u', 0.00017)\n",
      "muon Compton wavelength over 2 pi : (1.867594308e-15, 'm', 4.2e-23)\n",
      "neutron-proton mass difference energy equivalent in MeV : (1.29333205, '', 4.8e-07)\n",
      "atomic unit of magn. dipole moment : (1.8548019e-23, 'J T^-1', 1.6e-30)\n",
      "neutron-electron magn. moment ratio : (0.00104066882, '', 2.5e-10)\n",
      "shielded helion mag. mom. to nuclear magneton ratio : (-2.12749772, '', 2.5e-08)\n",
      "inverse meter-electron volt relationship : (1.2398419739e-06, 'eV', 7.6e-15)\n",
      "Compton wavelength : (2.4263102367e-12, 'm', 1.1e-21)\n",
      "neutron-muon mass ratio : (8.89248408, '', 2e-07)\n",
      "von Klitzing constant : (25812.8074555, 'ohm', 5.9e-06)\n",
      "triton mass : (5.007356665e-27, 'kg', 6.2e-35)\n",
      "helion mass energy equivalent in MeV : (2808.391586, 'MeV', 1.7e-05)\n",
      "hartree-joule relationship : (4.35974465e-18, 'J', 5.4e-26)\n",
      "kilogram-atomic mass unit relationship : (6.022140857e+26, 'u', 7.4e+18)\n",
      "kilogram-electron volt relationship : (5.60958865e+35, 'eV', 3.4e+27)\n",
      "shielded proton gyromag. ratio over 2 pi : (42.57638507, 'MHz T^-1', 5.3e-07)\n",
      "shielded helion to shielded proton mag. mom. ratio : (-0.7617861313, '', 3.3e-09)\n",
      "muon-proton magn. moment ratio : (-3.183345118, '', 8.9e-08)\n",
      "muon mag. mom. to Bohr magneton ratio : (-0.00484197048, '', 1.1e-10)\n",
      "shielded helion mag. mom. : (-1.07455308e-26, 'J T^-1', 1.4e-34)\n",
      "shielded helion gyromagn. ratio : (203789458.5, 's^-1 T^-1', 2.7)\n",
      "atomic unit of mom.um : (1.992851882e-24, 'kg m s^-1', 2.4e-32)\n",
      "natural unit of mom.um : (2.730924488e-22, 'kg m s^-1', 3.4e-30)\n",
      "Hartree energy in eV : (27.21138602, 'eV', 1.7e-07)\n",
      "muon mass energy equivalent in MeV : (105.6583745, 'MeV', 2.4e-06)\n",
      "electron-neutron mass ratio : (0.00054386734428, '', 2.7e-13)\n",
      "kilogram-hertz relationship : (1.356392512e+50, 'Hz', 1.7e+42)\n",
      "triton mass in u : (3.01550071632, 'u', 1.1e-10)\n",
      "proton gyromag. ratio over 2 pi : (42.57747892, 'MHz T^-1', 2.9e-07)\n",
      "natural unit of length : (3.8615926764e-13, 'm', 1.8e-22)\n",
      "hertz-hartree relationship : (1.5198298460088e-16, 'E_h', 9e-28)\n",
      "nuclear magneton in eV/T : (3.152451255e-08, 'eV T^-1', 1.5e-17)\n",
      "Planck constant in eV s : (4.135667662e-15, 'eV s', 2.5e-23)\n",
      "inverse meter-kelvin relationship : (0.0143877736, 'K', 8.3e-09)\n",
      "proton molar mass : (0.001007276466879, 'kg mol^-1', 9.1e-14)\n",
      "helion molar mass : (0.00301493224673, 'kg mol^-1', 1.2e-13)\n",
      "shielded helion to proton mag. mom. ratio : (-0.7617665603, '', 9.2e-09)\n",
      "atomic unit of time : (2.418884326509e-17, 's', 1.4e-28)\n",
      "triton-neutron mag. mom. ratio : (-1.55718553, '', 3.7e-07)\n",
      "alpha particle mass in u : (4.001506179127, 'u', 6.3e-11)\n",
      "proton g factor : (5.585694702, '', 1.7e-08)\n",
      "hartree-kelvin relationship : (315775.13, 'K', 0.18)\n",
      "deuteron-proton mass ratio : (1.99900750087, '', 1.9e-10)\n",
      "atomic unit of electric field : (514220670700.0, 'V m^-1', 3200.0)\n",
      "Rydberg constant times c in Hz : (3289841960355000.0, 'Hz', 19000.0)\n",
      "kelvin-electron volt relationship : (8.6173303e-05, 'eV', 5e-11)\n",
      "proton magn. moment : (1.41060671e-26, 'J T^-1', 1.2e-33)\n",
      "deuteron-electron magn. moment ratio : (-0.0004664345548, '', 5e-12)\n",
      "deuteron-proton mag. mom. ratio : (0.3070122077, '', 1.5e-09)\n",
      "electron-helion mass ratio : (0.0001819543074854, '', 8.8e-15)\n",
      "Planck constant over 2 pi : (1.0545718e-34, 'J s', 1.3e-42)\n",
      "electron gyromag. ratio over 2 pi : (28024.95164, 'MHz T^-1', 0.00017)\n",
      "molar Planck constant : (3.990312711e-10, 'J s mol^-1', 1.8e-19)\n",
      "proton-tau mass ratio : (0.528063, '', 4.8e-05)\n",
      "natural unit of mass : (9.10938356e-31, 'kg', 1.1e-38)\n",
      "second radiation constant : (0.0143877736, 'm K', 8.3e-09)\n",
      "Wien displacement law constant : (0.0028977685, 'm K', 5.1e-09)\n",
      "{220} lattice spacing of silicon : (1.920155714e-10, 'm', 3.2e-18)\n",
      "conventional value of von Klitzing constant : (25812.807, 'ohm', 0.0)\n",
      "proton mass energy equivalent : (1.503277593e-10, 'J', 1.8e-18)\n",
      "electron magn. moment to nuclear magneton ratio : (-1838.28197107, '', 8.5e-07)\n",
      "proton-muon mass ratio : (8.88024338, '', 2e-07)\n",
      "lattice parameter of silicon : (5.431020504e-10, 'm', 8.9e-18)\n",
      "electron mag. mom. : (-9.28476462e-24, 'J T^-1', 5.7e-32)\n",
      "atomic unit of 2nd hyperpolarizability : (6.235380085e-65, 'C^4 m^4 J^-3', 7.7e-73)\n",
      "molar volume of silicon : (1.205883214e-05, 'm^3 mol^-1', 6.1e-13)\n",
      "nuclear magneton : (5.050783699e-27, 'J T^-1', 3.1e-35)\n",
      "Bohr magneton in eV/T : (5.7883818012e-05, 'eV T^-1', 2.6e-14)\n",
      "inverse meter-joule relationship : (1.986445824e-25, 'J', 2.4e-33)\n",
      "electron-deuteron mass ratio : (0.0002724437107484, '', 9.6e-15)\n",
      "alpha particle molar mass : (0.004001506179127, 'kg mol^-1', 6.3e-14)\n",
      "weak mixing angle : (0.2223, '', 0.0021)\n",
      "neutron-electron mag. mom. ratio : (0.00104066882, '', 2.5e-10)\n",
      "molar gas constant : (8.3144598, 'J mol^-1 K^-1', 4.8e-06)\n",
      "electron volt-joule relationship : (1.6021766208e-19, 'J', 9.8e-28)\n",
      "neutron-electron mass ratio : (1838.68366158, '', 9e-07)\n",
      "helion-proton mass ratio : (2.99315267046, '', 2.9e-10)\n",
      "deuteron mass : (3.343583719e-27, 'kg', 4.1e-35)\n",
      "atomic unit of electric potential : (27.21138602, 'V', 1.7e-07)\n",
      "neutron-proton magn. moment ratio : (-0.68497934, '', 1.6e-07)\n",
      "shielded proton gyromag. ratio : (267515317.1, 's^-1 T^-1', 3.3)\n",
      "electron-muon mass ratio : (0.0048363317, '', 1.1e-10)\n",
      "atomic unit of length : (5.2917721067e-11, 'm', 1.2e-20)\n",
      "Fermi coupling constant : (1.1663787e-05, 'GeV^-2', 6e-12)\n",
      "helion mag. mom. to Bohr magneton ratio : (-0.001158740958, '', 1.4e-11)\n",
      "Planck constant over 2 pi times c in MeV fm : (197.3269788, 'MeV fm', 1.2e-06)\n",
      "electron-tau mass ratio : (0.000287592, '', 2.6e-08)\n",
      "electron volt-hartree relationship : (0.03674932248, 'E_h', 2.3e-10)\n",
      "electron magn. moment anomaly : (0.0011596521859, '', 3.8e-12)\n",
      "electron charge to mass quotient : (-175882002400.0, 'C kg^-1', 1100.0)\n",
      "muon-proton mass ratio : (0.1126095262, '', 2.5e-09)\n",
      "fine-structure constant : (0.0072973525664, '', 1.7e-12)\n",
      "hartree-atomic mass unit relationship : (2.9212623197e-08, 'u', 1.3e-17)\n",
      "shielded helion magn. moment : (-1.074553024e-26, 'J T^-1', 9.3e-34)\n",
      "shielded proton magn. moment to nuclear magneton ratio : (2.792775604, '', 3e-08)\n",
      "Rydberg constant : (10973731.568508, 'm^-1', 6.5e-05)\n",
      "electron to alpha particle mass ratio : (0.0001370933554798, '', 4.5e-15)\n",
      "electron mass energy equivalent in MeV : (0.5109989461, 'MeV', 3.1e-09)\n",
      "Angstrom star : (1.00001495e-10, 'm', 9e-17)\n",
      "electron volt : (1.6021766208e-19, 'J', 9.8e-28)\n",
      "electron mass in u : (0.00054857990907, 'u', 1.6e-14)\n",
      "standard acceleration of gravity : (9.80665, 'm s^-2', 0.0)\n",
      "electron gyromagn. ratio over 2 pi : (28024.95164, 'MHz T^-1', 0.00017)\n",
      "joule-hartree relationship : (2.293712317e+17, 'E_h', 2800000000.0)\n",
      "inverse meter-kilogram relationship : (2.210219057e-42, 'kg', 2.7e-50)\n",
      "Rydberg constant times hc in J : (2.179872325e-18, 'J', 2.7e-26)\n",
      "neutron gyromag. ratio : (183247172.0, 's^-1 T^-1', 43.0)\n",
      "hertz-atomic mass unit relationship : (4.4398216616e-24, 'u', 2e-33)\n",
      "triton mass energy equivalent : (4.500387735e-10, 'J', 5.5e-18)\n",
      "electron mass energy equivalent : (8.18710565e-14, 'J', 1e-21)\n",
      "neutron-proton mag. mom. ratio : (-0.68497934, '', 1.6e-07)\n",
      "inverse fine-structure constant : (137.035999139, '', 3.1e-08)\n",
      "electron mass : (9.10938356e-31, 'kg', 1.1e-38)\n",
      "tau-neutron mass ratio : (1.89111, '', 0.00017)\n",
      "triton molar mass : (0.00301550071632, 'kg mol^-1', 1.1e-13)\n",
      "electron-proton mass ratio : (0.000544617021352, '', 5.2e-14)\n",
      "muon magn. moment to Bohr magneton ratio : (-0.00484197045, '', 1.3e-10)\n",
      "electron mag. mom. to nuclear magneton ratio : (-1838.28197234, '', 1.7e-07)\n",
      "Newtonian constant of gravitation : (6.67408e-11, 'm^3 kg^-1 s^-2', 3.1e-15)\n",
      "proton mag. mom. : (1.4106067873e-26, 'J T^-1', 9.7e-35)\n",
      "inverse meter-hartree relationship : (4.556335252767e-08, 'E_h', 2.7e-19)\n",
      "natural unit of time : (1.28808866712e-21, 's', 5.8e-31)\n",
      "shielded helion gyromag. ratio over 2 pi : (32.43409966, 'MHz T^-1', 4.3e-07)\n",
      "Planck temperature : (1.416808e+32, 'K', 3.3e+27)\n",
      "neutron mag. mom. to nuclear magneton ratio : (-1.91304273, '', 4.5e-07)\n",
      "characteristic impedance of vacuum : (376.73031346177066, 'ohm', 0.0)\n",
      "magn. constant : (1.2566370614359173e-06, 'N A^-2', 0.0)\n",
      "tau mass : (3.16747e-27, 'kg', 2.9e-31)\n",
      "nuclear magneton in inverse meters per tesla : (0.02542623432, 'm^-1 T^-1', 1.6e-10)\n",
      "molar mass constant : (0.001, 'kg mol^-1', 0.0)\n",
      "deuteron mag. mom. : (4.33073504e-27, 'J T^-1', 3.6e-35)\n",
      "shielded proton magn. moment to Bohr magneton ratio : (0.001520993132, '', 1.6e-11)\n",
      "atomic unit of permittivity : (1.1126500560536183e-10, 'F m^-1', 0.0)\n",
      "neutron Compton wavelength over 2 pi : (2.1001941536e-16, 'm', 1.4e-25)\n",
      "shielded proton mag. mom. to nuclear magneton ratio : (2.7927756, '', 3e-08)\n",
      "quantum of circulation : (0.00036369475486, 'm^2 s^-1', 1.7e-13)\n",
      "muon mag. mom. anomaly : (0.00116592089, '', 6.3e-10)\n",
      "first radiation constant for spectral radiance : (1.191042953e-16, 'W m^2 sr^-1', 1.5e-24)\n",
      "atomic unit of charge : (1.6021766208e-19, 'C', 9.8e-28)\n",
      "shielded helion gyromagn. ratio over 2 pi : (32.43409966, 'MHz T^-1', 4.3e-07)\n",
      "inverse meter-hertz relationship : (299792458.0, 'Hz', 0.0)\n",
      "neutron molar mass : (0.00100866491588, 'kg mol^-1', 4.9e-13)\n",
      "Loschmidt constant (273.15 K, 101.325 kPa) : (2.6867811e+25, 'm^-3', 1.5e+19)\n",
      "natural unit of momentum : (2.730924488e-22, 'kg m s^-1', 3.4e-30)\n",
      "deuteron mag. mom. to Bohr magneton ratio : (0.0004669754554, '', 2.6e-12)\n",
      "neutron g factor : (-3.82608545, '', 9e-07)\n",
      "Planck constant over 2 pi in eV s : (6.582119514e-16, 'eV s', 4e-24)\n",
      "neutron mass in u : (1.00866491588, 'u', 4.9e-10)\n",
      "atomic mass constant energy equivalent in MeV : (931.4940954, 'MeV', 5.7e-06)\n",
      "Stefan-Boltzmann constant : (5.670367e-08, 'W m^-2 K^-4', 1.3e-13)\n",
      "Bohr magneton : (9.274009994e-24, 'J T^-1', 5.7e-32)\n",
      "proton-neutron mag. mom. ratio : (-1.45989805, '', 3.4e-07)\n",
      "atomic unit of 1st hyperpolarizability : (3.206361329e-53, 'C^3 m^3 J^-2', 2e-61)\n",
      "atomic mass unit-inverse meter relationship : (751300661660000.0, 'm^-1', 340000.0)\n",
      "alpha particle-electron mass ratio : (7294.29954136, '', 2.4e-07)\n",
      "tau mass energy equivalent : (2.84678e-10, 'J', 2.6e-14)\n",
      "Boltzmann constant in inverse meters per kelvin : (69.503457, 'm^-1 K^-1', 4e-05)\n",
      "electron volt-atomic mass unit relationship : (1.0735441105e-09, 'u', 6.6e-18)\n",
      "deuteron-electron mass ratio : (3670.48296785, '', 1.3e-07)\n",
      "atomic unit of electric polarizablity : (1.648777274e-41, 'C^2 m^2 J^-1', 1.6e-49)\n",
      "electron magn. moment to Bohr magneton ratio : (-1.0011596521859, '', 3.8e-12)\n",
      "muon mass in u : (0.1134289257, 'u', 2.5e-09)\n",
      "tau mass energy equivalent in MeV : (1776.82, 'MeV', 0.16)\n",
      "atomic mass unit-kilogram relationship : (1.66053904e-27, 'kg', 2e-35)\n",
      "proton rms charge radius : (8.751e-16, 'm', 6.1e-18)\n",
      "neutron magn. moment : (-9.6623645e-27, 'J T^-1', 2.4e-33)\n",
      "Bohr magneton in K/T : (0.67171405, 'K T^-1', 3.9e-07)\n",
      "deuteron molar mass : (0.002013553212745, 'kg mol^-1', 4e-14)\n",
      "molar volume of ideal gas (273.15 K, 101.325 kPa) : (0.022413962, 'm^3 mol^-1', 1.3e-08)\n",
      "Sackur-Tetrode constant (1 K, 101.325 kPa) : (-1.1648714, '', 1.4e-06)\n",
      "atomic unit of electric quadrupole moment : (4.48655124e-40, 'C m^2', 3.9e-47)\n",
      "proton mag. mom. to nuclear magneton ratio : (2.7928473508, '', 8.5e-09)\n",
      "muon-electron mass ratio : (206.7682826, '', 4.6e-06)\n",
      "kelvin-joule relationship : (1.38064852e-23, 'J', 7.9e-30)\n",
      "electron to shielded proton magn. moment ratio : (-658.2275956, '', 7.1e-06)\n",
      "inverse meter-atomic mass unit relationship : (1.331025049e-15, 'u', 6.1e-25)\n",
      "triton-electron mass ratio : (5496.92153588, '', 2.6e-07)\n",
      "standard atmosphere : (101325.0, 'Pa', 0.0)\n"
     ]
    }
   ],
   "source": [
    "# more constants (including units and errors)!\n",
    "\n",
    "for k, v in const.physical_constants.items():\n",
    "    print(k, ':', v)\n",
    "    \n"
   ]
  },
  {
   "cell_type": "code",
   "execution_count": 5,
   "metadata": {},
   "outputs": [
    {
     "data": {
      "text/plain": [
       "(105.6583745, 'MeV', 2.4e-06)"
      ]
     },
     "execution_count": 5,
     "metadata": {},
     "output_type": "execute_result"
    }
   ],
   "source": [
    "val, unit, uncertainty = const.physical_constants['muon mass energy equivalent in MeV']\n",
    "\n",
    "val, unit, uncertainty"
   ]
  },
  {
   "cell_type": "markdown",
   "metadata": {},
   "source": [
    "<a id=fitting></a>\n",
    "# Fitting\n",
    "\n",
    "<a id=curve_fit></a>\n",
    "## General least-squares fitting using `curve_fit`\n",
    "\n",
    "Non-linear least-squares with Levenberg-Marquardt numerical minimization."
   ]
  },
  {
   "cell_type": "code",
   "execution_count": 8,
   "metadata": {},
   "outputs": [
    {
     "data": {
      "text/plain": [
       "[<matplotlib.lines.Line2D at 0x7fa865799e10>]"
      ]
     },
     "execution_count": 8,
     "metadata": {},
     "output_type": "execute_result"
    },
    {
     "data": {
      "image/png": "[encoded data removed]",
      "text/plain": [
       "<matplotlib.figure.Figure at 0x7fa82db616d8>"
      ]
     },
     "metadata": {},
     "output_type": "display_data"
    }
   ],
   "source": [
    "a = -1\n",
    "b = 5\n",
    "\n",
    "def f(x, a, b):\n",
    "    return np.exp(a * x) + b\n",
    "\n",
    "x = np.linspace(0, 5, 100)\n",
    "y = f(x, a, b) + np.random.normal(0, 0.1, 100)\n",
    "\n",
    "plt.plot(x, y, '.', label='data')"
   ]
  },
  {
   "cell_type": "code",
   "execution_count": 14,
   "metadata": {},
   "outputs": [
    {
     "name": "stdout",
     "output_type": "stream",
     "text": [
      "a = -1.02 ± 0.09\n",
      "b =  5.01 ± 0.02\n"
     ]
    }
   ],
   "source": [
    "from scipy.optimize import curve_fit\n",
    "\n",
    "params, covariance_matrix = curve_fit(f, x, y)\n",
    "\n",
    "uncertainties = np.sqrt(np.diag(covariance_matrix))\n",
    "\n",
    "print('a = {:5.2f} ± {:.2f}'.format(params[0], uncertainties[0]))\n",
    "print('b = {:5.2f} ± {:.2f}'.format(params[1], uncertainties[1]))"
   ]
  },
  {
   "cell_type": "code",
   "execution_count": 17,
   "metadata": {},
   "outputs": [
    {
     "data": {
      "image/png": "[encoded data removed]",
      "text/plain": [
       "<matplotlib.figure.Figure at 0x7fa825bd99e8>"
      ]
     },
     "metadata": {},
     "output_type": "display_data"
    }
   ],
   "source": [
    "plt.plot(x, y, '.', label='data')\n",
    "plt.plot(x, f(x, *params), label='fit result')\n",
    "plt.legend();"
   ]
  },
  {
   "cell_type": "code",
   "execution_count": 36,
   "metadata": {},
   "outputs": [
    {
     "name": "stdout",
     "output_type": "stream",
     "text": [
      "With curve_fit\n",
      "\ta = -0.14 ± 0.01\n",
      "\tb =  5.56 ± 0.03\n",
      "With linregress\n",
      "\ta = -0.14\n",
      "\tb =  5.56\n"
     ]
    },
    {
     "data": {
      "image/png": "[encoded data removed]",
      "text/plain": [
       "<matplotlib.figure.Figure at 0x7fa825b654e0>"
      ]
     },
     "metadata": {},
     "output_type": "display_data"
    }
   ],
   "source": [
    "from scipy.stats import linregress\n",
    "\n",
    "# We can use this method to do a linear regression\n",
    "def f_linear(x, a, b):\n",
    "    return a*x + b\n",
    "\n",
    "l_params, l_covariance_matrix = curve_fit(f_linear, x, y)\n",
    "l_uncertainties = np.sqrt(np.diag(l_covariance_matrix))\n",
    "\n",
    "print('With curve_fit')\n",
    "print('\\ta = {:5.2f} ± {:.2f}'.format(l_params[0], l_uncertainties[0]))\n",
    "print('\\tb = {:5.2f} ± {:.2f}'.format(l_params[1], l_uncertainties[1]))\n",
    "\n",
    "slope, intercept, r_value, p_value, std_err = linregress(x, y)\n",
    "print('With linregress')\n",
    "print('\\ta = {:5.2f}'.format(slope))\n",
    "print('\\tb = {:5.2f}'.format(intercept))\n",
    "\n",
    "plt.plot(x, y, '.', label='data')\n",
    "plt.plot(x, f_linear(x, *l_params), label='fit result')\n",
    "plt.legend();"
   ]
  },
  {
   "cell_type": "markdown",
   "metadata": {},
   "source": [
    "<a id=uncertainties_guesses></a>\n",
    "### Providing uncertainties and initial guesses"
   ]
  },
  {
   "cell_type": "code",
   "execution_count": 50,
   "metadata": {},
   "outputs": [
    {
     "data": {
      "image/png": "[encoded data removed]",
      "text/plain": [
       "<matplotlib.figure.Figure at 0x7fa823500668>"
      ]
     },
     "metadata": {},
     "output_type": "display_data"
    }
   ],
   "source": [
    "x = np.linspace(0, 1, 1000)\n",
    "def f(x, a, b):\n",
    "    return np.sin(a * x + b)\n",
    "\n",
    "y = f(x, 5 * np.pi, np.pi / 2) \n",
    "yerr = np.full_like(y, 0.2)\n",
    "noise = np.random.normal(0, yerr, 1000)\n",
    "y += noise\n",
    "\n",
    "\n",
    "params, covariance_matrix = curve_fit(f, x, y)\n",
    "\n",
    "params, covariance_matrix = curve_fit(\n",
    "    f, x, y,\n",
    "    p0=[15, 2],\n",
    ")\n",
    "\n",
    "#params, covariance_matrix = curve_fit(\n",
    "#    f, x, y,\n",
    "#    p0=[15, 1.5],\n",
    "#    sigma=yerr,\n",
    "#    absolute_sigma=True,\n",
    "#)\n",
    "\n",
    "\n",
    "# plot the stuff\n",
    "\n",
    "x_plot = np.linspace(-0.1, 1.1, 1000)\n",
    "\n",
    "plt.plot(x, y, '.', label='data')\n",
    "plt.plot(x_plot, f(x_plot, *params), label='fit result')\n",
    "plt.legend();"
   ]
  },
  {
   "cell_type": "markdown",
   "metadata": {},
   "source": [
    "<a id=minimize></a>\n",
    "## Unbinned likelihood fits using `minimize`\n",
    "\n",
    "Simple example: an unbinned negative log-likelihood fit for a poissonian distribution"
   ]
  },
  {
   "cell_type": "code",
   "execution_count": null,
   "metadata": {
    "collapsed": true
   },
   "outputs": [],
   "source": [
    "lambda_ = 15\n",
    "k = np.random.poisson(lambda_, 100)\n",
    "\n",
    "# make sure to use bins of integer width, centered around the integer\n",
    "bin_edges = np.arange(0, 31) - 0.5\n",
    "\n",
    "plt.hist(k, bins=bin_edges);"
   ]
  },
  {
   "cell_type": "markdown",
   "metadata": {},
   "source": [
    "Poisson pdf:\n",
    "\n",
    "$$ \n",
    "f(k, \\lambda) = \\frac{\\lambda^k}{k!} \\mathrm{e}^{-\\lambda}\n",
    "$$\n",
    "\n",
    "So the likelihood is:\n",
    "\n",
    "$$\n",
    "\\mathcal{L} = \\prod_{i=0}^{N} \\frac{\\lambda^{k_i}}{k_i!} \\mathrm{e}^{-\\lambda}\n",
    "$$\n",
    "\n",
    "It's often easier to minimize $-\\log(\\mathcal{L})$, let's see:\n",
    "\n",
    "$$\n",
    "-\\log(\\mathcal{L}) = - \\sum_{i=0}^{N}\\bigl( k_i \\log(\\lambda) - \\log{k_i!} - \\lambda \\bigr)\n",
    "$$\n",
    "\n",
    "We are interested in the minimum reletive to $\\lambda$, so we dismiss constant term concerning $\\lambda$ \n",
    "$$\n",
    "-\\log(\\mathcal{L}) = \\sum_{i=0}^{N}\\bigl( \\lambda - k_i \\log(\\lambda) \\bigr)   \n",
    "$$\n",
    "\n",
    "This looks indeed easier to minimize than the likelihood."
   ]
  },
  {
   "cell_type": "code",
   "execution_count": null,
   "metadata": {
    "collapsed": true
   },
   "outputs": [],
   "source": [
    "from scipy.optimize import minimize\n",
    "\n",
    "def negative_log_likelihood(lambda_, k):\n",
    "    return np.sum(lambda_ - k * np.log(lambda_))\n",
    "\n",
    "result = minimize(\n",
    "    negative_log_likelihood,\n",
    "    x0=(10, ),   # initial guess\n",
    "    args=(k, ),  # additional arguments for the function to minimize\n",
    ")\n",
    "\n",
    "result\n",
    "\n",
    "print('True λ = {}'.format(lambda_))\n",
    "print('Fit: λ = {:.2f} ± {:.2f}'.format(result.x[0], np.sqrt(result.hess_inv[0, 0])))"
   ]
  },
  {
   "cell_type": "markdown",
   "metadata": {},
   "source": [
    "* minimize has lots of options for different minimization algorithms\n",
    "* Also able to respect bounds and constraints (with certain algorithms)\n",
    "* It is worth to write down you problems and simplify the (log)Likelihood as much as possible"
   ]
  },
  {
   "cell_type": "markdown",
   "metadata": {},
   "source": [
    "<a id=minimize_complex></a>\n",
    "### A more complicated example\n",
    "\n",
    "Fitting a gaussian with an exponential background "
   ]
  },
  {
   "cell_type": "markdown",
   "metadata": {},
   "source": [
    "Let's say we have two distributions, an exponential and a gaussian:\n",
    "\n",
    "$$\n",
    "f(x, \\mu, \\sigma, \\tau, p) =  p \\cdot \\frac{1}{\\sqrt{2 \\pi}} \\mathrm{e}^{-0.5 \\frac{(x - \\mu)^2}{\\sigma^2}} + (1 - p) \\cdot \\frac{1}{\\tau} \\mathrm{e}^{- x / \\tau}\n",
    "$$\n",
    "\n",
    "Likelihood:\n",
    "$$\n",
    "\\mathcal{L} = \\prod_{i = 0}^N \\bigl( p \\cdot \\frac{1}{\\sqrt{2 \\pi}} \\mathrm{e}^{-0.5 \\frac{(x_i - \\mu)^2}{\\sigma^2}} + (1 - p) \\cdot \\frac{1}{\\tau} \\mathrm{e}^{- x_i / \\tau} \\bigr)\n",
    "$$\n",
    "Negative log-likelihood:\n",
    "\n",
    "$$\n",
    "-\\log(\\mathcal{L}) = -\\sum_{i = 0}^N \\log\\bigl( p \\cdot \\frac{1}{\\sqrt{2 \\pi}} \\mathrm{e}^{-0.5 \\frac{(x_i - \\mu)^2}{\\sigma^2}} + (1 - p) \\cdot \\frac{1}{\\tau} \\mathrm{e}^{- x_i / \\tau} \\bigr)\n",
    "$$\n",
    "\n",
    "But we can make use of the built in scipy distributions:"
   ]
  },
  {
   "cell_type": "code",
   "execution_count": null,
   "metadata": {
    "collapsed": true,
    "scrolled": false
   },
   "outputs": [],
   "source": [
    "from scipy.stats import norm, expon\n",
    "\n",
    "x = np.append(\n",
    "    norm.rvs(loc=15, scale=2, size=500), \n",
    "    expon.rvs(scale=10, size=4500),\n",
    ")\n",
    "\n",
    "def pdf(x, mu, sigma, tau, p):\n",
    "    return p*norm.pdf(x, mu, sigma) + (1 - p)*expon.pdf(x, scale=tau)\n",
    "\n",
    "\n",
    "def negative_log_likelihood(params, x):\n",
    "    mu, sigma, tau, p = params\n",
    "    neg_l = -np.sum(np.log(pdf(x, mu, sigma, tau, p)))\n",
    "    return neg_l\n",
    "\n",
    "\n",
    "result = minimize(\n",
    "    negative_log_likelihood,\n",
    "    x0=(12, 1.5, 8, 0.2),   # initial guess\n",
    "    args=(x, ),            # additional arguments for the function to minimize\n",
    "    bounds=[\n",
    "        (None, None),      # no bounds for mu\n",
    "        (1e-32, None),         # sigma > 0\n",
    "        (1e-32, None),         # tau > 0\n",
    "        (0, 1),            # 0 <= p <= 1\n",
    "    ],\n",
    "    method='L-BFGS-B', # method that supports bounds\n",
    ")\n",
    "\n",
    "x_plot = np.linspace(0, 100, 1000)\n",
    "\n",
    "plt.hist(x, bins=100, normed=True)\n",
    "plt.plot(x_plot, pdf(x_plot, *result.x))\n",
    "\n",
    "print(result.hess_inv)"
   ]
  },
  {
   "cell_type": "code",
   "execution_count": null,
   "metadata": {
    "collapsed": true
   },
   "outputs": [],
   "source": [
    "# get the covariance matrix as normal numpy array\n",
    "covariance_matrix = result.hess_inv.todense()\n",
    "\n",
    "\n",
    "correlation_matrix = cov2cor(covariance_matrix)\n",
    "\n",
    "plt.matshow(correlation_matrix, vmin=-1, vmax=1, cmap='RdBu_r')\n",
    "\n",
    "plt.colorbar(shrink=0.8);\n",
    "plt.xticks(np.arange(4), ['μ', 'σ', 'τ', 'p'])\n",
    "plt.yticks(np.arange(4), ['μ', 'σ', 'τ', 'p'])\n",
    "print(correlation_matrix)"
   ]
  },
  {
   "cell_type": "markdown",
   "metadata": {},
   "source": [
    "<a id=odr></a>\n",
    "## Fitting data with x and y errors using `scipy.odr`"
   ]
  },
  {
   "cell_type": "markdown",
   "metadata": {},
   "source": [
    "Most fitting routines only handle uncertainties on dependent variable (y-coordinate), and in most cases this is fine.\n",
    "However, sometimes you may also want to consider errors on the independent variable (x-coordinate). This generally occurs\n",
    "when you have some (non-negligible) uncertainty associated with your measurement apparatus.\n",
    "\n",
    "Consider the following random data set with both x and y uncertainties:"
   ]
  },
  {
   "cell_type": "code",
   "execution_count": null,
   "metadata": {
    "collapsed": true
   },
   "outputs": [],
   "source": [
    "import numpy as np\n",
    "\n",
    "# generate some data\n",
    "real_values = np.array([1.5, -3])\n",
    "x = np.linspace(0, 1, 10)\n",
    "y = real_values[0]*x + real_values[1]\n",
    "xerr = np.full_like(x, 0.1)\n",
    "yerr = np.full_like(y, 0.05)\n",
    "\n",
    "# add noise to the data\n",
    "x += np.random.normal(0, xerr, 10)\n",
    "y += np.random.normal(0, yerr, 10)\n",
    "\n",
    "# plot the data\n",
    "plt.errorbar(x, y, xerr=xerr, yerr=yerr, fmt='o');"
   ]
  },
  {
   "cell_type": "markdown",
   "metadata": {},
   "source": [
    "Cases like these can be handled using orthogonal distance regression (ODR). When the independent variable is error-free (or the errors are negligibly small), the residuals are computed as the *vertical* distance between the data points and the fit. This is the ordinary least-squares method.\n",
    "\n",
    "In the specific case that the x and y uncertainties are equal, which would occur if the same measurement device is used to measure both the independent and dependent variables, the residual to be minimized will actually be *perpendicular* (orthogonal) to the fit curve. Note that Python's ODR fit routines do not require that the x and y uncertainties are equal."
   ]
  },
  {
   "cell_type": "code",
   "execution_count": null,
   "metadata": {
    "collapsed": true,
    "scrolled": false
   },
   "outputs": [],
   "source": [
    "import scipy.odr as odr\n",
    "\n",
    "# function we want to fit (in this case, a line)\n",
    "def f(B, x):\n",
    "    return B[0]*x + B[1]\n",
    "\n",
    "# do the fit!\n",
    "guess = [5, 0]\n",
    "linear = odr.Model(f)\n",
    "data = odr.RealData(x, y, sx=xerr, sy=yerr)\n",
    "odr_fit = odr.ODR(data, linear, beta0=guess)\n",
    "odr_output = odr_fit.run()\n",
    "odr_output.pprint()   # pprint = 'pretty print' function\n",
    "\n",
    "# plot data and ODR fit\n",
    "z = np.linspace(-0.1, 1.1, 100)\n",
    "plt.errorbar(x, y, xerr=xerr, yerr=yerr, fmt='o')\n",
    "plt.plot(z, f(odr_output.beta, z), 'k--');"
   ]
  },
  {
   "cell_type": "markdown",
   "metadata": {},
   "source": [
    "Finally, we do a comparison to a fit with ordinary least-squares (curve_fit)."
   ]
  },
  {
   "cell_type": "code",
   "execution_count": null,
   "metadata": {
    "collapsed": true
   },
   "outputs": [],
   "source": [
    "from scipy.optimize import curve_fit\n",
    "\n",
    "def g(x, m, b):\n",
    "    return m*x + b\n",
    "\n",
    "params, covariance_matrix = curve_fit(g, x, y, sigma=yerr, p0=guess)\n",
    "\n",
    "plt.errorbar(x, y, xerr=xerr, yerr=yerr, fmt='o')\n",
    "plt.plot(z, f(odr_output.beta, z), 'k--', label='ODR Fit')\n",
    "plt.plot(z, g(z, *params), 'g-.', label='curve_fit')\n",
    "plt.legend(loc='best')\n",
    "\n",
    "print('ODR Fit Results:  ', odr_output.beta)\n",
    "print('curve_fit Results:', params)\n",
    "print('Real Values:', real_values)"
   ]
  },
  {
   "cell_type": "markdown",
   "metadata": {},
   "source": [
    "If the x-uncertainties are relatively small, in general curve_fit will produce a better result. However, if the uncertainties on the independent variable are large and/or there is a rapidly changing region of your curve where the x-errors are important, ODR fitting may produce a better result."
   ]
  },
  {
   "cell_type": "markdown",
   "metadata": {},
   "source": [
    "<a id=fft></a>\n",
    "# Fast Fourier Transforms (FFTs)"
   ]
  },
  {
   "cell_type": "code",
   "execution_count": null,
   "metadata": {
    "collapsed": true
   },
   "outputs": [],
   "source": [
    "freq1 = 5\n",
    "freq2 = 50\n",
    "\n",
    "t = np.linspace(0, 1, 1024*10)\n",
    "y = np.sin(2*np.pi*freq1*t) + np.sin(2*np.pi*freq2*t)\n",
    "\n",
    "# add some white noise\n",
    "y += np.random.normal(y, 5)"
   ]
  },
  {
   "cell_type": "code",
   "execution_count": null,
   "metadata": {
    "collapsed": true
   },
   "outputs": [],
   "source": [
    "plt.scatter(t, y, s=10, alpha=0.25, lw=0)\n",
    "plt.xlabel(r'$t \\ /\\ \\mathrm{s}$');"
   ]
  },
  {
   "cell_type": "code",
   "execution_count": null,
   "metadata": {
    "collapsed": true
   },
   "outputs": [],
   "source": [
    "from scipy import fftpack"
   ]
  },
  {
   "cell_type": "code",
   "execution_count": null,
   "metadata": {
    "collapsed": true
   },
   "outputs": [],
   "source": [
    "z = fftpack.rfft(y)\n",
    "f = fftpack.rfftfreq(len(t), t[1] - t[0])\n",
    "\n",
    "plt.axvline(freq1, color='lightgray', lw=5)\n",
    "plt.axvline(freq2, color='lightgray', lw=5)\n",
    "\n",
    "plt.plot(f, np.abs(z)**2)\n",
    "\n",
    "plt.xlabel('f / Hz')\n",
    "plt.xscale('log')\n",
    "# plt.yscale('log');"
   ]
  },
  {
   "cell_type": "markdown",
   "metadata": {},
   "source": [
    "<a id=filtering></a>\n",
    "# Signal filtering"
   ]
  },
  {
   "cell_type": "markdown",
   "metadata": {},
   "source": [
    "Consider this noisy data set with outliers. The data is a so-called S-curve, and we want to identify the midpoint of the falling edge."
   ]
  },
  {
   "cell_type": "code",
   "execution_count": null,
   "metadata": {
    "collapsed": true
   },
   "outputs": [],
   "source": [
    "from scipy.special import ndtr\n",
    "\n",
    "def s_curve(x, a, b):\n",
    "    return ndtr(-a*(x - b))\n",
    "\n",
    "# generate mildly noisy data using Gaussian CDF (see end of this notebook)\n",
    "real_params = [2.5, 3]\n",
    "x = np.linspace(0, 5, 20)\n",
    "y = s_curve(x, *real_params)\n",
    "y += np.random.normal(0, 0.025, len(y))\n",
    "\n",
    "# add 4 bad data points\n",
    "outlier_xcoords = [2, 6, 10, 15]\n",
    "y[outlier_xcoords] = np.random.uniform(0.2, 2, size=4)\n",
    "plt.plot(x, y, 'bo')\n",
    "\n",
    "# attempt to fit\n",
    "params, __ = curve_fit(s_curve, x, y)\n",
    "z = np.linspace(0, 5, 100)\n",
    "plt.plot(z, s_curve(z, *params), 'k--')\n",
    "print('Real value:', real_params[1])\n",
    "print('Fit value:', params[1])"
   ]
  },
  {
   "cell_type": "markdown",
   "metadata": {},
   "source": [
    "You can see clearly in the data that the mid-point of the S-curve is at about x=3 (which is the real value), but the outliers destroy the fit. We can remove them easily with a median filter. A median filter is particularly suited to edge detection cases, since it tends to preserve edges well."
   ]
  },
  {
   "cell_type": "code",
   "execution_count": null,
   "metadata": {
    "collapsed": true
   },
   "outputs": [],
   "source": [
    "from scipy.signal import medfilt\n",
    "\n",
    "filtered_y = medfilt(y)\n",
    "\n",
    "params, __ = curve_fit(s_curve, x, filtered_y)\n",
    "print('Real value:', real_params[1])\n",
    "print('Fit value:', params[1])\n",
    "\n",
    "z = np.linspace(0, 5, 100)\n",
    "plt.plot(x, y, 'k*', label='Before Filtering')\n",
    "plt.plot(x, filtered_y, 'bo', label='After Filtering')\n",
    "plt.plot(z, s_curve(z, *params), 'g--')\n",
    "plt.legend();"
   ]
  },
  {
   "cell_type": "markdown",
   "metadata": {},
   "source": [
    "## Exercise"
   ]
  },
  {
   "cell_type": "markdown",
   "metadata": {},
   "source": [
    "The following is an example implementation of a low-pass [Butterworth filter](https://en.wikipedia.org/wiki/Butterworth_filter):"
   ]
  },
  {
   "cell_type": "code",
   "execution_count": null,
   "metadata": {
    "collapsed": true
   },
   "outputs": [],
   "source": [
    "from scipy.signal import butter, lfilter\n",
    "\n",
    "def lowpass_filter(data, cutoff, fs, order=5):\n",
    "    \"\"\"\n",
    "    Digital Butterworth low-pass filter.\n",
    "    \n",
    "    data   : 1D array of data to be filtered\n",
    "    cutoff : cutoff frequency in Hz\n",
    "    fs     : sampling frequency (samples/second)\n",
    "    \"\"\"\n",
    "    nyquist_frequency = fs/2\n",
    "    normal_cutoff = cutoff/nyquist_frequency\n",
    "    b, a = butter(order, normal_cutoff, btype='low')\n",
    "    y = lfilter(b, a, data)\n",
    "    return y"
   ]
  },
  {
   "cell_type": "markdown",
   "metadata": {},
   "source": [
    "You are the unfortunate recipient of the following noisy data, which contains noise at two different (unknown) frequencies:"
   ]
  },
  {
   "cell_type": "code",
   "execution_count": null,
   "metadata": {
    "collapsed": true
   },
   "outputs": [],
   "source": [
    "data = np.genfromtxt('../resources/scipy_filter_data.dat')\n",
    "t = data[:, 0]\n",
    "y = data[:, 1]\n",
    "sample_freq = (len(t) - 1)/(t[-1])\n",
    "plt.plot(t, y);   # these are your data"
   ]
  },
  {
   "cell_type": "markdown",
   "metadata": {},
   "source": [
    "Somewhere in this mess is a Gaussian:"
   ]
  },
  {
   "cell_type": "code",
   "execution_count": null,
   "metadata": {
    "collapsed": true
   },
   "outputs": [],
   "source": [
    "from scipy.stats import norm\n",
    "\n",
    "def gaussian(x, mu, sigma, A):\n",
    "    return A * norm.pdf(x, mu, sigma)"
   ]
  },
  {
   "cell_type": "markdown",
   "metadata": {},
   "source": [
    "Use a FFT to identify the two offending noise frequencies. Then convert the `lowpass_filter` above into a bandstop filter (hint: it is a trivial modification), and remove the offending noise from the data as much as possible (it won't be perfect). Finally, use `curvefit` to fit a Gaussian to the data, thereby recovering the original signal."
   ]
  },
  {
   "cell_type": "code",
   "execution_count": null,
   "metadata": {
    "collapsed": true
   },
   "outputs": [],
   "source": [
    "# %load -r 3-52 solutions/07_01_scipy.py"
   ]
  },
  {
   "cell_type": "markdown",
   "metadata": {},
   "source": [
    "<a id=integration></a>\n",
    "# Integration\n",
    "\n",
    "Scipy integration routines are discussed in the [Scipy documentation](https://docs.scipy.org/doc/scipy/reference/tutorial/integrate.html). We will look at the two most common routines here."
   ]
  },
  {
   "cell_type": "markdown",
   "metadata": {},
   "source": [
    "<a id=function_integration></a>\n",
    "## Function integration\n",
    "\n",
    "`quad` is used to evaluate definite 1D numerical integrals. For example, assume we want to integrate a quadratic polynomial $f(x) = 3x^2 + 6x - 9$ over an interval $x \\in [0, 5]$. Analytically, the answer is:\n",
    "\n",
    "$$ \\int_0^5 3x^2 + 6x - 9 \\ dx = \\left[ x^3 + 3x^2 - 9x \\right]_{x = 0}^{x = 5} = 155 $$"
   ]
  },
  {
   "cell_type": "code",
   "execution_count": null,
   "metadata": {
    "collapsed": true
   },
   "outputs": [],
   "source": [
    "from scipy.integrate import quad\n",
    "\n",
    "def f(x):\n",
    "    return 3*x**2 + 6*x - 9\n",
    "\n",
    "quad(f, 0, 5)"
   ]
  },
  {
   "cell_type": "markdown",
   "metadata": {},
   "source": [
    "The first parameter `quad` returns is the answer; the second is an estimate of the absolute error in the result.\n",
    "\n",
    "For 2D, 3D, or n-dimensional integrals , use `dblquad`, `tplquad`, or `nquad`, respectively."
   ]
  },
  {
   "cell_type": "markdown",
   "metadata": {},
   "source": [
    "For some more interesting functions, Scipy's other function integration routines might be helpful:\n",
    "* `quadrature` : [Gaussian quadrature](https://en.wikipedia.org/wiki/Gaussian_quadrature)\n",
    "* `romberg` : [Romberg integration](https://en.wikipedia.org/wiki/Romberg%27s_method)\n",
    "\n",
    "For example, consider the $\\mathrm{sinc}$ function:\n",
    "\n",
    "$$\n",
    "\\mathrm{sinc}(x) \\equiv\n",
    "\\begin{cases} \n",
    "1 & x = 0 \\\\\n",
    "\\sin(x)/x & \\mathrm{otherwise}\n",
    "\\end{cases}\n",
    "$$"
   ]
  },
  {
   "cell_type": "code",
   "execution_count": null,
   "metadata": {
    "collapsed": true
   },
   "outputs": [],
   "source": [
    "def sinc(x):\n",
    "    return np.sin(x) / x\n",
    "\n",
    "\n",
    "x = np.linspace(-10, 10, 1000)\n",
    "y = sinc(x)\n",
    "plt.plot(x, y)\n",
    "plt.title('Sinc Function')\n",
    "\n",
    "print(quad(sinc, -10, 10))   # fails\n",
    "\n",
    "# numpys sinc handles the singularity correctly\n",
    "print(quad(np.sinc, -10, 10))"
   ]
  },
  {
   "cell_type": "markdown",
   "metadata": {},
   "source": [
    "`quad` struggles with $\\mathrm{sinc}$, but it can be easily handled with Gaussian quadrature:"
   ]
  },
  {
   "cell_type": "code",
   "execution_count": null,
   "metadata": {
    "collapsed": true
   },
   "outputs": [],
   "source": [
    "from scipy.integrate import quadrature\n",
    "\n",
    "# quadrature may complain, but it will work in the end\n",
    "print(quadrature(sinc, -10, 10)[0])"
   ]
  },
  {
   "cell_type": "markdown",
   "metadata": {},
   "source": [
    "This result agrees with Mathematica to 13 decimal places (even though only 11 are shown). Note that the problem is the singularity at $x=0$; if we change the boundaries to, say, [-10.1, 10], then it works fine. Also, writing our sinc function more cleverly would eliminate the problem."
   ]
  },
  {
   "cell_type": "markdown",
   "metadata": {},
   "source": [
    "<a id=sampleintegration></a>\n",
    "## Sample integration"
   ]
  },
  {
   "cell_type": "markdown",
   "metadata": {},
   "source": [
    "If you have a collection of points that you want to integrate, you could use an [interpolation function](#interpolation) and pass it to `quad`. A better alternative is to use the purpose-built functions `trapz`, `romb`, and `simps`."
   ]
  },
  {
   "cell_type": "markdown",
   "metadata": {},
   "source": [
    "We will consider the $\\mathrm{sinc}$ function again as an example. The most naive (and surprisingly robust) integration method is using the trapazoid rule, which is implemented in `trapz`:"
   ]
  },
  {
   "cell_type": "code",
   "execution_count": null,
   "metadata": {
    "collapsed": true
   },
   "outputs": [],
   "source": [
    "from scipy.integrate import trapz\n",
    "\n",
    "# 50 grid points\n",
    "x = np.linspace(-10, 10)\n",
    "y = sinc(x)\n",
    "print('  50 points:', trapz(y, x))   # note the order of the arguments: y, x\n",
    "\n",
    "# 1000 grid points\n",
    "x = np.linspace(-10, 10, 1000)\n",
    "y = sinc(x)\n",
    "print('1000 points:', trapz(y, x))"
   ]
  },
  {
   "cell_type": "markdown",
   "metadata": {},
   "source": [
    "<a id=interpolation></a>\n",
    "# Interpolation"
   ]
  },
  {
   "cell_type": "markdown",
   "metadata": {},
   "source": [
    "<a id=linear_interpolation></a>\n",
    "## Linear interpolation"
   ]
  },
  {
   "cell_type": "markdown",
   "metadata": {},
   "source": [
    "Imagine you would like to interpolate between two points $(x_0, y_0)$ and $(x_1, y_1)$. You could do this by hand:\n",
    "\n",
    "$$y(x) = y_0 + (x - x_0) \\frac{y_1 - y_0}{x_1 - x_0}$$\n",
    "\n",
    "Simple enough, but it is annoying to look up or derive the formula. Also, what if you want values less than $x_0$ to stay at the value of $y_0$, and likewise for values greater than $x_1$? Then you need to add `if` statements, and check the logic, etc. Too much work.\n",
    "\n",
    "Instead, there is a simple function for almost all of your interpolation needs: `interp1d`."
   ]
  },
  {
   "cell_type": "code",
   "execution_count": null,
   "metadata": {
    "collapsed": true
   },
   "outputs": [],
   "source": [
    "from scipy.interpolate import interp1d\n",
    "\n",
    "x = (1, 2)\n",
    "y = (5, 7)\n",
    "print('Points:', list(zip(x, y)))\n",
    "\n",
    "f = interp1d(x, y)\n",
    "z = [1.25, 1.5, 1.75]\n",
    "print('Interpolation:', list(zip(z, f(z))))"
   ]
  },
  {
   "cell_type": "markdown",
   "metadata": {},
   "source": [
    "Right now, if you try to use an x-coordinate outside of the interval $[x_0, x_1]$, a `ValueError` will be raised:"
   ]
  },
  {
   "cell_type": "code",
   "execution_count": null,
   "metadata": {
    "collapsed": true
   },
   "outputs": [],
   "source": [
    "# f(2.5)   # uncomment to run me"
   ]
  },
  {
   "cell_type": "markdown",
   "metadata": {},
   "source": [
    "This is because we haven't told `interp1d` how we want to handle the boundaries. This is done using the `fill_value` keyword argument. There are a few options:\n",
    "\n",
    "1. Set values outside of the interval $[x_0, x_1]$ to a float.\n",
    "2. Set values $< x_0$ to `below` and values $> x_1$ to `above` by passing a tuple, `(below, above)`.\n",
    "3. Extrapolate points outside the interval by passing `extrapolate`.\n",
    "\n",
    "We also need to tell `interp1d` not to raise a `ValueError` by setting the `bounds_error` keyword to `False`."
   ]
  },
  {
   "cell_type": "code",
   "execution_count": null,
   "metadata": {
    "collapsed": true
   },
   "outputs": [],
   "source": [
    "z = [0.5, 1, 1.5, 2, 2.5]\n",
    "\n",
    "f = interp1d(x, y, bounds_error=False, fill_value=0)\n",
    "print(\"Option 1:\", list(zip(z, f(z))))\n",
    "\n",
    "f = interp1d(x, y, bounds_error=False, fill_value=y)   # fill with endpoint values\n",
    "print(\"Option 2:\", list(zip(z, f(z))))\n",
    "\n",
    "f = interp1d(x, y, fill_value='extrapolate')   # bounds_error set to False automatically\n",
    "print(\"Option 3:\", list(zip(z, f(z))))"
   ]
  },
  {
   "cell_type": "markdown",
   "metadata": {},
   "source": [
    "<a id=spline_interpolation></a>\n",
    "## Cubic spline interpolation"
   ]
  },
  {
   "cell_type": "markdown",
   "metadata": {},
   "source": [
    "[Cubic splines](http://mathworld.wolfram.com/CubicSpline.html) are what are most commonly used when you want to interpolate between points *smoothly*.\n",
    "\n",
    "Cubic spline interpolation is so common, it has its own method, `CubicSpline`, which produces generally better results."
   ]
  },
  {
   "cell_type": "code",
   "execution_count": null,
   "metadata": {
    "collapsed": true
   },
   "outputs": [],
   "source": [
    "from scipy.interpolate import CubicSpline\n",
    "\n",
    "npoints = 5\n",
    "x = np.arange(npoints)\n",
    "y = np.random.random(npoints)\n",
    "plt.plot(x, y, label='linear')\n",
    "\n",
    "f = interp1d(x, y, kind='cubic')\n",
    "z = np.linspace(np.min(x), np.max(x), 100)\n",
    "plt.plot(z, f(z), label='interp1d cubic')\n",
    "\n",
    "f = CubicSpline(x, y)\n",
    "z = np.linspace(np.min(x), np.max(x), 100)\n",
    "plt.plot(z, f(z), label='CubicSpline')\n",
    "\n",
    "plt.plot(x, y, 'ko')\n",
    "plt.legend(loc='best');"
   ]
  },
  {
   "cell_type": "markdown",
   "metadata": {},
   "source": [
    "<a id=special_functions></a>\n",
    "# Special Functions\n",
    "\n",
    "A complete list of scipy special functions can be found [here](https://docs.scipy.org/doc/scipy-0.14.0/reference/special.html)."
   ]
  },
  {
   "cell_type": "markdown",
   "metadata": {},
   "source": [
    "<a id=bessel></a>\n",
    "## Bessel functions"
   ]
  },
  {
   "cell_type": "code",
   "execution_count": null,
   "metadata": {
    "collapsed": true
   },
   "outputs": [],
   "source": [
    "from scipy.special import jn\n",
    "\n",
    "x = np.linspace(0, 10, 100)\n",
    "for n in range(6):\n",
    "    plt.plot(x, jn(n, x), label=r'$\\mathtt{J}_{%i}(x)$' % n)\n",
    "plt.grid()\n",
    "plt.legend();"
   ]
  },
  {
   "cell_type": "code",
   "execution_count": null,
   "metadata": {
    "collapsed": true
   },
   "outputs": [],
   "source": [
    "import mpl_toolkits.mplot3d.axes3d as plt3d\n",
    "from matplotlib.colors import LogNorm\n",
    "\n",
    "def airy_disk(x):\n",
    "    mask = x != 0\n",
    "    result = np.empty_like(x)\n",
    "    result[~mask] = 1.0\n",
    "    result[mask] = (2 * jn(1, x[mask]) / x[mask])**2\n",
    "    return result\n",
    "\n",
    "# 2D plot\n",
    "r = np.linspace(-10, 10, 500)\n",
    "plt.plot(r, airy_disk(r))\n",
    "\n",
    "# 3D plot\n",
    "x = np.arange(-10, 10.1, 0.1)\n",
    "y = np.arange(-10, 10.1, 0.1)\n",
    "\n",
    "X, Y = np.meshgrid(x, y)\n",
    "Z = airy_disk(np.sqrt(X**2 + Y**2))\n",
    "\n",
    "result\n",
    "fig = plt.figure()\n",
    "ax = plt3d.Axes3D(fig)\n",
    "ax.plot_surface(X, Y, Z, cmap='gray', norm=LogNorm(), lw=0)\n",
    "\n",
    "None"
   ]
  },
  {
   "cell_type": "markdown",
   "metadata": {},
   "source": [
    "<a id=erf></a>\n",
    "## Error function and Gaussian CDF\n",
    "\n",
    "CDF = cumulative distribution function\n",
    "\n",
    "$$\\mathrm{erf}(z) = \\frac{2}{\\sqrt{\\pi}} \\int_0^z \\exp\\left( -t^2 \\right) dt $$\n",
    "$$\\mathrm{ndtr}(z) = \\frac{1}{\\sqrt{2\\pi}} \\int_{-\\infty}^z \\exp\\left( \\frac{-t^2}{2} \\right) dt $$"
   ]
  },
  {
   "cell_type": "code",
   "execution_count": null,
   "metadata": {
    "collapsed": true
   },
   "outputs": [],
   "source": [
    "from scipy.special import erf, ndtr\n",
    "\n",
    "def gaussian(z):\n",
    "    return np.exp(-z**2)\n",
    "\n",
    "x = np.linspace(-3, 3, 100)\n",
    "plt.plot(x, gaussian(x), label='Gaussian')\n",
    "plt.plot(x, erf(x), label='Error Function')\n",
    "plt.plot(x, ndtr(x), label='Gaussian CDF')\n",
    "plt.ylim(-1.1, 1.1)\n",
    "plt.legend(loc='best');"
   ]
  },
  {
   "cell_type": "markdown",
   "metadata": {},
   "source": [
    "<a id=ortho_polys></a>\n",
    "## Orthogonal Polynomials"
   ]
  },
  {
   "cell_type": "code",
   "execution_count": null,
   "metadata": {
    "collapsed": true
   },
   "outputs": [],
   "source": [
    "from scipy.special import eval_legendre, eval_laguerre, eval_hermite, eval_chebyt\n",
    "\n",
    "ortho_poly_dict = {'Legendre': eval_legendre,\n",
    "                   'Laguerre': eval_laguerre,\n",
    "                   'Hermite': eval_hermite,\n",
    "                   'Chebyshev T': eval_chebyt}\n",
    "\n",
    "def plot_ortho_poly(name):\n",
    "    plt.figure()\n",
    "    f = ortho_poly_dict[name]\n",
    "    x = np.linspace(-1, 1, 100)\n",
    "    for n in range(5):\n",
    "        plt.plot(x, f(n, x), label='n = %i' % n)\n",
    "    if name is 'Legendre' or 'Chebyshev' in name:\n",
    "        plt.ylim(-1.1, 1.1)\n",
    "    plt.legend(loc='best', fontsize=16)\n",
    "    plt.title(name + ' Polynomials')\n",
    "    \n",
    "plot_ortho_poly('Legendre')\n",
    "# plot_ortho_poly('Laguerre')\n",
    "# plot_ortho_poly('Hermite')\n",
    "# plot_ortho_poly('Chebyshev T')"
   ]
  },
  {
   "cell_type": "markdown",
   "metadata": {},
   "source": [
    "## Exercise"
   ]
  },
  {
   "cell_type": "markdown",
   "metadata": {},
   "source": [
    "Orthogonal polynomials can be used to construct a series expansion of an arbitrary function, just like $\\sin$ and $\\cos$ are used to construct a Fourier series. For example, we can express a function $f(x)$ as a series of Legendre polynomials $P_n(x)$:\n",
    "\n",
    "$$ f(x) = \\sum_{n=0}^{\\infty} a_n P_n(x) $$"
   ]
  },
  {
   "cell_type": "markdown",
   "metadata": {},
   "source": [
    "The Legendre polynomials are orthogonal on the interval $x \\in [-1, 1]$, where they obey the following orthogonality relationship:\n",
    "$$ \\int_{-1}^{1} P_n(x) \\, P_m(x) \\, dx = \\frac{2}{2 m + 1} \\delta_{mn} $$\n",
    "\n",
    "With $f(x) = sin(\\pi x)$, write a function to calculate the coefficients $a_n$ of the Legendre series. Then plot $f(x)$ and the Legendre series for $x \\in [-1, 1]$. Calculate as many coefficients as are needed for the series to essentially the same as $f(x)$ (it will be less than ten).\n",
    "\n",
    "If you are struggling with the math, look [here](http://mathworld.wolfram.com/Fourier-LegendreSeries.html)."
   ]
  },
  {
   "cell_type": "code",
   "execution_count": null,
   "metadata": {
    "collapsed": true
   },
   "outputs": [],
   "source": [
    "# %load -r 57-80 solutions/07_01_scipy.py"
   ]
  },
  {
   "cell_type": "markdown",
   "metadata": {},
   "source": [
    "## Additional information\n",
    "\n",
    "#### Fitting with (i)minuit\n",
    "\n",
    "One of the most extended minimization packages classically used for fitting is [MINUIT](https://en.wikipedia.org/wiki/MINUIT). Python allows to use this software via wrapping the C++ code into a python package named [iminuit](https://github.com/iminuit/iminuit).\n",
    "\n",
    "For more information see [iminuit documentation](http://iminuit.readthedocs.io/en/latest/), and the [available tutorials](https://github.com/iminuit/iminuit/blob/master/tutorial/tutorial.py) within the GitHub project.\n",
    "\n",
    "\n",
    "\n"
   ]
  }
 ],
 "metadata": {
  "anaconda-cloud": {},
  "kernelspec": {
   "display_name": "Python 3",
   "language": "python",
   "name": "python3"
  },
  "language_info": {
   "codemirror_mode": {
    "name": "ipython",
    "version": 3
   },
   "file_extension": ".py",
   "mimetype": "text/x-python",
   "name": "python",
   "nbconvert_exporter": "python",
   "pygments_lexer": "ipython3",
   "version": "3.5.2"
  }
 },
 "nbformat": 4,
 "nbformat_minor": 1
}
