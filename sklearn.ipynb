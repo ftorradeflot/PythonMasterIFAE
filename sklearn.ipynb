{
 "cells": [
  {
   "cell_type": "code",
   "execution_count": null,
   "metadata": {},
   "outputs": [],
   "source": [
    "%%javascript\n",
    "$.getScript('https://kmahelona.github.io/ipython_notebook_goodies/ipython_notebook_toc.js')\n"
   ]
  },
  {
   "cell_type": "markdown",
   "metadata": {},
   "source": [
    "<h1 id=\"tocheading\">Table of Contents</h1>\n",
    "<div id=\"toc\"></div>"
   ]
  },
  {
   "cell_type": "markdown",
   "metadata": {},
   "source": [
    "# Scikit-Learn (sklearn)\n",
    "\n",
    "Scikit-learn is a Python library containing hundreds of methods for machine learning purposes. \n",
    "It is designed to interoperate with the Python numerical and scientific libraries NumPy and SciPy.\n",
    "\n",
    "It leverages NumPy and c-extensions for performance and provides many out-of-the-box tools for performing data mining tasks.\n",
    "\n",
    "It's a free and open source library and is used in many scientific publications.\n",
    "\n",
    "![sklearn logo](http://scikit-learn.org/stable/_static/scikit-learn-logo-small.png)"
   ]
  },
  {
   "cell_type": "markdown",
   "metadata": {
    "slideshow": {
     "slide_type": "slide"
    }
   },
   "source": [
    "# Machine Learning (Supervised)\n",
    "\n",
    "## Mathematical Notation and Problem Description\n",
    "\n",
    "*For more details see \"Elements of statistical Learning\" by Trevor Hastie. (Available for free as an E-Book)* \n",
    "\n",
    "I'll try to follow some naming conventions along this notebook. They are the same as in the book (for the most parts).\n",
    "\n",
    "* Uppercase letters such as $X$ or $Y$ denote generic aspects of a variable (i.e. the actual random variable)\n",
    "* Observed values are written in lowercase. The ith observed value of $X$ is written as $x_i$\n",
    "* Matrices are written in bold uppercase letters as in $\\mathbf{X}$\n",
    "* Observations map as *rows* in the matrix while the observed variables are the *columns*.\n",
    "\n",
    "So if I measure two observables $p = 2$ the size and weight of $N = 100$ people, I get a $N \\times p$ matrix $\\mathbf{X}$.\n",
    "One observation in that matrix is denoted as $x_i = [ size, weight ]$ while all observations of the variable size are denoted by $\\mathbf{x}_j$ \n",
    "\n",
    "Heres one possible definition of supervised machine learning:\n",
    "\n",
    "> Given a $N \\times p$ matrix $\\mathbf{X}$ and some associated output vector $\\mathbf{Y} \\in \\mathbb{R}^N$,\n",
    " find a function $f(X) = \\hat{Y}$ that takes a vector $X \\in \\mathbb{R}^p$ and returns a prediction for $\\hat{Y}$\n",
    " where some \"loss function\" $L(Y, f(X))$ is minimized for all $X$.\n",
    " \n",
    "We usually identify two types of **Supervised Learning**\n",
    "* **Classification** when the output can take a finite set of values (classes)\n",
    "* **Regression** when the output is continuous \n",
    " \n",
    "We now look at an example to see what that actually entails."
   ]
  },
  {
   "cell_type": "markdown",
   "metadata": {
    "slideshow": {
     "slide_type": "subslide"
    }
   },
   "source": [
    "## The Titanic Example. Learning from disaster.\n",
    "\n",
    "In the spring of 1912 the R.M.S. Titanic embarked on a journey to cross the Atlantic ocean. Unfortunately it hit an iceberg on the night of April 14th and sank shortly afterwards.\n",
    "\n",
    "The disaster caused widespread outrage over what was seen as lax safety regulations and reckles behavoiur by some. New maritime safety laws were put in place after the sinking that are still in place today.\n",
    "\n",
    "What can _we_ learn from the Titanic just by looking at its passenger data?\n",
    "\n",
    "Our data contains a list of name, gender, age and ticket price for each (known) passenger.  \n",
    "\n",
    "![NYT headline about the Titanic](./ml/images/nyt_titanic.jpg)"
   ]
  },
  {
   "cell_type": "code",
   "execution_count": null,
   "metadata": {
    "slideshow": {
     "slide_type": "skip"
    }
   },
   "outputs": [],
   "source": [
    "%matplotlib inline\n",
    "from ml import plots\n",
    "from ml import learning\n",
    "from importlib import reload\n",
    "reload(learning)\n",
    "import matplotlib.pyplot as plt\n",
    "import seaborn as sns\n",
    "import pandas as pd\n",
    "import numpy as np\n",
    "\n",
    "def set_rc_params():\n",
    "    plt.rcParams['figure.figsize'] = (12, 8)\n",
    "    plt.rcParams['font.size'] = 14\n",
    "    plt.rcParams['lines.linewidth'] = 2\n",
    "    plt.rcParams['xtick.labelsize'] = 13\n",
    "    plt.rcParams['ytick.labelsize'] = 13\n",
    "    plt.rcParams['axes.labelsize'] = 14\n",
    "    plt.rcParams['axes.titlesize'] = 14\n",
    "    plt.rcParams['legend.fontsize'] = 13\n",
    "\n",
    "def set_sns():\n",
    "    sns.set(context='notebook')\n",
    "    set_rc_params()\n",
    "\n",
    "    \n",
    "def set_mpl():\n",
    "    sns.reset_orig()\n",
    "    set_rc_params()\n",
    "\n",
    "\n",
    "set_sns()\n",
    "\n",
    "pd.options.display.max_rows = 10\n",
    "\n",
    "def read_titanic():\n",
    "    data = pd.read_csv('resources/titanic_train.csv', index_col='PassengerId').dropna(subset=['Age'])\n",
    "    data['Survived_Code'] = data.Survived\n",
    "    data['Pclass_Code'] = data.Pclass\n",
    "    data.Survived = pd.Categorical.from_codes(data.Survived, categories=['no', 'yes'])\n",
    "    data.Pclass = pd.Categorical.from_codes(data.Pclass - 1, categories=['1st', '2nd', '3rd'])\n",
    "    data.Sex = pd.Categorical(data.Sex)\n",
    "    data['Sex_Code'] = data.Sex.cat.codes\n",
    "    return data\n",
    "\n",
    "data = read_titanic()\n",
    "data"
   ]
  },
  {
   "cell_type": "code",
   "execution_count": null,
   "metadata": {
    "collapsed": true,
    "slideshow": {
     "slide_type": "subslide"
    }
   },
   "outputs": [],
   "source": [
    "data.Survived.value_counts().plot.pie(autopct='%.2f %%')\n",
    "plt.gca().set_aspect('equal')"
   ]
  },
  {
   "cell_type": "markdown",
   "metadata": {},
   "source": [
    "__The task:__\n",
    "\n",
    "Given a vector $X = (Name, Class, Age, Sex)$ can we find a function $f_{survival}(x) \\in \\{{yes, no}\\}$ that accurately predicts the survival of the passengers in most cases?\n",
    "\n",
    "How do we know if that function $f_{survival}(x)$  is any good?"
   ]
  },
  {
   "cell_type": "markdown",
   "metadata": {
    "slideshow": {
     "slide_type": "subslide"
    }
   },
   "source": [
    "## Performance metrics\n",
    "\n",
    "To get some sense of the quality of this predictor we gather the following numbers.\n",
    "\n",
    "* __True Positives__ $TP$, The number of correctly predicted events that belong to the 'positive' class\n",
    "* __False Positives__ $FP$, The number of events falsely predicted as positive that actually belong to the 'negative' class\n",
    "* __True Negatives__ $TN$, The number of correctly predicted events that belong to the 'negative' class\n",
    "* __False Negatives__ $FN$, The number of events falsely predicted as negative that actually belong to the 'positive' class\n",
    "\n",
    "\n",
    "We can look at the fraction of correctly labeled observations in the data\n",
    "\n",
    "$$\n",
    "    accuracy(\\mathbf{y}, \\mathbf{\\hat{y}}) = \\frac{1}{N} \\sum_{i = 1}^N \\mathbb{1}(y_i = \\hat{y}_i)\n",
    "$$\n",
    "\n",
    "or simply put \n",
    "\n",
    "$$\n",
    "    accuracy(\\mathbf{y}, \\mathbf{\\hat{y}}) =  \\frac{TP + TN}{ TP + FP + FN + TN} = \\frac{\\text{correclty predicted}}{\\text{total number of observations}}.\n",
    "$$\n",
    "\n",
    "In some cases, also **Precision** and **Recall** can be useful:\n",
    "\n",
    "$$\n",
    "    precision=\\frac{TP}{TP+FP}\n",
    "$$\n",
    "\n",
    "$$\n",
    "    recall=\\frac{TP}{TP+FN}\n",
    "$$\n",
    "\n",
    "Now we try to find a function where the accuracy is higher than 0.5\n",
    "\n",
    "\n",
    "__One possible solution__:\n",
    "\n",
    "Let's presume rich people get to go into lifeboats.\n",
    "\n",
    "```\n",
    "def f_class(passenger):\n",
    "    if passenger.Pclass == 1:\n",
    "        return 'yes'\n",
    "    else:\n",
    "        return 'no'\n",
    "```"
   ]
  },
  {
   "cell_type": "code",
   "execution_count": null,
   "metadata": {
    "collapsed": true,
    "slideshow": {
     "slide_type": "-"
    }
   },
   "outputs": [],
   "source": [
    "def f_class(passenger_class):\n",
    "    return 'yes' if passenger_class == '1st' else 'no'\n",
    "\n",
    "data = read_titanic()\n",
    "prediction = data['Pclass'].apply(f_class)\n",
    "truth = data['Survived']\n",
    "\n",
    "plots.plot_bars_and_confusion(truth=truth, prediction=prediction)"
   ]
  },
  {
   "cell_type": "markdown",
   "metadata": {},
   "source": [
    "What about the women? Maybe we get a better predictor.\n",
    " \n",
    "```\n",
    "def f_survival(passenger):\n",
    "    if passenger.Sex == 'female':\n",
    "        return 'yes'\n",
    "    else:\n",
    "        return 'no'\n",
    "```"
   ]
  },
  {
   "cell_type": "code",
   "execution_count": null,
   "metadata": {
    "collapsed": true,
    "jupyter": {
     "outputs_hidden": true
    }
   },
   "outputs": [],
   "source": [
    "def f_sex(passenger_sex):\n",
    "    return 'yes' if passenger_sex == 'female' else 'no'\n",
    "\n",
    "data = read_titanic()\n",
    "truth = data['Survived']\n",
    "prediction = data['Sex'].apply(f_sex)"
   ]
  },
  {
   "cell_type": "code",
   "execution_count": null,
   "metadata": {
    "collapsed": true,
    "slideshow": {
     "slide_type": "subslide"
    }
   },
   "outputs": [],
   "source": [
    "plots.plot_bars_and_confusion(truth=truth, prediction=prediction)"
   ]
  },
  {
   "cell_type": "markdown",
   "metadata": {},
   "source": [
    "But wouldn't accuracy be enough? Why do we need to compute the confusion matrix?\n",
    "\n",
    "In some cases a model may have a high accuracy but still present a bad performance. Let's see an example"
   ]
  },
  {
   "cell_type": "code",
   "execution_count": null,
   "metadata": {
    "collapsed": true
   },
   "outputs": [],
   "source": [
    "np.random.seed(0)\n",
    "from sklearn.datasets import make_blobs\n",
    "\n",
    "sample_size = 1000\n",
    "ratio = 0.99\n",
    "\n",
    "X, y = make_blobs(n_samples=[int(ratio*sample_size), int((1 - ratio)*sample_size)],\n",
    "                 n_features=2, centers=[[0, 0], [-1, -1]], cluster_std=[1, 0.2])\n",
    "\n",
    "df_anomaly = pd.DataFrame(X, columns=['x', 'y'])\n",
    "df_anomaly['f_val'] = y\n",
    "df_anomaly['f_code'] = 'no'\n",
    "mask_no = y == 0\n",
    "df_anomaly.loc[~mask_no, 'f_code'] = 'yes'\n",
    "\n",
    "plt.scatter(df_anomaly[mask_no].x, df_anomaly[mask_no].y, c='b', zorder=0)\n",
    "plt.scatter(df_anomaly[~mask_no].x, df_anomaly[~mask_no].y, c='red', s=50, zorder=10)"
   ]
  },
  {
   "cell_type": "markdown",
   "metadata": {},
   "source": [
    "Imagine the points in red correspond to anomalies in a certain process and we want to build a model to detect them.\n",
    "\n",
    "Let's try."
   ]
  },
  {
   "cell_type": "code",
   "execution_count": null,
   "metadata": {
    "collapsed": true
   },
   "outputs": [],
   "source": [
    "def is_anomaly(r):\n",
    "    return 'yes' if r.y - r.x < -1.8 else 'no'\n",
    "\n",
    "prediction = df_anomaly.apply(is_anomaly, axis=1)\n",
    "truth = df_anomaly.f_code"
   ]
  },
  {
   "cell_type": "code",
   "execution_count": null,
   "metadata": {
    "collapsed": true
   },
   "outputs": [],
   "source": [
    "plots.plot_bars_and_confusion(truth=truth, prediction=prediction)"
   ]
  },
  {
   "cell_type": "markdown",
   "metadata": {},
   "source": [
    "Looks like it works pretty well, but it doesn't."
   ]
  },
  {
   "cell_type": "code",
   "execution_count": null,
   "metadata": {
    "collapsed": true
   },
   "outputs": [],
   "source": [
    "pred_mask_no = prediction == 'no'\n",
    "plt.scatter(df_anomaly[mask_no & pred_mask_no].x, df_anomaly[mask_no & pred_mask_no].y, c='b', zorder=0)\n",
    "plt.scatter(df_anomaly[~pred_mask_no].x, df_anomaly[~pred_mask_no].y,\n",
    "            c='red', s=50, zorder=10, label='Predicted yes')\n",
    "plt.scatter(df_anomaly[~mask_no].x, df_anomaly[~mask_no].y, c='limegreen',\n",
    "            s=50, zorder=10, label='Truth yes')\n",
    "plt.legend()"
   ]
  },
  {
   "cell_type": "markdown",
   "metadata": {},
   "source": [
    "If we look closer, the number of True Positives is 0, so Precission and Recall will both be 0.\n",
    "\n",
    "__We need to take Precission and Recall into account__ specially with unbalanced datasets."
   ]
  },
  {
   "cell_type": "markdown",
   "metadata": {},
   "source": [
    "Maybe we can do better by using some combination of variables for our prediction. But how do you find a good combination of variables?\n",
    "\n",
    "We could use visualizations to see correlations or obvious structures in the data. \n",
    "\n",
    "We could also try yo learn more about what happened on the Titanic. \n",
    "\n",
    "Perhaps even by watching that movie where Leonardo Di Caprio drowns in the end. \n",
    "\n",
    "![Movie Snaphsot](./ml/images/titanic-movie.jpg)"
   ]
  },
  {
   "cell_type": "markdown",
   "metadata": {
    "slideshow": {
     "slide_type": "subslide"
    }
   },
   "source": [
    "## Linear Models\n",
    "\n",
    "\n",
    "### Linear regression\n",
    "\n",
    "Can we improve our predictor by combining more variables into one predictor?\n",
    "\n",
    "Lets presume a linear weighted combination of variables:\n",
    "\n",
    "$$\n",
    "f(X)= \\hat{\\beta}_0 + \\sum_{j=1}^p X_j \\hat{\\beta}_j\n",
    "$$\n",
    "\n",
    "or in our case when combining sex and money:\n",
    "\n",
    "$$\n",
    "f(X)= \\hat{\\beta}_0 + X_{Class} \\hat{\\beta}_{Class} + X_{Sex} \\hat{\\beta}_{Sex}  \n",
    "$$\n",
    "\n",
    "How do you find those weights?\n",
    "\n",
    "Choose and then optimize a loss function. In this case the popular residual sum of squares \n",
    "\n",
    "$$L(\\beta) = RSS(\\mathbf{\\beta}) = \\sum_{i=1}^N (Y_i - X_i^T \\beta)^2 $$\n",
    "\n",
    "Rewrite the problem in matrix form:\n",
    "\n",
    "\\begin{align}\n",
    "X^T &= (1, Class, Sex) \\\\ \n",
    "\\mathbf{\\hat{\\beta}}^T &= (\\hat{\\beta}_0, \\hat{\\beta}_{Class}, \\hat{\\beta}_{Sex}) \\\\\n",
    "\\mathbf{y} &= {Y_1, \\ldots, Y_N} \n",
    "\\end{align}\n",
    "\n",
    "Makes the formulation more compact for the predictor\n",
    "\n",
    "$$\n",
    "\\hat{\\mathbf{y}} = X^T \\hat{\\beta}\n",
    "$$\n",
    "\n",
    "and the loss function\n",
    "\n",
    "$$\n",
    "RSS(\\beta) = (\\mathbf{y} - \\mathbf{X} \\beta)^T (\\mathbf{y} - \\mathbf{X} \\beta )\n",
    "$$\n",
    "\n",
    "Now we optimize the loss function just like we would any other function, by setting the derivative equals to zero.\n",
    "\n",
    "$$\n",
    "{RSS}^\\prime(\\beta) =  \\mathbf{X}^T (\\mathbf{y} - \\mathbf{X} \\beta ) \\stackrel{!}{=} 0\n",
    "$$\n",
    "\n",
    "Solving for $\\beta$ leads to\n",
    "\n",
    "$$\n",
    "\\hat{\\beta} = (\\mathbf{X}^T \\mathbf{X})^{-1} \\mathbf{X}^T \\mathbf{y}\n",
    "$$\n",
    "\n",
    "\n",
    "We just performed  __Linear Least Squares__ regression.\n",
    "\n",
    "Now we can define a function to predict passenger survival according to\n",
    "\n",
    "$$\n",
    "\\hat{Y} = \\begin{cases}\n",
    "\\text{Yes}, & \\text{if $ f(X) \\gt 0.5$} \\\\\n",
    "\\text{No}, & \\text{if $ f(X) \\le 0.5$}\n",
    "\\end{cases}\n",
    "$$ \n",
    "\n"
   ]
  },
  {
   "cell_type": "markdown",
   "metadata": {
    "slideshow": {
     "slide_type": "subslide"
    }
   },
   "source": [
    "We just *learned* the parameters for a statistical model based on labeled data.\n",
    "\n",
    "Can a linear classification improve the classification of the Titanic dataset case?\n",
    "\n",
    "We have to evaluate our 'learned' model independent test set\n",
    "\n",
    "        X_train, X_test, y_train, y_test = train_test_split(X, y, test_size=0.5)"
   ]
  },
  {
   "cell_type": "code",
   "execution_count": null,
   "metadata": {
    "collapsed": true,
    "slideshow": {
     "slide_type": "fragment"
    }
   },
   "outputs": [],
   "source": [
    "from sklearn import linear_model\n",
    "from sklearn.model_selection import train_test_split\n",
    "\n",
    "X = data[['Sex_Code', 'Pclass_Code', 'Fare', 'Age']]\n",
    "y = data['Survived_Code']\n",
    "\n",
    "X_train, X_test, y_train, y_test = train_test_split(X, y, test_size=0.6)\n",
    "\n",
    "reg = linear_model.LinearRegression(normalize=True)\n",
    "reg.fit(X_train, y_train)\n",
    "\n",
    "print('''intercept = {}\n",
    "coefs = {}'''.format(reg.intercept_, reg.coef_))\n",
    "\n",
    "y_prediction = reg.predict(X_test)\n",
    "y_prediction = np.where(y_prediction > 0.5, 1, 0)\n",
    "\n",
    "plots.plot_bars_and_confusion(truth=y_test, prediction=y_prediction)"
   ]
  },
  {
   "cell_type": "markdown",
   "metadata": {},
   "source": [
    "We see that the coefficients for the __Fare__ and __Age__ are very small.\n",
    "\n",
    "* Are these fields necessary?\n",
    "* How do they correlate to the target?\n",
    "* And with other fields?\n",
    "* Can we just ignore them?"
   ]
  },
  {
   "cell_type": "code",
   "execution_count": null,
   "metadata": {
    "collapsed": true
   },
   "outputs": [],
   "source": [
    "fig, ((ax1, ax2), (ax3, ax4)) = plt.subplots(2, 2, figsize=(10., 10.))\n",
    "plots.plot_bins_perc(data, 'Sex_Code', 'Survived_Code', var_type='discrete', ax=ax1)\n",
    "plots.plot_bins_perc(data, 'Pclass_Code', 'Survived_Code', var_type='discrete', ax=ax2)\n",
    "plots.plot_bins_perc(data, 'Fare', 'Survived_Code', var_type='continuous', ax=ax3)\n",
    "plots.plot_bins_perc(data, 'Age', 'Survived_Code', var_type='continuous', ax=ax4)\n",
    "plt.tight_layout()"
   ]
  },
  {
   "cell_type": "markdown",
   "metadata": {},
   "source": [
    "## Regularization \n",
    "\n",
    "Add a penalty on the size of the coefficients. This is done to make the model more robust to colinearity and less prone to overfitting.\n",
    "\n",
    "### Ridge\n",
    "\n",
    "Linear regression with L2 regularization\n",
    "\n",
    "$$\n",
    "L(\\alpha) = ||y - Xw||^2_2 + \\alpha * ||w||^2_2\n",
    "$$\n",
    "\n",
    "where\n",
    "\n",
    "$$\n",
    "||w||_2 = \\sqrt{\\sum_{i=1}^N w_i^2}\n",
    "$$\n",
    "\n",
    "### Lasso\n",
    "\n",
    "Linear regression with L1 regularization\n",
    "\n",
    "$$\n",
    "L(\\alpha) = \\frac{||y - Xw||^2_2}{2*n} + \\alpha * ||w||_1\n",
    "$$\n",
    "\n",
    "where\n",
    "\n",
    "$$||w||_1 = \\sum_{i=1}^N |w_i|$$\n",
    "\n",
    "We will have to decide which value of $\\alpha$ to use. How?"
   ]
  },
  {
   "cell_type": "code",
   "execution_count": null,
   "metadata": {
    "collapsed": true
   },
   "outputs": [],
   "source": [
    "from sklearn import linear_model\n",
    "from sklearn.model_selection import train_test_split\n",
    "\n",
    "X = data[['Sex_Code', 'Pclass_Code', 'Fare', 'Age']]\n",
    "y = data['Survived_Code']\n",
    "\n",
    "X_train, X_test, y_train, y_test = train_test_split(X, y, test_size=0.6)\n",
    "\n",
    "alpha_range = np.power(10., np.arange(-4, 5))\n",
    "\n",
    "lasso_v = []\n",
    "ridge_v = []\n",
    "\n",
    "\n",
    "\n",
    "for alpha in alpha_range:\n",
    "    # Lasso\n",
    "    reg = linear_model.Lasso(alpha=alpha, normalize=True)\n",
    "    reg.fit(X_train, y_train)\n",
    "\n",
    "    y_prediction = reg.predict(X_test)\n",
    "    y_prediction = np.where(y_prediction > 0.5, 1, 0)\n",
    "    \n",
    "    lasso_v.append([(y_prediction == y_test).sum()/len(y_prediction),\n",
    "                    np.linalg.norm(reg.coef_), np.isclose(reg.coef_, 0.).sum()])\n",
    "\n",
    "    # Ridge\n",
    "    reg = linear_model.Ridge(alpha=alpha, normalize=True)\n",
    "    reg.fit(X_train, y_train)\n",
    "\n",
    "    y_prediction = reg.predict(X_test)\n",
    "    y_prediction = np.where(y_prediction > 0.5, 1, 0)\n",
    "    \n",
    "    ridge_v.append([(y_prediction == y_test).sum()/len(y_prediction),\n",
    "                    np.linalg.norm(reg.coef_), np.isclose(reg.coef_, 0.).sum()])\n",
    "\n",
    "lasso_v = np.array(lasso_v)\n",
    "ridge_v = np.array(ridge_v)\n",
    "    \n",
    "# Linear Regression\n",
    "reg = linear_model.LinearRegression(normalize=True)\n",
    "reg.fit(X_train, y_train)\n",
    "y_prediction = reg.predict(X_test)\n",
    "y_prediction = np.where(y_prediction > 0.5, 1, 0)\n",
    "acc = (y_prediction == y_test).sum()/len(y_prediction)\n",
    "w = np.linalg.norm(reg.coef_)\n",
    "\n",
    "fig, (ax1, ax2) = plt.subplots(1, 2, figsize=(20, 8))\n",
    "ax1.plot(alpha_range, lasso_v[:, 0], 'r', label='Lasso')\n",
    "ax1.plot(alpha_range, ridge_v[:, 0], 'g', label='Ridge')\n",
    "ax1.axhline(acc, color='b', label='Linear Regression')\n",
    "ax1.set_xscale('log')\n",
    "ax1.set_title('Accuracy Lasso vs Ridge vs Linear Regression')\n",
    "ax1.set_xlabel(r'$\\alpha$')\n",
    "ax1.set_ylabel('Accuracy')\n",
    "ax1.legend(loc='center right')\n",
    "\n",
    "ax2.plot(alpha_range, lasso_v[:, 1], 'r', label='Lasso')\n",
    "ax2.plot(alpha_range, ridge_v[:, 1], 'g', label='Ridge')\n",
    "ax2.axhline(w, color='b', label='Linear Regression')\n",
    "ax2.set_xscale('log')\n",
    "ax2.set_title('Weights Lasso vs Ridge vs Linear Regression')\n",
    "ax2.set_xlabel(r'$\\alpha$')\n",
    "ax2.set_ylabel('L2 norm of the weights')\n",
    "\n",
    "ax3 = ax2.twinx()\n",
    "ax3.plot(alpha_range, lasso_v[:, 2], 'or', label='Lasso')\n",
    "ax3.plot(alpha_range, ridge_v[:, 2], 'og', label='Ridge')\n",
    "ax3.set_ylabel('Count weights == 0')\n",
    "\n",
    "ax2.legend(loc='center right')"
   ]
  },
  {
   "cell_type": "markdown",
   "metadata": {},
   "source": [
    "## Feature scaling\n",
    "\n",
    "**Definition** Standardize the range of values that the features can take.\n",
    "\n",
    "**Motivation** Having variables with very different value ranges may cause the algorithm to give wrong results. Specially those relying on Euclidian distance (e.g. kNN). Also results can be less explanatory at first sight.\n",
    "\n",
    "**Types**\n",
    "* Standardization\n",
    "$$ \n",
    "x' = \\frac{x - \\bar{x}}{\\sigma}\n",
    "$$\n",
    "\n",
    "* Rescaling\n",
    "$$\n",
    "x' = \\frac{x - min(x)}{max(x) - min(x)}\n",
    "$$"
   ]
  },
  {
   "cell_type": "code",
   "execution_count": null,
   "metadata": {
    "collapsed": true,
    "jupyter": {
     "outputs_hidden": true
    }
   },
   "outputs": [],
   "source": [
    "set_sns()"
   ]
  },
  {
   "cell_type": "markdown",
   "metadata": {
    "slideshow": {
     "slide_type": "slide"
    }
   },
   "source": [
    "\n",
    "## Support Vector Machines (SVMs)\n",
    "\n",
    "The basic assumption underlying the least squares approach is that the model is linear in the observed variables. \n",
    "This works for data which can be separated by a linear function (a hyperplane in the parameter space).\n",
    "\n",
    "But how do we know that this method finds the 'best' hyperplane for separating the two classes?\n",
    "\n",
    "And what if the data cannot be seperated by a plane?\n"
   ]
  },
  {
   "cell_type": "code",
   "execution_count": null,
   "metadata": {
    "collapsed": true,
    "slideshow": {
     "slide_type": "subslide"
    }
   },
   "outputs": [],
   "source": [
    "# many possible lines to separate the data. Which one is 'better'?\n",
    "from sklearn.datasets.samples_generator import make_blobs\n",
    "X, y = make_blobs(n_samples=150, centers=2,\n",
    "                  random_state=3, cluster_std=0.70)\n",
    "\n",
    "plt.scatter(X[:, 0], X[:, 1], c=y, s=50, cmap='winter')\n",
    "\n",
    "xs = np.linspace(-6.5, 3, 2)\n",
    "plt.plot(xs, -2 * xs - 2, color='gray', linestyle='--')\n",
    "plt.plot(xs, -0.4 * xs + 2, color='gray', linestyle='--')\n",
    "plt.xlim([-6, 3])\n",
    "plt.ylim([-2, 6])\n",
    "plt.axis('off')\n",
    "None"
   ]
  },
  {
   "cell_type": "markdown",
   "metadata": {},
   "source": [
    "#### The Support Vector Machine\n",
    "\n",
    "Again we minimze a loss function.\n",
    "\n",
    "$$\n",
    "L(\\beta) = C \\max(0, 1 - y_i \\beta^T x_i) + \\frac{\\lambda}{2}||{\\beta}||^2\n",
    "$$\n",
    "\n",
    "Support Vector Machines try to find the hyperplane which maximimizes the margin to the points in different classes in the parameter space.\n",
    "\n",
    "$C$ and $\\lambda$ are two parameters which can be chosen beforehand. \n",
    "\n",
    "<p style=\"color:gray\"> Note that, to fit the definition above, the label encoding has to be $y_i \\in {-1, 1}$</p>"
   ]
  },
  {
   "cell_type": "code",
   "execution_count": null,
   "metadata": {
    "collapsed": true,
    "slideshow": {
     "slide_type": "subslide"
    }
   },
   "outputs": [],
   "source": [
    "from sklearn.svm import SVC\n",
    "from sklearn.datasets.samples_generator import make_blobs\n",
    "\n",
    "X, y = make_blobs(n_samples=150, centers=2,\n",
    "                  random_state=3, cluster_std=0.70)\n",
    "\n",
    "plt.scatter(X[:, 0], X[:, 1], c=y, s=50, cmap='winter')\n",
    "\n",
    "clf = SVC(kernel='linear')\n",
    "clf.fit(X, y)\n",
    "\n",
    "plots.draw_svm_decission_function(clf, colors='black', label='SVM')\n",
    "\n",
    "reg = linear_model.LinearRegression()\n",
    "reg.fit(X, y)\n",
    "\n",
    "plots.draw_linear_regression_function(reg, label='Linear Regression', color='gray', alpha=0.5)\n",
    "\n",
    "plt.xlim([-6, 3])\n",
    "plt.ylim([-2, 6])\n",
    "plt.legend(loc='lower right', frameon=True, framealpha=0.95, facecolor='white')\n",
    "None"
   ]
  },
  {
   "cell_type": "markdown",
   "metadata": {
    "slideshow": {
     "slide_type": "subslide"
    }
   },
   "source": [
    "So far the data has still been separable by a linear function. \n",
    "\n",
    "For many problems in real life however this isn't the case. \n",
    "\n",
    "Heres an example of (artificial) data which cannot be seperated by a line."
   ]
  },
  {
   "cell_type": "code",
   "execution_count": null,
   "metadata": {
    "collapsed": true,
    "slideshow": {
     "slide_type": "subslide"
    }
   },
   "outputs": [],
   "source": [
    "from sklearn.datasets.samples_generator import make_moons\n",
    "\n",
    "X, y = make_moons(n_samples=200, noise=0.10)\n",
    "plt.scatter(X[:, 0], X[:, 1], c=y, s=50, cmap='winter')\n",
    "\n",
    "clf = SVC(kernel='linear')\n",
    "clf.fit(X, y)\n",
    "plots.draw_svm_decission_function(clf, colors='black')\n"
   ]
  },
  {
   "cell_type": "markdown",
   "metadata": {},
   "source": [
    "Now what if we take that data and transform it into a new variable. \n",
    "\n",
    "Find a function $h$ to create a new variable $X_h = h(X_1, X_2, \\ldots)$.\n",
    "\n",
    "In the case above some radial symmetry seems be an underlying feature of the data. \n",
    "\n",
    "We can exploit that"
   ]
  },
  {
   "cell_type": "code",
   "execution_count": null,
   "metadata": {
    "collapsed": true,
    "slideshow": {
     "slide_type": "subslide"
    }
   },
   "outputs": [],
   "source": [
    "from mpl_toolkits import mplot3d\n",
    "set_mpl()\n",
    "\n",
    "# add a dimension by applying a transformation on the two variables in the data. \n",
    "r = np.exp(-(X[:, 0] ** 2 + X[:, 1] ** 2))\n",
    "\n",
    "fig = plt.figure(figsize=(16, 6))\n",
    "ax = fig.add_subplot(1, 2, 1, projection='3d')\n",
    "\n",
    "ax.scatter3D(X[:, 0], X[:, 1], r, c=y, s=50, cmap='winter')\n",
    "ax.view_init(elev=45, azim=45)\n",
    "ax.set_xlabel('X1')\n",
    "ax.set_ylabel('X2')\n",
    "ax.set_zlabel('r')\n",
    "\n",
    "ax = fig.add_subplot(1, 2, 2, projection='3d')\n",
    "ax.scatter3D(X[:, 0], X[:, 1], r, c=y, s=50, cmap='winter')\n",
    "ax.view_init(elev=5, azim=70)\n",
    "ax.set_xlabel('X1')\n",
    "ax.set_ylabel('X2')\n",
    "ax.set_zlabel('r')\n"
   ]
  },
  {
   "cell_type": "code",
   "execution_count": null,
   "metadata": {
    "collapsed": true,
    "jupyter": {
     "outputs_hidden": true
    },
    "slideshow": {
     "slide_type": "skip"
    }
   },
   "outputs": [],
   "source": [
    "set_sns()"
   ]
  },
  {
   "cell_type": "code",
   "execution_count": null,
   "metadata": {
    "collapsed": true,
    "slideshow": {
     "slide_type": "subslide"
    }
   },
   "outputs": [],
   "source": [
    "X, y = make_moons(n_samples=200, noise=0.10)\n",
    "plt.scatter(X[:, 0], X[:, 1], c=y, s=50, cmap='winter')\n",
    "\n",
    "clf = SVC(kernel='rbf', C=1) #use the radial basis function instead of the linear one.\n",
    "clf.fit(X, y)\n",
    "plots.draw_svm_decission_function(clf, colors='black', label='SVM')"
   ]
  },
  {
   "cell_type": "markdown",
   "metadata": {
    "slideshow": {
     "slide_type": "subslide"
    }
   },
   "source": [
    "The same approach works for other linear methods as well. \n",
    "\n",
    "What makes SVM's so special?:\n",
    "\n",
    "+ SVM's have proven to perform very well for many use-cases.\n",
    "\n",
    "+ SVM's handle large number of dimensions relativly fast.\n",
    "\n",
    "+ The kernel functions basically come for free.\n",
    "\n",
    "+ Easily extendable to multi-class problems.\n",
    "\n",
    "\n",
    "Kernel functions are constrained to fulfill certain criteria. *(See Chapter 12.3.1 in the Hastie Book)*"
   ]
  },
  {
   "cell_type": "markdown",
   "metadata": {
    "slideshow": {
     "slide_type": "slide"
    }
   },
   "source": [
    "## Local Optimization and Decission Trees\n",
    "\n",
    "So far we looked at loss functions which optimized some global optimization criterion.\n",
    "\n",
    "In cases of non-linearity some a priori knowledge is necessary to transform the data to make it seperable by a hyperplane. (or you can use *Deep Learning*)\n",
    "\n",
    "\n",
    "Idea:\n",
    "* Split the parameter space into many subspaces where observations of the same class live.\n",
    "\n",
    "Problem:\n",
    "* Finding the *best* set of subspaces in the parameter space is an NP-complete problem (Its hard to solve. Really hard.)\n",
    "\n",
    "One can however try approximate the solution using binary recursive splits in the parameter space."
   ]
  },
  {
   "cell_type": "code",
   "execution_count": null,
   "metadata": {
    "collapsed": true,
    "jupyter": {
     "outputs_hidden": true
    }
   },
   "outputs": [],
   "source": [
    "from sklearn.tree import DecisionTreeClassifier\n",
    "from sklearn import tree\n",
    "from sklearn.datasets import make_moons\n",
    "np.random.seed(1234)\n",
    "\n",
    "X, y = make_moons(n_samples=1000, noise=0.30)"
   ]
  },
  {
   "cell_type": "code",
   "execution_count": null,
   "metadata": {
    "collapsed": true
   },
   "outputs": [],
   "source": [
    "plt.scatter(X[:, 0], X[:, 1], c=y, s=50, cmap='winter')"
   ]
  },
  {
   "cell_type": "code",
   "execution_count": null,
   "metadata": {
    "collapsed": true
   },
   "outputs": [],
   "source": [
    "clf = DecisionTreeClassifier(max_depth=5, criterion='entropy')\n",
    "clf.fit(X, y)"
   ]
  },
  {
   "cell_type": "code",
   "execution_count": null,
   "metadata": {
    "collapsed": true,
    "slideshow": {
     "slide_type": "subslide"
    }
   },
   "outputs": [],
   "source": [
    "plt.scatter(X[:, 0], X[:, 1], c=y, s=50, cmap='winter')\n",
    "plots.draw_decission_boundaries(clf)"
   ]
  },
  {
   "cell_type": "markdown",
   "metadata": {},
   "source": [
    "Outline for a tree building algorithm.\n",
    "\n",
    "        def build_tree(space)\n",
    "            if stopping_criterion_fulfilled():\n",
    "                return {}\n",
    "             \n",
    "            variable, split_point = find_best_split(space)\n",
    "                        \n",
    "            left, right = split_space(space, variable, split_point)\n",
    "\n",
    "            left_tree = build_tree(left)\n",
    "            right_tree = build_tree(right)\n",
    "               \n",
    "            return {'node' : (variable, split_point), 'left': left_tree, 'right': right_tree}\n",
    "            "
   ]
  },
  {
   "cell_type": "code",
   "execution_count": null,
   "metadata": {
    "collapsed": true
   },
   "outputs": [],
   "source": [
    "tree.plot_tree(clf, max_depth=2, filled=True);"
   ]
  },
  {
   "cell_type": "markdown",
   "metadata": {},
   "source": [
    "For classification the best split in a node $m$ of the tree is found by minimizing an impurity measure $Q_m$.\n",
    "\n",
    "Popular ones include Information Gain, Cross-Entropy or the Gini index. \n",
    "\n",
    "They all work by looking at one variable at a time and then iterating over all the possible splits to find the minimal $Q_m$\n",
    "\n",
    "Implementations across languages/libraries are similar but differ in their choice of $Q_m$ and handling of continous variables."
   ]
  },
  {
   "cell_type": "markdown",
   "metadata": {},
   "source": [
    "### Apply Decision Trees to the Titanic example\n",
    "\n",
    "Use scikit-learn to find the best possible decission tree for the Titanic dataset.\n",
    "\n",
    "We will set different maximum depths.\n",
    "\n",
    "What's happening?"
   ]
  },
  {
   "cell_type": "code",
   "execution_count": null,
   "metadata": {
    "collapsed": true
   },
   "outputs": [],
   "source": [
    "from sklearn.model_selection import ParameterGrid, train_test_split\n",
    "from sklearn.metrics import accuracy_score\n",
    "from sklearn.tree import DecisionTreeClassifier\n",
    "import seaborn as sns\n",
    "import pandas as pd\n",
    "import numpy as np\n",
    "np.random.seed(1235)\n",
    "\n",
    "data = read_titanic()\n",
    "\n",
    "X = data[['Sex_Code', 'Pclass_Code', 'Fare', 'Age']]\n",
    "y = data['Survived']\n",
    "\n",
    "X_train, X_test, y_train, y_test = train_test_split(X, y, test_size=0.5)\n",
    "\n",
    "df = pd.DataFrame()\n",
    "ps = ParameterGrid({'max_depth':range(1, 20), 'criterion':['entropy', 'gini']})\n",
    "for d in ps:\n",
    "    clf = DecisionTreeClassifier(max_depth=d['max_depth'], criterion=d['criterion'])\n",
    "    clf.fit(X_train, y_train)\n",
    "    acc = accuracy_score(y_test, clf.predict(X_test))\n",
    "    df = df.append({'max_depth': d['max_depth'], 'criterion': d['criterion'], 'accuracy': acc}, ignore_index=True)\n",
    "\n",
    "df = df.pivot('max_depth', 'criterion', 'accuracy')\n",
    "sns.heatmap(df, cmap='YlOrRd', annot=True, fmt='.3f')\n",
    "None\n"
   ]
  },
  {
   "cell_type": "markdown",
   "metadata": {},
   "source": [
    "### Overfitting (Bias-Variance Tradeoff)\n",
    "\n",
    "Assume the target $y$ is generated by some function $f(x)$ with added gaussian noise $\\epsilon$\n",
    "\n",
    "$$\n",
    "y = f(x) + \\epsilon, \\qquad \\epsilon \\propto \\mathcal{N}(\\mu=0, \\sigma)\n",
    "$$\n",
    "\n",
    "The mean squared error ($mse$) of the predictor function $\\hat{f}(x) = \\hat{y}$ is\n",
    "\n",
    "$$\n",
    "mse(y, \\hat{f}) = (y - \\hat{f}(x))^2\n",
    "$$\n",
    "\n",
    "Calculate the expectation value $mse$ \n",
    "\n",
    "$$\n",
    "E[mse(y, \\hat{f}) ] = E[(y - \\hat{f}(x))^2]\n",
    "$$"
   ]
  },
  {
   "cell_type": "markdown",
   "metadata": {},
   "source": [
    "Some mathematical definitions up front.\n",
    "\n",
    "__Variance__ of a random variable $X$ \n",
    "  \n",
    "  $$\n",
    "  Var(X) = E[(X - E[X])^2] = E[X^2] - E[X]^2 \\iff     E[X^2] = Var[X] +  E[X]^2 \n",
    "  $$\n",
    "  \n",
    "__Bias__ of an estimator $\\hat{f}$\n",
    "\n",
    "  $$\n",
    "  Bias(\\hat{f}) = E[\\hat{f} - f] = E[\\hat{f}] - E[f] = E[\\hat{f}] - f\n",
    "  $$"
   ]
  },
  {
   "cell_type": "markdown",
   "metadata": {},
   "source": [
    "Since $f$ is a fixed function\n",
    "\n",
    "$$\n",
    "E[f] = f\n",
    "$$\n",
    "\n",
    "Using these definition on $y$ gives\n",
    "\n",
    "\\begin{align}\n",
    "Var[y] = Var[ f(x) + \\epsilon]  & = Var[f(x)] + Var[\\epsilon] \\\\\n",
    "                                & = Var[f(x)] + \\sigma^2 \\\\\n",
    "                                & = E[f(x)^2] - E[f(x)]^2 + \\sigma^2 \\\\\n",
    "                                & = f(x)^2 - f(x)^2 + \\sigma^2 \\\\\n",
    "                                & = \\sigma^2 \n",
    "\\end{align}\n",
    "\n",
    "Finally calculating $E[mse(y, \\hat{f})]$ yields\n",
    "\n",
    "\\begin{align}\n",
    " E[(y - \\hat{f}(x))^2]  & = E[y^2 + \\hat{f}^2 - 2y\\hat{f}] \\\\\n",
    "                        & \\ldots \\\\\n",
    "                        & = \\sigma^2 + Var[\\hat{f}] + Bias[\\hat{f}]^2.\n",
    "\\end{align}"
   ]
  },
  {
   "cell_type": "markdown",
   "metadata": {},
   "source": [
    "This so called Bias-Variance dillemma is a universal problem in supervised machine learning. \n",
    "\n",
    "There are two error sources:\n",
    "\n",
    "* High bias might decrease overall predictor performance.\n",
    "* High variance can make the learned parameters prone to noise in the training data.  \n",
    "\n",
    "If the parameters are tuned to the noise in the training data, the model will not generalize to new data. \n",
    "\n",
    "This problem is called __overfitting__\n",
    "\n",
    "<table>\n",
    "    <tr>\n",
    "        <td><img src='./ml/images/bias_variance_1.jpeg'/></td>\n",
    "        <td><img src='./ml/images/bias_variance_2.png'/></td>\n",
    "    </tr>\n",
    "</table>"
   ]
  },
  {
   "cell_type": "markdown",
   "metadata": {},
   "source": [
    "Lets see a very good example, stolen from: https://gist.github.com/geopapa11\n",
    "\n",
    "Full explanation here: https://towardsdatascience.com/the-bias-variance-tradeoff-8818f41e39e9"
   ]
  },
  {
   "cell_type": "code",
   "execution_count": null,
   "metadata": {},
   "outputs": [],
   "source": [
    "from importlib import reload\n",
    "import ml.bias_variance as bv\n",
    "reload(bv)"
   ]
  },
  {
   "cell_type": "markdown",
   "metadata": {},
   "source": [
    "Assume we have a sample $x$, $y$ with an underlying relation\n",
    "\n",
    "$$f(x) = \\frac{1}{2}x + \\sqrt{\\max{(x, 0)}} - \\cos{x} + 2$$\n",
    "\n",
    "and some noise following a Gaussian distribution\n",
    "\n",
    "$$y = f(x) + \\epsilon$$\n",
    "\n",
    "where $\\epsilon \\sim \\mathcal{N}(0, 1)$\n",
    "\n",
    "Our dataset consists of 1000 points, we will assume this is the whole population."
   ]
  },
  {
   "cell_type": "code",
   "execution_count": null,
   "metadata": {},
   "outputs": [],
   "source": [
    "bv.plot_sample()"
   ]
  },
  {
   "cell_type": "markdown",
   "metadata": {},
   "source": [
    "We want to model this relation with a polynomial function:\n",
    "\n",
    "$$ \\hat{f}(x) = w_{0} + w_1x^1 + w_2x^2 .. w_dx^d $$\n",
    "\n",
    "We will try to fit functions of different degrees, but our training dataset consists of only 20 points. Imagine we do this experiment many times."
   ]
  },
  {
   "cell_type": "code",
   "execution_count": null,
   "metadata": {},
   "outputs": [],
   "source": [
    "bv.plot_experiments()"
   ]
  },
  {
   "cell_type": "markdown",
   "metadata": {},
   "source": [
    "We see that the low degree function $d=1$ is more stable (low variance) but doesn't fit well to the data (high bias).\n",
    "\n",
    "On the other hand, the high degree polynomio $d=5$ fits better to the data (low bias), but it changes a lot when we change the training dataset (high variance).\n",
    "\n",
    "If we do this experiment 1000 times, and we get the prediction on $x_{test} = 3.2$ for each of the models, we will get a notion of the bias and variance introduced."
   ]
  },
  {
   "cell_type": "code",
   "execution_count": null,
   "metadata": {},
   "outputs": [],
   "source": [
    "bv.plot_test_hists(2)"
   ]
  },
  {
   "cell_type": "markdown",
   "metadata": {},
   "source": [
    "We do the same exercise but instead of using one single test point, we use a set of 1000 test points and we compute the squared bias and the variance among all experiment on each test point and we average them."
   ]
  },
  {
   "cell_type": "code",
   "execution_count": null,
   "metadata": {},
   "outputs": [],
   "source": [
    "bv.plot_bias_variance_tradeoff(R=1000, n_test=1000, d_arr=[0, 1, 2, 3, 4])"
   ]
  },
  {
   "cell_type": "markdown",
   "metadata": {},
   "source": [
    "## Ensemble Methods\n",
    "\n",
    "We have used a decission tree to classifiy artificial data as well as the Titanic data. \n",
    "\n",
    "Theoretically a decission tree is not limited in its depth. \n",
    "\n",
    "This quickly leads to overfitted tree models.\n"
   ]
  },
  {
   "cell_type": "code",
   "execution_count": null,
   "metadata": {
    "collapsed": true
   },
   "outputs": [],
   "source": [
    "np.random.seed(1)\n",
    "from sklearn.tree import DecisionTreeClassifier\n",
    "from sklearn.datasets import make_moons\n",
    "\n",
    "X, y = make_moons(n_samples=5000, noise=0.30)\n",
    "clf = DecisionTreeClassifier(max_depth=300, criterion='entropy')\n",
    "clf.fit(X, y)\n",
    "\n",
    "plt.scatter(X[:, 0], X[:, 1], c=y, s=3, cmap='winter')\n",
    "plots.draw_decission_boundaries(clf)"
   ]
  },
  {
   "cell_type": "markdown",
   "metadata": {},
   "source": [
    "As mentioned in the discussion about decission trees earlier, the tree building algorithms try to find the optimal split criterion in some local region of the parameter space.\n",
    "\n",
    "Finding the best overal split in parameter space is computationaly infeasible.\n",
    "\n",
    "This means the decission tree algorithm can run into a local optimum. \n",
    "\n",
    "The idea of _ensemble learning_ is to train several weak (high bias, low variance) base classifiers on different subsets of the data and then combine them into one big classifier."
   ]
  },
  {
   "cell_type": "markdown",
   "metadata": {},
   "source": [
    "#### Bagging\n",
    "\n",
    "A popular way to build ensembles is called *bagging*.\n",
    "\n",
    "Split the training data into $B$ subsets using sampling with replacement (Bootstrapping). For each subset $b$ we train a classifier $\\hat{f}_b$. Bagging then combines the overall prediction by taking the average.  \n",
    "\n",
    "$$\n",
    "\\hat{y} = \\hat{f}_{\\text{bag}}(x) = \\frac{1}{B} \\sum_{b=1}^B \\hat{f}_b (x) \n",
    "$$"
   ]
  },
  {
   "cell_type": "markdown",
   "metadata": {},
   "source": [
    "#### Random Forests\n",
    "\n",
    "Random Forests are a modification to bagging in which a number of *randomized decission trees* are trained. These randomized decission trees use a random subset of variables to find the best split in each node.\n",
    "\n",
    "        def build_random_tree(space)\n",
    "            if stopping_criterion_fulfilled():\n",
    "                return {}\n",
    "            \n",
    "            random_variable_choice = choose_random_selection_of_variables()\n",
    "            variable, split_point = find_best_split(space, random_variable_choice)\n",
    "                        \n",
    "            left, right = split_space(space, variable, split_point)\n",
    "\n",
    "            left_tree = build_tree(left)\n",
    "            right_tree = build_tree(right)\n",
    "               \n",
    "            return {'node' : (variable, split_point), 'left': left_tree, 'right': right_tree}\n",
    "\n",
    "Random Forests are a very popular choice for classification tasks since their parameters can be easily tuned and they often outperform other methods."
   ]
  },
  {
   "cell_type": "code",
   "execution_count": null,
   "metadata": {
    "collapsed": true
   },
   "outputs": [],
   "source": [
    "np.random.seed(2)\n",
    "from sklearn.metrics import roc_curve, roc_auc_score, make_scorer\n",
    "from sklearn.tree import DecisionTreeClassifier\n",
    "from sklearn.ensemble import RandomForestClassifier\n",
    "\n",
    "data = read_titanic()\n",
    "\n",
    "X = data[['Sex_Code', 'Pclass_Code', 'Fare', 'Age']]\n",
    "y = data['Survived_Code']\n",
    "\n",
    "X_train, X_test, y_train, y_test = train_test_split(X, y, test_size=0.5)"
   ]
  },
  {
   "cell_type": "code",
   "execution_count": null,
   "metadata": {
    "collapsed": true
   },
   "outputs": [],
   "source": [
    "rf = RandomForestClassifier(n_estimators=20, max_depth=5)\n",
    "rf.fit(X_train, y_train)\n",
    "\n",
    "plots.plot_bars_and_confusion(truth=y_test, prediction=rf.predict(X_test))"
   ]
  },
  {
   "cell_type": "code",
   "execution_count": null,
   "metadata": {
    "collapsed": true
   },
   "outputs": [],
   "source": [
    "df = pd.DataFrame()\n",
    "ps = ParameterGrid({'max_depth':range(1, 20), 'criterion':['entropy', 'gini']})\n",
    "for d in ps:\n",
    "    rf = RandomForestClassifier(max_depth=d['max_depth'], criterion=d['criterion'])\n",
    "    rf.fit(X_train, y_train)\n",
    "    acc = accuracy_score(y_test, rf.predict(X_test))\n",
    "    df = df.append({'max_depth': d['max_depth'], 'criterion': d['criterion'], 'accuracy': acc}, ignore_index=True)\n",
    "\n",
    "df = df.pivot('max_depth', 'criterion', 'accuracy')\n",
    "sns.heatmap(df, cmap='YlOrRd', annot=True, fmt='.3f')"
   ]
  },
  {
   "cell_type": "markdown",
   "metadata": {},
   "source": [
    "# Machine Learning (Unsupervised)\n",
    "\n",
    "## Mathematical Notation and Problem Description\n",
    "\n",
    "So far we have been occupied with \n",
    "predicting the values of one or more outputs or response variables $Y = (Y_1, \\ldots, Y_m)$ for a given set of input or predictor variables $X = (X_1, \\ldots , X_p)$. \n",
    "\n",
    "We have defined the loss functions $L(y, \\hat y)$ to characterise how well we 'learned' some model $\\hat f(x)$.\n",
    "\n",
    "In unsupervised learning we have no given $Y$.\n",
    "These methods try to find the underlying (joint) probability density $Pr(X)$ so that we might learn some properties about it.\n",
    "\n",
    "One common question is whether $X$ is created by a mixture of two or more underlying random variables.\n",
    "\n",
    "One can visualize this problem by looking at the following plot."
   ]
  },
  {
   "cell_type": "code",
   "execution_count": null,
   "metadata": {
    "collapsed": true
   },
   "outputs": [],
   "source": [
    "import matplotlib\n",
    "cmap = matplotlib.cm.get_cmap('Set1')\n",
    "np.random.seed(1234)\n",
    "from sklearn.datasets import make_blobs\n",
    "\n",
    "k=np.random.randint(1, 4)\n",
    "X, y = make_blobs(n_samples=300, centers=k, center_box=(-2, 2), cluster_std=0.5)\n",
    "\n",
    "plt.scatter(X[:, 0], X[:, 1], c=cmap(y))\n",
    "plt.axis('off')\n",
    "None"
   ]
  },
  {
   "cell_type": "markdown",
   "metadata": {},
   "source": [
    "Can one infer $Pr(X)$ by looking at $X$, i.e. the blue dots?\n",
    "\n",
    "In this case we know that this distribution of blue dots, $X$, was created by joining $k$ two dimensional gaussians with known standard deviation.\n",
    "This is just what \n",
    "\n",
    "    X, y = make_blobs(n_samples=300, centers=k, center_box=(-2, 2), cluster_std=0.5)\n",
    " \n",
    "does.\n",
    "We even know in what region of space we have to look for the centroids of these blobs. "
   ]
  },
  {
   "cell_type": "markdown",
   "metadata": {},
   "source": [
    "## Clustering Algorithms\n",
    "\n",
    "Clustering algorithms try to find modes of $Pr(X)$ based on densities, neighbourhood relations or any other measure of 'similarity'  between points.\n",
    "\n",
    "More generally speaking to quote wikipedia again:\n",
    "\n",
    ">Cluster analysis or clustering is the task of grouping a set of objects in such a way that objects in the same group (called a cluster) are more similar (in some sense or another) to each other than to those in other groups (clusters).\n",
    "\n",
    "\n",
    "### K-Means Algorithm\n",
    "\n",
    "The k-Means algorithm (or Loyds algorithm) tries to find a partition of the data into $k$ clusters $S = \\{S_1, \\ldots, S_k\\}$  which minimize the variance within those clusters. The number of clusters $k$ has to specified by the user.\n",
    "\n",
    "Formally speaking the algorithm solves\n",
    "$$\n",
    "{\\underset {S}{\\operatorname {arg\\,min} }}\\sum _{S_i \\in S}\\sum _{x \\in S_{i}}\\left\\|x -{\\overline{x}}_{S_i}\\right\\|^{2}.\n",
    "$$\n",
    "\n",
    "It does so iterativly according to the following steps \n",
    "\n",
    "1. Pick some initial cluster means (or centroids) $\\{m_1, \\ldots, m_k \\}$ either randomly or according to some heuristic.\n",
    "\n",
    "2. Create a partition $S$  by assigning each point $x \\in X$ to the cluster $S_i$ where the distance to $m_i$ is the smallest.\n",
    "\n",
    "3. Update the cluster means by calculating the means within the assigned clusters. \n",
    "\n",
    "4. Repeat steps 2 and 3 until convergence.\n"
   ]
  },
  {
   "cell_type": "code",
   "execution_count": null,
   "metadata": {
    "collapsed": true
   },
   "outputs": [],
   "source": [
    "np.random.seed(1234)\n",
    "from sklearn.cluster import KMeans\n",
    "\n",
    "X, y = make_blobs(n_samples=300, centers=k, center_box=(-2, 2), cluster_std=0.5)\n",
    "\n",
    "prediction = KMeans(n_clusters=3).fit_predict(X)\n",
    "\n",
    "# shift the colors\n",
    "prediction = (prediction + 2 ) % 3\n",
    "\n",
    "plt.scatter(X[:, 0], X[:, 1], facecolor='', edgecolors=cmap(prediction), lw=2,  s=380, label='prediction')\n",
    "plt.scatter(X[:, 0], X[:, 1], c=cmap(y), label='truth')\n",
    "plt.legend(loc='upper left')\n",
    "plt.axis('off')\n",
    "None"
   ]
  },
  {
   "cell_type": "markdown",
   "metadata": {},
   "source": [
    "The k-Means algorithm works well on convex clusters with similar standard deviations. But it fails on elongated or concave shapes.\n"
   ]
  },
  {
   "cell_type": "code",
   "execution_count": null,
   "metadata": {
    "collapsed": true
   },
   "outputs": [],
   "source": [
    "np.random.seed(170)\n",
    "X, y = make_blobs(n_samples=300, centers=3,)\n",
    "transformation = [[0.4, -0.8], [-0.4, 0.4]]\n",
    "X_elongated = np.dot(X, transformation)\n",
    "prediction = KMeans(n_clusters=3,).fit_predict(X_elongated)\n",
    "\n",
    "\n",
    "plt.scatter(X_elongated[:, 0], X_elongated[:, 1], c=cmap(prediction))\n",
    "plt.axis('off')\n",
    "None"
   ]
  },
  {
   "cell_type": "markdown",
   "metadata": {},
   "source": [
    "### Gaussian Mixture Models\n",
    "\n",
    "The k-Means algorithm is a special case of the __expectation-maximization__ for solving __Gaussian mixture models__.\n",
    "\n",
    "Gaussian mixtures assume that $Pr(X)$ is a mixture of gaussians. Explicetly it assumes \n",
    "\n",
    "$$\n",
    "X = (1 - U) \\cdot X_1 + U \\cdot X_2 \n",
    "$$\n",
    "\n",
    "where $U \\in \\{0, 1\\}$ with a fixed (unkown) probability for either 1 or 0 and $X_1$ and $X_2$ both normally distributed with unkown parameters. \n",
    "\n",
    "The EM-Algorithm tries to find these unkown parameters by approximating a lieklihood and minimizing it.\n",
    "\n",
    "For more details see chapter 8.5 in the book and here\n",
    "\n",
    "https://en.wikipedia.org/wiki/Expectation–maximization_algorithm\n"
   ]
  },
  {
   "cell_type": "code",
   "execution_count": null,
   "metadata": {
    "collapsed": true
   },
   "outputs": [],
   "source": [
    "from sklearn.mixture import GaussianMixture\n",
    "gm = GaussianMixture(n_components=3).fit(X_elongated)\n",
    "prediction = gm.predict(X_elongated)\n",
    "plt.scatter(X_elongated[:, 0], X_elongated[:, 1], c=cmap(prediction))\n",
    "plt.axis('off')\n",
    "None"
   ]
  },
  {
   "cell_type": "markdown",
   "metadata": {},
   "source": [
    "# Other stuff\n",
    "\n",
    "If you reached this point and you are still alive (and awake) I'd like to congratulate you."
   ]
  },
  {
   "cell_type": "markdown",
   "metadata": {
    "slideshow": {
     "slide_type": "subslide"
    }
   },
   "source": [
    "## k - Nearest Neighbour Methods\n",
    "\n",
    "The k-NN classifier is  a good example of a model that can be easily overfitted. \n",
    "\n",
    "Lets assume that the decission function is constant over some local region in the parameter space:\n",
    "\n",
    "$$\n",
    "\\hat{f}(x_0) = \\hat{y} = \\frac{1}{k} \\sum_{x_i \\in N_k(x_o)} y_i\n",
    "$$\n",
    "\n",
    "where $x_i \\in N_k(x)$ describes the $k$ points in the training data $\\mathbf{X}$ that are in the *neighbourhood* of $x_0$.\n",
    "\n",
    "To put it in words. We assume $x$ will have the same $y$ as other points nearby."
   ]
  },
  {
   "cell_type": "code",
   "execution_count": null,
   "metadata": {
    "collapsed": true,
    "slideshow": {
     "slide_type": "subslide"
    }
   },
   "outputs": [],
   "source": [
    "from sklearn.datasets.samples_generator import make_moons\n",
    "from sklearn.neighbors import KNeighborsClassifier\n",
    "\n",
    "X, y = make_moons(n_samples=200, noise=0.05)\n",
    "\n",
    "\n",
    "knn = KNeighborsClassifier(n_neighbors=25)\n",
    "knn.fit(X, y)\n",
    "plt.scatter(X[:, 0], X[:, 1], c=y, s=50, cmap='winter')\n",
    "plots.draw_decission_boundaries(knn)"
   ]
  },
  {
   "cell_type": "markdown",
   "metadata": {},
   "source": [
    "This works pretty well in this artifical, low-noise, example. \n",
    "\n",
    "Classification on noisy data will not work as good.\n",
    "\n",
    "Real world data always has some form of noise."
   ]
  },
  {
   "cell_type": "code",
   "execution_count": null,
   "metadata": {
    "collapsed": true
   },
   "outputs": [],
   "source": [
    "np.random.seed(1234)\n",
    "from sklearn.metrics import accuracy_score\n",
    "from sklearn.neighbors import KNeighborsClassifier\n",
    "\n",
    "X, y = make_moons(n_samples=100, noise=0.2)\n",
    "\n",
    "knn = KNeighborsClassifier(n_neighbors=40)\n",
    "knn.fit(X, y)\n",
    "\n",
    "fig, (ax1, ax2) = plt.subplots(1, 2, figsize=(12, 4))\n",
    "ax1.scatter(X[:, 0], X[:, 1], c=y, s=50, cmap='winter')\n",
    "plots.draw_decission_boundaries(knn, ax=ax1)\n",
    "ax1.set_title('Accuracy for k=40 : {}'.format(accuracy_score(y, knn.predict(X))))\n",
    "ax1.axis('off')\n",
    "\n",
    "knn = KNeighborsClassifier(n_neighbors=1)\n",
    "knn.fit(X, y)\n",
    "\n",
    "ax2.scatter(X[:, 0], X[:, 1], c=y, s=50, cmap='winter')\n",
    "plots.draw_decission_boundaries(knn, ax=ax2)\n",
    "ax2.set_title('Accuracy for k=1 : {}'.format(accuracy_score(y, knn.predict(X))))\n",
    "ax2.axis('off')\n",
    "None"
   ]
  },
  {
   "cell_type": "code",
   "execution_count": null,
   "metadata": {
    "collapsed": true
   },
   "outputs": [],
   "source": [
    "np.random.seed(1234)\n",
    "\n",
    "X, y = make_moons(n_samples=200, noise=0.7)\n",
    "X_test, y_test = make_moons(n_samples=50, noise=0.7)\n",
    "\n",
    "\n",
    "knn = KNeighborsClassifier(n_neighbors=1)\n",
    "knn.fit(X, y)\n",
    "\n",
    "fig, (ax1, ax2) = plt.subplots(1, 2, figsize=(14, 6))\n",
    "ax1.scatter(X[:, 0], X[:, 1], c=y, s=30, cmap='winter')\n",
    "plots.draw_decission_boundaries(knn, ax=ax1)\n",
    "ax1.set_title('Accuracy on Training Data for k=40 : {}'.format(accuracy_score(y, knn.predict(X))))\n",
    "ax1.axis('off')\n",
    "\n",
    "ax2.scatter(X_test[:, 0], X_test[:, 1], c=y_test, s=30, cmap='winter')\n",
    "ax2.scatter(X[:, 0], X[:, 1], c=y, s=15, alpha=0.1,  cmap='winter')\n",
    "plots.draw_decission_boundaries(knn, ax=ax2)\n",
    "ax2.set_title('Accuracy on Test Sample for k=1 : {}'.format(accuracy_score(y_test, knn.predict(X_test))))\n",
    "ax2.axis('off')\n",
    "None"
   ]
  },
  {
   "cell_type": "code",
   "execution_count": null,
   "metadata": {
    "collapsed": true,
    "jupyter": {
     "outputs_hidden": true
    }
   },
   "outputs": [],
   "source": [
    "from sklearn.metrics import mean_squared_error\n",
    "\n",
    "np.random.seed(1234)\n",
    "X, y = make_moons(n_samples=400, noise=0.2)\n",
    "X_test, y_test = make_moons(n_samples=400, noise=0.2)\n",
    "\n",
    "e_train = []\n",
    "e_test = []\n",
    "for k in range(1, 200):\n",
    "    knn = KNeighborsClassifier(n_neighbors=k)\n",
    "    knn.fit(X, y)\n",
    "    e_train.append(mean_squared_error(y, knn.predict(X)))\n",
    "    e_test.append(mean_squared_error(y_test, knn.predict(X_test)))"
   ]
  },
  {
   "cell_type": "code",
   "execution_count": null,
   "metadata": {
    "collapsed": true
   },
   "outputs": [],
   "source": [
    "plt.plot(range(1, 200), e_train,'.', color='#FF6B6B', ms=10, label='Training Sample')\n",
    "plt.plot(range(1, 200), e_test, '.' ,color='#FFAE6B', ms=10, label='Test Sample', )\n",
    "plt.xlim(200, 0)\n",
    "plt.xlabel('k')\n",
    "plt.ylabel('Prediction Error')\n",
    "\n",
    "plt.text(150, 0.026, 'Increasing Model Complexity')\n",
    "plt.arrow(150, 0.018, -50, 0, width = 0.0005, head_width=0.003, head_length=3, fc='k', ec='k')\n",
    "plt.legend()"
   ]
  },
  {
   "cell_type": "markdown",
   "metadata": {},
   "source": [
    "### Validation on independent test sets\n",
    "\n",
    "Validating the fitted models is essential for avoiding overfitting.\n",
    "\n",
    "The predictions error has to be assesed on an independent test dataset. \n",
    "\n",
    "Models might still be susceptible to noise in the training data.\n",
    "\n",
    "#### Cross Validation\n",
    "\n",
    "A $k$-fold cross validation automatically splits the training data into $k$ subsets.\n",
    "\n",
    "The model is then trained on $k-1$ subsets and evaluated on the remaining set. "
   ]
  },
  {
   "cell_type": "code",
   "execution_count": null,
   "metadata": {
    "collapsed": true,
    "slideshow": {
     "slide_type": "-"
    }
   },
   "outputs": [],
   "source": [
    "%%HTML\n",
    "    <style>\n",
    "    .training_set { fill: #FF6B6B;}\n",
    "    .test_set { fill: #FFAE6B; }\n",
    "    </style>\n",
    "<h4> 5-Fold Cross Validation </h4>\n",
    "<p> First Iteration: </p>\n",
    "<p> </p>\n",
    "<svg width=\"800\" height=\"140\">\n",
    "<g transform=\"scale(0.9)\">\n",
    "  <rect x=\"0\", y=\"0\", width=\"150\" height=\"80\" class=\"training_set\" />\n",
    "  <rect x=\"160\", y=\"0\", width=\"150\" height=\"80\" class=\"training_set\" />\n",
    "  <rect x=\"320\", y=\"0\", width=\"150\" height=\"80\" class=\"training_set\" />\n",
    "  <rect x=\"480\", y=\"0\", width=\"150\" height=\"80\" class=\"training_set\" />\n",
    "  <rect x=\"640\", y=\"0\", width=\"150\" height=\"80\" class=\"test_set\" />\n",
    "    \n",
    "  <rect x=\"0\", y=\"90\", width=\"630\" height=\"3\" class=\"training_set\" />\n",
    "  <rect x=\"640\", y=\"90\", width=\"150\" height=\"3\" class=\"test_set\" />\n",
    "    \n",
    "  <text x=\"0\" y=\"115\" class=\"training_set\">\n",
    "    Training Data\n",
    "  </text>\n",
    "  <text x=\"640\" y=\"115\" class=\"test_set\">\n",
    "    Test Data\n",
    "  </text>\n",
    "</g>\n",
    "</svg>\n",
    "\n",
    "<p> Second Iteration: </p>\n",
    "<p> </p>\n",
    "<svg width=\"800\" height=\"140\">\n",
    "<g transform=\"scale(0.9)\">\n",
    "  <rect x=\"0\", y=\"0\", width=\"150\" height=\"80\" class=\"training_set\" />\n",
    "  <rect x=\"160\", y=\"0\", width=\"150\" height=\"80\" class=\"training_set\" />\n",
    "  <rect x=\"320\", y=\"0\", width=\"150\" height=\"80\" class=\"training_set\" />\n",
    "  <rect x=\"480\", y=\"0\", width=\"150\" height=\"80\" class=\"test_set\" />\n",
    "  <rect x=\"640\", y=\"0\", width=\"150\" height=\"80\" class=\"training_set\" />\n",
    "    \n",
    "  <rect x=\"0\", y=\"90\", width=\"470\" height=\"3\" class=\"training_set\" />\n",
    "  <rect x=\"480\", y=\"90\", width=\"150\" height=\"3\" class=\"test_set\" />\n",
    "  <rect x=\"640\", y=\"90\", width=\"150\" height=\"3\" class=\"training_set\" />\n",
    "    \n",
    "  <text x=\"0\" y=\"115\" class=\"training_set\">\n",
    "    Training Data\n",
    "  </text>\n",
    "  <text x=\"480\" y=\"115\" class=\"test_set\">\n",
    "    Test Data\n",
    "  </text>\n",
    "</g>\n",
    "</svg>\n",
    "\n",
    "<p> Third Iteration: </p>\n",
    "<p> </p>\n",
    "<svg width=\"800\" height=\"140\">\n",
    "<g transform=\"scale(0.9)\">\n",
    "  <rect x=\"0\", y=\"0\", width=\"150\" height=\"80\" class=\"training_set\" />\n",
    "  <rect x=\"160\", y=\"0\", width=\"150\" height=\"80\" class=\"training_set\" />\n",
    "  <rect x=\"320\", y=\"0\", width=\"150\" height=\"80\" class=\"test_set\" />\n",
    "  <rect x=\"480\", y=\"0\", width=\"150\" height=\"80\" class=\"training_set\" />\n",
    "  <rect x=\"640\", y=\"0\", width=\"150\" height=\"80\" class=\"training_set\" />\n",
    "    \n",
    "  <rect x=\"0\", y=\"90\", width=\"310\" height=\"3\" class=\"training_set\" />\n",
    "  <rect x=\"320\", y=\"90\", width=\"150\" height=\"3\" class=\"test_set\" />\n",
    "  <rect x=\"480\", y=\"90\", width=\"310\" height=\"3\" class=\"training_set\" />\n",
    "    \n",
    "  <text x=\"0\" y=\"115\" class=\"training_set\">\n",
    "    Training Data\n",
    "  </text>\n",
    "  <text x=\"320\" y=\"115\" class=\"test_set\">\n",
    "    Test Data\n",
    "  </text>\n",
    "</g>\n",
    "</svg>\n",
    "<p>...</p>\n",
    "<p>...</p>"
   ]
  },
  {
   "cell_type": "code",
   "execution_count": null,
   "metadata": {
    "collapsed": true
   },
   "outputs": [],
   "source": [
    "np.random.seed(2)\n",
    "from sklearn.metrics import roc_curve, roc_auc_score, make_scorer\n",
    "from sklearn.model_selection import cross_validate\n",
    "from sklearn.tree import DecisionTreeClassifier\n",
    "from sklearn.ensemble import RandomForestClassifier\n",
    "\n",
    "data = read_titanic()\n",
    "\n",
    "X = data[['Sex_Code', 'Pclass_Code', 'Fare', 'Age']]\n",
    "y = data['Survived_Code']\n",
    "\n",
    "df = pd.DataFrame()\n",
    "max_depths = range(1, 20)\n",
    "split_criterion = 'gini' # or 'entropy'\n",
    "\n",
    "for d in max_depths:\n",
    "    \n",
    "    tree = DecisionTreeClassifier(max_depth=d, criterion=split_criterion)\n",
    "    score = cross_validate(tree, X, y, cv=5)\n",
    "    df = df.append({'max_depth': d, 'model': 'Decision Tree', 'accuracy': score['test_score'].mean()},\n",
    "                   ignore_index=True)\n",
    "    \n",
    "    rf = RandomForestClassifier(max_depth=d, criterion=split_criterion)\n",
    "    score = cross_validate(rf, X, y, cv=5)\n",
    "    df = df.append({'max_depth': d, 'model': 'Random Forest', 'accuracy': score['test_score'].mean()},\n",
    "                   ignore_index=True)\n",
    "\n",
    "df = df.pivot('max_depth', 'model', 'accuracy')\n",
    "sns.heatmap(df, cmap='YlOrRd', annot=True, fmt='.3f')"
   ]
  },
  {
   "cell_type": "markdown",
   "metadata": {},
   "source": [
    "## Decission Thresholds and Classifier Validation\n",
    "\n",
    "Classifier objects usually provide all of the following methods\n",
    "\n",
    "* `classifier.fit(X)` takes training data and finds some parameters based on that data.\n",
    "* `classifier.predict(X_new)` takes new data (one row or many) and predicts the target label for each row.\n",
    "* `classifier.predict_proba(X_new)` takes new data (one row or many) and predicts 'some notion of confidence'.\n",
    "\n",
    "In the case of binary classification (i.e. two classes) the `classifier.predict_proba` usually returns a number where higher numbers indicate some measure of 'confidence'.\n",
    "\n",
    "The `classifier.predict(X_new)` is basically a a wrapper around the `predict_proba` function which simply applies a decission threshold at some value (usually 0.5).\n",
    "This is exactly what we did in the case of linear least squares regression.\n",
    "\n",
    "\n",
    "$$\n",
    "\\hat{Y} = \\begin{cases}\n",
    "\\text{Yes}, & \\text{if $ f(X) \\gt 0.5$} \\\\\n",
    "\\text{No}, & \\text{if $ f(X) \\le 0.5$}\n",
    "\\end{cases}\n",
    "$$\n",
    "\n",
    "In this case the decission threshold corresponds to the distance of a point to the seperating hyperplane.\n"
   ]
  },
  {
   "cell_type": "code",
   "execution_count": null,
   "metadata": {
    "collapsed": true
   },
   "outputs": [],
   "source": [
    "import matplotlib.pyplot as plt\n",
    "import numpy as np\n",
    "from sklearn import linear_model\n",
    "np.random.seed(1234)\n",
    "# create two gaussians\n",
    "A = np.random.multivariate_normal(mean=[1, 1], cov=[[2, 1], [1, 2]], size=200)\n",
    "B = np.random.multivariate_normal(mean=[-2, -2], cov=[[2, 0], [0, 2]], size=200)\n",
    "\n",
    "# get them into proper matrix form\n",
    "X = np.vstack([A, B])\n",
    "Y = np.hstack([np.zeros(len(A)), np.ones(len(B))])\n",
    "\n",
    "# train the linear regressor and save the coefficents\n",
    "reg = linear_model.LinearRegression()\n",
    "reg.fit(X, Y)\n",
    "b_1, b_2 = reg.coef_\n",
    "b_0 = reg.intercept_\n",
    "\n",
    "# solve the function y = b_0 + b_1*X_1 + b_2 * X_2 for X2\n",
    "x1s = np.linspace(-8, 8)\n",
    "x2s = (0.5 - b_0 - b_1 * x1s) / b_2\n",
    "\n",
    "\n",
    "plt.scatter(A[:, 0], A[:, 1], s=25, color='dodgerblue', label='True class A')\n",
    "plt.scatter(B[:, 0], B[:, 1], s=25, color='limegreen', label='True class B')\n",
    "\n",
    "plt.plot(x1s, x2s, color='gray', linestyle='--')\n",
    "\n",
    "plt.fill_between(x1s, x2s, 10, color='dodgerblue', alpha=0.07)\n",
    "plt.fill_between(x1s, x2s, -10, color='limegreen', alpha=0.07)\n",
    "plt.grid()\n",
    "plt.xlabel('X1')\n",
    "plt.ylabel('X2')\n",
    "plt.margins(x=0, y=0)\n",
    "plt.xlim([-8, 8])\n",
    "plt.ylim([-8, 8])\n",
    "plt.legend()\n",
    "None\n"
   ]
  },
  {
   "cell_type": "markdown",
   "metadata": {},
   "source": [
    "But what does this say about the actual probability of a new data point being of either class?\n",
    "\n",
    "In the case above, data created by two gaussian distributions, the distance certainly maps to the underlying probability density in *some* way. But it is in no way an actual *significance* or *confidence*\n",
    "\n",
    "The function `predict_proba` is a slight misnomer. While some classifiers return numbers between 0 and 1, by no means do all classifier return the desired probability estimate.\n",
    "\n",
    "Still the number can be interpreted as some level of 'certainty' in many cases.\n",
    "\n",
    "Varying the decission threshold is extremely usefull for modifying your classifier output to create more/less 'conservative' predictions.\n",
    "\n",
    "\n",
    "In essence this is a new classifier/predictor with a free parameter. The old $\\hat{y} = \\hat{f}(x)$ now becomes\n",
    "\n",
    "$$\n",
    "\\hat{y} = \\hat{f}(x, \\alpha)\n",
    "$$\n",
    "\n",
    "where $\\alpha$ is a parameter which can be chosen freely (or optimized according to some criterion which has nothing to do with the underlying loss function of the predictor.)"
   ]
  },
  {
   "cell_type": "code",
   "execution_count": null,
   "metadata": {
    "collapsed": true
   },
   "outputs": [],
   "source": [
    "from sklearn.svm import SVC\n",
    "from sklearn.datasets import make_moons\n",
    "\n",
    "X, y = make_moons(n_samples=1500, noise=0.6)\n",
    "plt.scatter(X[:, 0], X[:, 1], c=y, s=10, cmap='winter_r')\n",
    "\n",
    "X_train, X_test, y_train, y_test = train_test_split(X, y)\n",
    "\n",
    "clf = SVC(probability=True)\n",
    "clf.fit(X_train, y_train)\n",
    "predictions = clf.predict_proba(X_test)[:,1]\n",
    "\n",
    "plots.draw_decission_surface(clf, predictions, label=r'$ \\alpha $')\n",
    "\n",
    "None"
   ]
  },
  {
   "cell_type": "markdown",
   "metadata": {},
   "source": [
    "#### Classifier Calibration\n",
    "\n",
    "There are ways to transform the output of a classifiers into more reasonable probability estimates. \n",
    "\n",
    "This process is often called classifier calibration. There is a detailed guide in sklearn's documentation\n",
    "\n",
    "http://scikit-learn.org/stable/modules/calibration.html\n",
    "\n"
   ]
  },
  {
   "cell_type": "markdown",
   "metadata": {},
   "source": [
    "#### Receiver Operating Characteristic \n",
    "\n",
    "The decission threshold is incredibly helpful in validating classifier performance.\n",
    "\n",
    "The plot of false positive rate vs. true positive rate while varying the decission threshold is called the Receiver Operating Characteristic curve (ROC curve).\n",
    "\n",
    "It is a very popular tool for classifier performance evaluation.\n",
    "\n",
    "Wikipedia Quote:\n",
    "\n",
    "> Following the attack on Pearl Harbor in 1941, the United States army began new research to increase the prediction of correctly detected Japanese aircraft from their radar signals. For this purposes they measured the ability of radar receiver operators to make these important distinctions, which was called the Receiver Operating Characteristics.\n",
    "\n",
    "\n",
    "A classifier which assigns random labels to the data will have a ROC curve which lies on the diagonal. With an area under curve (AUC) of 0.5.\n",
    "\n",
    "\n",
    "__Problems__\n",
    "\n",
    "There are circumstance in which the ROC is not a good measure of quality. \n",
    "\n",
    "See https://en.wikipedia.org/wiki/Receiver_operating_characteristic#Area_under_the_curve for a discussion.\n",
    "\n",
    "Also in the case of imbalanced classes (eg. imagine you had 10000 surviors but 10 deceased passengers) the ROC curve itself won't change. The intepretation of the ROC curve however changes drastically.\n",
    "\n",
    "In that case its better to plot the precission vs recall curve and the corresponding area under curve.\n",
    "\n",
    "See https://classeval.wordpress.com for some very good discussions on classifier evaluation."
   ]
  },
  {
   "cell_type": "code",
   "execution_count": null,
   "metadata": {
    "collapsed": true
   },
   "outputs": [],
   "source": [
    "from sklearn.datasets import make_classification\n",
    "from sklearn.metrics import roc_curve\n",
    "\n",
    "X, y = make_classification(n_samples=1000)\n",
    "\n",
    "prediction = np.random.uniform(size=len(y))\n",
    "\n",
    "fpr, tpr, _ = roc_curve(y, prediction)\n",
    "plt.figure(figsize=(10, 10))\n",
    "plt.plot(fpr, tpr, '.')\n",
    "plt.xlim([0, 1])\n",
    "plt.ylim([0, 1])\n",
    "plt.xlabel('False Positive Rate')\n",
    "plt.ylabel('True Positive Rate')"
   ]
  },
  {
   "cell_type": "markdown",
   "metadata": {},
   "source": [
    "## Regression\n",
    "\n",
    "Regression and classification are very similar in nature. The biggest difference being that the target variable $y$ is continous and has a natural ordering associated with it. \n",
    "\n",
    "The same basic rules for classification apply for regression as well. \n",
    "\n",
    "* Models need to be verified on independent test data\n",
    "* There is a tradeoff between bias and variance. Overfitting can occur.\n",
    "* There are many quality measures to pick from. \n",
    "\n",
    "\n",
    "Lets try and use regression to predict housing prices."
   ]
  },
  {
   "cell_type": "code",
   "execution_count": null,
   "metadata": {
    "collapsed": true
   },
   "outputs": [],
   "source": [
    "from sklearn.datasets import load_boston\n",
    "from IPython.display import Markdown, display\n",
    "houses = load_boston()\n",
    "\n",
    "display(Markdown(houses.DESCR))"
   ]
  },
  {
   "cell_type": "code",
   "execution_count": null,
   "metadata": {
    "collapsed": true
   },
   "outputs": [],
   "source": [
    "names = list(houses['feature_names']) +  ['price']\n",
    "data = pd.DataFrame(data=np.c_[houses['data'], houses['target']], columns=names)\n",
    "data"
   ]
  },
  {
   "cell_type": "markdown",
   "metadata": {},
   "source": [
    "Our regression task is to predict the price of a house from the 13 given variables. From a plot of some of the variables we can see some weak correlations in some variables.\n",
    "\n",
    "None of these variables alone would suffice to build a good predictor. Hence we try to use multivariate regression methods."
   ]
  },
  {
   "cell_type": "code",
   "execution_count": null,
   "metadata": {
    "collapsed": true
   },
   "outputs": [],
   "source": [
    "sns.pairplot(data[['INDUS', 'RM', 'NOX', 'AGE', 'price']])"
   ]
  },
  {
   "cell_type": "code",
   "execution_count": null,
   "metadata": {
    "collapsed": true
   },
   "outputs": [],
   "source": [
    "from sklearn.linear_model import LinearRegression\n",
    "from sklearn.svm import SVR\n",
    "from sklearn.tree import DecisionTreeRegressor\n",
    "from sklearn.ensemble import RandomForestRegressor\n",
    "from sklearn.datasets import load_boston\n",
    "from sklearn.model_selection import cross_validate\n",
    "\n",
    "X, y = load_boston(return_X_y=True)\n",
    "\n",
    "reg = LinearRegression()\n",
    "score = cross_validate(reg, X, y, cv=5, scoring='neg_mean_absolute_error')\n",
    "print('Score linear regression {:0.3f} +/- {:0.3f}'.format(score['test_score'].mean(), score['test_score'].std()))\n",
    "\n",
    "reg = SVR(kernel='rbf')\n",
    "score = cross_validate(reg, X, y, cv=5, scoring='neg_mean_absolute_error')\n",
    "print('Score SVR {:0.3f} +/- {:0.3f}'.format(score['test_score'].mean(), score['test_score'].std()))\n",
    "\n",
    "reg = DecisionTreeRegressor()\n",
    "score = cross_validate(reg, X, y, cv=5, scoring='neg_mean_absolute_error')\n",
    "print('Score Tree {:0.3f} +/- {:0.3f}'.format(score['test_score'].mean(), score['test_score'].std()))\n",
    "\n",
    "reg = RandomForestRegressor()\n",
    "score = cross_validate(reg, X, y, cv=5, scoring='neg_mean_absolute_error')\n",
    "print('Score RandomForestRegressor {:0.3f} +/- {:0.3f}'.format(score['test_score'].mean(), score['test_score'].std()))"
   ]
  },
  {
   "cell_type": "code",
   "execution_count": null,
   "metadata": {
    "collapsed": true
   },
   "outputs": [],
   "source": [
    "reg = RandomForestRegressor()\n",
    "X_train, X_test, y_train, y_test = train_test_split(X, y, test_size=0.5)\n",
    "reg.fit(X_train, y_train)\n",
    "prediction = reg.predict(X_test)\n",
    "\n",
    "bin_edges = np.linspace(0, 60, 30)\n",
    "plt.hist2d(prediction, y_test, bins=bin_edges, cmap='viridis',)\n",
    "plt.colorbar()\n",
    "plt.grid()\n",
    "plt.plot([0, 60], [0, 60], color='gray')\n",
    "None"
   ]
  },
  {
   "cell_type": "markdown",
   "metadata": {},
   "source": [
    "The output of the predictor shows stronger correlation than any of the other variables. It is still noisy and shows some smearing and outliers. The output of a regressor should never be understood as 'true' but rather as a new correlated variable which can show noise and bias. "
   ]
  },
  {
   "cell_type": "markdown",
   "metadata": {},
   "source": [
    "There is a fundemental difference between *curve fitting* and regression.\n",
    "\n",
    "* __Curve Fitting__ All data is available. Some known (or presumed) analytical function is fit to the data to estimate free parameters of that function.\n",
    "\n",
    "\n",
    "* __Regression__ Training data is available. A model is fitted on training data to predict the dependent variable on some new, unknown, data.\n",
    "\n",
    "There is a lot more to learn about linar models and regression. Check sklearn's user guide on linear models for more information \n",
    "http://scikit-learn.org/stable/modules/linear_model.html\n",
    "\n",
    "A very popular regression metric is the $R^2$ score. Read about it here\n",
    "\n",
    "https://en.wikipedia.org/wiki/Coefficient_of_determination\n",
    "\n",
    "and here\n",
    "\n",
    "http://scikit-learn.org/stable/modules/generated/sklearn.metrics.r2_score.html ."
   ]
  },
  {
   "cell_type": "markdown",
   "metadata": {},
   "source": [
    "## Dimensionality reduction\n",
    "\n",
    "In some cases we may have datasets with hundreds to thousands of features. Having our data in such a high dimensional space may cause overfitting or convergence issues.\n",
    "\n",
    "__Dimensionality reduction__ intends to address this problem by reducing the number of features while minimizing the loss of information.\n"
   ]
  },
  {
   "cell_type": "markdown",
   "metadata": {},
   "source": [
    "### Principal Component Analysis (PCA)\n",
    "\n",
    "PCA is mathematically defined as an orthogonal linear transformation that transforms the data in a p-dimensional space to a new coordinate system such that the greatest variance by some projection of the data comes to lie on the first coordinate (called the first principal component), the second greatest variance on the second coordinate, and so on.\n",
    "\n",
    "The full principal components decomposition of X (with shape n x p) can therefore be given as\n",
    "$$\n",
    "\\mathbf {T} =\\mathbf {X} \\mathbf {W} \n",
    "$$\n",
    "\n",
    "where $\\mathbf{W}$ is a p-by-p matrix of weights whose columns are the eigenvectors of $\\mathbf{X}^{T}\\mathbf{X}$ which is proportional to $ \\mathbf{Q} $, the sample covariance matrix.\n",
    "\n",
    "In order to reduce dimensionality, we will keep only a number $L$ of principal components, and discard the rest. Then the transformation will be written as follows:\n",
    "$$\n",
    "\\mathbf {T}_{L} =\\mathbf {X} \\mathbf {W}_{L} \n",
    "$$\n",
    "\n",
    "Where $ \\mathbf {W}_{L} $ is a p x L matrix, and $\\mathbf {T}_{L}$ is n x L.\n",
    "\n",
    "The principal components are sensitive to the scale of measurement, now to fix this issue we should always standardize variables before applying PCA. Applying PCA to your data set loses its meaning. If interpretability of the results is important for your analysis, PCA is not the right technique for your project."
   ]
  },
  {
   "cell_type": "code",
   "execution_count": null,
   "metadata": {
    "collapsed": true,
    "jupyter": {
     "outputs_hidden": true
    }
   },
   "outputs": [],
   "source": [
    "from ml import learning\n",
    "df_features = learning.read_features_file('resources/F_DR14_ZooSpec_10000.csv')"
   ]
  },
  {
   "cell_type": "code",
   "execution_count": null,
   "metadata": {
    "collapsed": true
   },
   "outputs": [],
   "source": [
    "df_features"
   ]
  },
  {
   "cell_type": "markdown",
   "metadata": {},
   "source": [
    "What is this?"
   ]
  },
  {
   "cell_type": "code",
   "execution_count": null,
   "metadata": {
    "collapsed": true
   },
   "outputs": [],
   "source": [
    "learning.plot_mosaic(df_features.values[:16, :], [4,4], [64, 64])"
   ]
  },
  {
   "cell_type": "code",
   "execution_count": null,
   "metadata": {
    "collapsed": true
   },
   "outputs": [],
   "source": [
    "from sklearn.decomposition import PCA\n",
    "pca = PCA(n_components=256)\n",
    "pca.fit(df_features);"
   ]
  },
  {
   "cell_type": "markdown",
   "metadata": {},
   "source": [
    "What's the quantity of information preserved?"
   ]
  },
  {
   "cell_type": "code",
   "execution_count": null,
   "metadata": {
    "collapsed": true
   },
   "outputs": [],
   "source": [
    "from matplotlib.ticker import FormatStrFormatter\n",
    "\n",
    "fig, ax = plt.subplots(1, 1)\n",
    "\n",
    "ax.semilogy(np.cumsum(pca.explained_variance_ratio_))\n",
    "ax.axhline(y=0.9, color='r')\n",
    "ax.axhline(y=0.95, color='r')\n",
    "ax.axhline(y=0.99, color='r')\n",
    "ax.grid(color='k', linestyle='--')\n",
    "ax.set_xlabel('Number of dimensions')\n",
    "ax.set_ylabel('Quantity of information');\n",
    "for t in (True, False):\n",
    "    vals = ax.get_yticks(minor=t)\n",
    "    ax.set_yticklabels(['{:,.2%}'.format(x) for x in vals], minor=t)"
   ]
  },
  {
   "cell_type": "code",
   "execution_count": null,
   "metadata": {
    "collapsed": true
   },
   "outputs": [],
   "source": [
    "features_PCA = pca.transform(df_features)"
   ]
  },
  {
   "cell_type": "code",
   "execution_count": null,
   "metadata": {
    "collapsed": true
   },
   "outputs": [],
   "source": [
    "features_PCA.shape"
   ]
  },
  {
   "cell_type": "code",
   "execution_count": null,
   "metadata": {
    "collapsed": true
   },
   "outputs": [],
   "source": [
    "learning.plot_mosaic(features_PCA[:16, :], [4,4], [16, 16])"
   ]
  },
  {
   "cell_type": "code",
   "execution_count": null,
   "metadata": {
    "collapsed": true
   },
   "outputs": [],
   "source": [
    "comp = pca.components_\n",
    "learning.plot_mosaic(comp[:16, :], [4,4], [64, 64])"
   ]
  },
  {
   "cell_type": "markdown",
   "metadata": {},
   "source": [
    "# More Material\n",
    "\n",
    "Read scikit-learns's user guide. It's detailed and describes pros and cons of many alogirthms and evaluation criteria.\n",
    "Its also full of code examples.\n",
    "\n",
    "http://scikit-learn.org/stable/user_guide.html\n",
    "\n",
    "Read the book by Hastie (if you're a crazy maths person)\n",
    "\n",
    "http://web.stanford.edu/~hastie/ElemStatLearn/\n",
    "\n",
    "Read this book by James and Hastie (if you're a normal person)\n",
    "\n",
    "http://www-bcf.usc.edu/~gareth/ISL/\n",
    "\n",
    "\n",
    "A nice intro into Deep Learning and Neural Networks\n",
    "\n",
    "http://cs231n.github.io\n",
    "\n"
   ]
  },
  {
   "cell_type": "code",
   "execution_count": null,
   "metadata": {
    "collapsed": true,
    "jupyter": {
     "outputs_hidden": true
    }
   },
   "outputs": [],
   "source": []
  }
 ],
 "metadata": {
  "kernelspec": {
   "display_name": "pythonBootcamp2020",
   "language": "python",
   "name": "pythonbootcamp2020"
  },
  "language_info": {
   "codemirror_mode": {
    "name": "ipython",
    "version": 3
   },
   "file_extension": ".py",
   "mimetype": "text/x-python",
   "name": "python",
   "nbconvert_exporter": "python",
   "pygments_lexer": "ipython3",
   "version": "3.8.6"
  }
 },
 "nbformat": 4,
 "nbformat_minor": 4
}
